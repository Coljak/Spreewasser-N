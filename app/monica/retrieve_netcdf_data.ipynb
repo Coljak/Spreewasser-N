{
 "cells": [
  {
   "cell_type": "code",
   "execution_count": 11,
   "metadata": {},
   "outputs": [],
   "source": [
    "import xarray as xr\n",
    "import netCDF4\n",
    "import numpy as np\n",
    "import dask as da\n",
    "from pathlib import Path\n",
    "from datetime import datetime"
   ]
  },
  {
   "cell_type": "code",
   "execution_count": 14,
   "metadata": {},
   "outputs": [],
   "source": [
    "CLIMATE_VARIABLES = { \n",
    "    '3': 'tasmin',\n",
    "    '4': 'tas',\n",
    "    '5': 'tasmax',\n",
    "    '6': 'pr',\n",
    "    '8': 'rsds',\n",
    "    '9': 'sfcWind',\n",
    "    '12': 'hurs'\n",
    "    }"
   ]
  },
  {
   "cell_type": "code",
   "execution_count": 12,
   "metadata": {},
   "outputs": [],
   "source": [
    "\n",
    "def load_weatherdata():\n",
    "    ls = os.listdir('monica/climate_netcdf/')\n",
    "    for l in ls:\n",
    "        if l.split('.')[-1] != 'nc':\n",
    "            ls.remove(l)\n",
    "\n",
    "    path_list = ['monica/climate_netcdf/' + l for l in ls]\n",
    "    weather_data = xr.open_mfdataset(path_list, combine='by_coords', chunks={'lat': 100, 'lon': 100})\n",
    "    return weather_data\n",
    "\n",
    "\n",
    "\n",
    "def load_netcdf_to_memory():\n",
    "    \"\"\"\n",
    "    Loads all netcdf files of at least the past two years into memory. \n",
    "    This is done to avoid opening and closing the files for each request.\n",
    "    \"\"\"\n",
    "    climate_data_path = './climate_netcdf'\n",
    "\n",
    "    this_year = datetime.now().year\n",
    "    start_year = this_year - 3\n",
    "\n",
    "    path_list = []\n",
    "    for _, value in CLIMATE_VARIABLES.items():\n",
    "\n",
    "        for year in range(start_year, this_year + 1):\n",
    "            file_path = f\"{climate_data_path}/zalf_{value.lower()}_amber_{year}_v1-0.nc\"\n",
    "            path_list.append(file_path)\n",
    "\n",
    "\n",
    "    climate = xr.open_mfdataset(path_list, combine='by_coords')\n",
    "    climate_first_date = climate['time'][0]\n",
    "    climate_last_date = climate['time'][-1]\n",
    "    return climate, climate_first_date, climate_last_date\n",
    "\n",
    "# CLIMATE_DATES = load_netcdf_to_memory()\n",
    "# CLIMATE = CLIMATE_DATES[0]\n",
    "# CLIMATE_FIRST_DATE = CLIMATE_DATES[1]\n",
    "# CLIMATE_LAST_DATE = CLIMATE_DATES[2]\n",
    "\n",
    "# def get_climate_data_as_json_new(start_date, end_date, lat_idx, lon_idx):\n",
    "\n",
    "#     climate_json = {}\n",
    "    \n",
    "#     climate_slice = CLIMATE.sel(time=slice(start_date, end_date)).isel(lat=lat_idx, lon=lon_idx)\n",
    "\n",
    "#     for key, value in CLIMATE_VARIABLES.items():\n",
    "#         climate_json[key] = climate_slice[value].values.tolist()\n",
    "\n",
    "#     return climate_json\n",
    "\n",
    "\n",
    "# used\n",
    "def get_climate_data_as_json(start_date, end_date, lat_idx, lon_idx):\n",
    "    \"\"\"Returns the climate data as json using monica's keys for the given start and end date and the given lat and lon index\"\"\"\n",
    "    print(\"get_climate_data_as_json\", start_date, end_date, lat_idx, lon_idx)\n",
    "\n",
    "    # opening with MFDataset does not work, because time is not an unlimited dimension in the NetCDF files\n",
    "    start = datetime.now()\n",
    "    climate_json = { \n",
    "        '3': [],\n",
    "        '4': [],\n",
    "        '5': [],\n",
    "        '6': [],\n",
    "        '8': [],\n",
    "        '9': [],\n",
    "        '12': [],\n",
    "        }\n",
    "    climate_data_path = Path(__file__).resolve().parent.joinpath('climate_netcdf')\n",
    "\n",
    "    for year in range(start_date.year, end_date.year + 1):\n",
    "        print('climate data for loop', year)\n",
    "        for key, value in CLIMATE_VARIABLES.items():\n",
    "            \n",
    "            file_path = f\"{climate_data_path}/zalf_{value.lower()}_amber_{year}_v1-0.nc\"\n",
    "            print(\"filepath: \", file_path,  \"getting key:\", key)\n",
    "            nc = Dataset(file_path, 'r')\n",
    "            print('climate data check 1')\n",
    "            start_idx = 0\n",
    "            end_idx = len(nc['time']) + 1\n",
    "            if year == start_date.year:\n",
    "                start_idx = date2index(start_date, nc['time'])\n",
    "            if year == end_date.year:\n",
    "                end_idx = date2index(end_date, nc['time']) +1\n",
    "\n",
    "            values = nc.variables[value][start_idx:end_idx, lat_idx, lon_idx]\n",
    "            values = values.tolist()\n",
    "\n",
    "            climate_json[key].extend(values)\n",
    "\n",
    "            nc.close()\n",
    "\n",
    "            print(year, value, key)\n",
    "    print('Time elapsed in get_climate_data_as_json: ', datetime.now() - start)\n",
    "    return climate_json"
   ]
  },
  {
   "cell_type": "code",
   "execution_count": null,
   "metadata": {},
   "outputs": [],
   "source": [
    "CLIMATE_DATES = load_netcdf_to_memory()\n"
   ]
  },
  {
   "cell_type": "code",
   "execution_count": 16,
   "metadata": {},
   "outputs": [],
   "source": [
    "CLIMATE = CLIMATE_DATES[0]\n",
    "CLIMATE_FIRST_DATE = CLIMATE_DATES[1]\n",
    "CLIMATE_LAST_DATE = CLIMATE_DATES[2]"
   ]
  },
  {
   "cell_type": "code",
   "execution_count": 17,
   "metadata": {},
   "outputs": [],
   "source": [
    "start_date = ('2022-01-11')\n",
    "end_date = ('2023-01-11')\n",
    "lat_idx = 200\n",
    "lon_idx = 200"
   ]
  },
  {
   "cell_type": "code",
   "execution_count": 18,
   "metadata": {},
   "outputs": [],
   "source": [
    "climate_slice = CLIMATE.sel(time=slice(start_date, end_date)).isel(lat=lat_idx, lon=lon_idx)"
   ]
  },
  {
   "cell_type": "code",
   "execution_count": null,
   "metadata": {},
   "outputs": [],
   "source": []
  }
 ],
 "metadata": {
  "kernelspec": {
   "display_name": ".menv",
   "language": "python",
   "name": "python3"
  },
  "language_info": {
   "codemirror_mode": {
    "name": "ipython",
    "version": 3
   },
   "file_extension": ".py",
   "mimetype": "text/x-python",
   "name": "python",
   "nbconvert_exporter": "python",
   "pygments_lexer": "ipython3",
   "version": "3.12.3"
  }
 },
 "nbformat": 4,
 "nbformat_minor": 2
}
