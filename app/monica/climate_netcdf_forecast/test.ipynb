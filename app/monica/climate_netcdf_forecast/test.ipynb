{
 "cells": [
  {
   "cell_type": "code",
   "execution_count": 2,
   "metadata": {},
   "outputs": [],
   "source": [
    "import requests\n",
    "from xml.etree import ElementTree\n",
    "from datetime import datetime, date\n",
    "from pathlib import Path\n",
    "import xarray as xr\n",
    "import numpy as np\n",
    "import os\n"
   ]
  },
  {
   "cell_type": "code",
   "execution_count": 4,
   "metadata": {},
   "outputs": [],
   "source": [
    "# Constants\n",
    "BASE_CATALOG_URL = \"https://esgf-data.dwd.de/thredds/catalog/esgf3/data/climatepredictionsde/seasonal/output/public/DE-0075x005/DWD/GCFS21/svhYYYY{month:02}01/sfc{year}{month:02}01/{scenario}/DWD-EPISODES2022/v1-r1/day/{variable}/\"\n",
    "SCENARIOS = ['r1i1p1', 'r2i1p1', 'r3i1p1']\n",
    "# SCENARIOS = ['r1i1p1']\n",
    "VARIABLES = ['hurs', 'pr', 'psl', 'rsds', 'sfcWind', 'tas', 'tasmax', 'tasmin']\n",
    "THREDDS_NAMESPACE = {\"thredds\": \"http://www.unidata.ucar.edu/namespaces/thredds/InvCatalog/v1.0\"}\n"
   ]
  },
  {
   "cell_type": "code",
   "execution_count": 7,
   "metadata": {},
   "outputs": [],
   "source": [
    "local_path = '/home/colja/01_Code/01_SWN/Spreewasser-N/app/monica/climate_netcdf_forecast/'\n"
   ]
  },
  {
   "cell_type": "code",
   "execution_count": 8,
   "metadata": {},
   "outputs": [],
   "source": [
    "for scenario in SCENARIOS:\n",
    "    folder_path = f\"{local_path}/{scenario}/\"\n",
    "    netcdf_paths = [f'{folder_path}/{nc}' for nc in os.listdir(folder_path) if nc.endswith('.nc')]\n",
    "    ds = xr.open_mfdataset(netcdf_paths, combine='by_coords', compat='override')\n",
    "    dates = netcdf_paths[0].split('_')[-1].split('.')[0]\n",
    "    filename = f'forecast_{scenario}_{dates}.nc'\n",
    "    file_path = f\"{local_path}/{filename}\"\n",
    "    ds.to_netcdf(file_path)\n",
    "    ds.close()"
   ]
  },
  {
   "cell_type": "code",
   "execution_count": 10,
   "metadata": {},
   "outputs": [],
   "source": [
    "folder_path = f\"./r1i1p1\"\n",
    "netcdf_paths = [f'{folder_path}/{nc}' for nc in os.listdir(folder_path) if nc.endswith('.nc')]"
   ]
  },
  {
   "cell_type": "code",
   "execution_count": 16,
   "metadata": {},
   "outputs": [
    {
     "data": {
      "text/plain": [
       "'./r1i1p1/hurs_day_GCFS21--DWD-EPISODES2022--DE-0075x005_sfc20250201_r1i1p1_20250201-20250731.nc'"
      ]
     },
     "execution_count": 16,
     "metadata": {},
     "output_type": "execute_result"
    }
   ],
   "source": [
    "netcdf_paths.pop()"
   ]
  },
  {
   "cell_type": "code",
   "execution_count": 17,
   "metadata": {},
   "outputs": [],
   "source": [
    "ds = xr.open_mfdataset(netcdf_paths, combine='by_coords', compat='override')"
   ]
  },
  {
   "cell_type": "code",
   "execution_count": 18,
   "metadata": {},
   "outputs": [
    {
     "data": {
      "text/plain": [
       "['./r1i1p1/pr_day_GCFS21--DWD-EPISODES2022--DE-0075x005_sfc20250201_r1i1p1_20250201-20250731.nc',\n",
       " './r1i1p1/tasmax_day_GCFS21--DWD-EPISODES2022--DE-0075x005_sfc20250201_r1i1p1_20250201-20250731.nc',\n",
       " './r1i1p1/sfcWind_day_GCFS21--DWD-EPISODES2022--DE-0075x005_sfc20250201_r1i1p1_20250201-20250731.nc',\n",
       " './r1i1p1/tasmin_day_GCFS21--DWD-EPISODES2022--DE-0075x005_sfc20250201_r1i1p1_20250201-20250731.nc',\n",
       " './r1i1p1/rsds_day_GCFS21--DWD-EPISODES2022--DE-0075x005_sfc20250201_r1i1p1_20250201-20250731.nc']"
      ]
     },
     "execution_count": 18,
     "metadata": {},
     "output_type": "execute_result"
    }
   ],
   "source": [
    "netcdf_paths"
   ]
  },
  {
   "cell_type": "code",
   "execution_count": null,
   "metadata": {},
   "outputs": [],
   "source": []
  }
 ],
 "metadata": {
  "kernelspec": {
   "display_name": ".menv",
   "language": "python",
   "name": "python3"
  },
  "language_info": {
   "codemirror_mode": {
    "name": "ipython",
    "version": 3
   },
   "file_extension": ".py",
   "mimetype": "text/x-python",
   "name": "python",
   "nbconvert_exporter": "python",
   "pygments_lexer": "ipython3",
   "version": "3.12.3"
  }
 },
 "nbformat": 4,
 "nbformat_minor": 2
}
