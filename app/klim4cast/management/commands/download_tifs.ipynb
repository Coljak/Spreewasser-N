{
 "cells": [
  {
   "cell_type": "code",
   "execution_count": 69,
   "metadata": {},
   "outputs": [],
   "source": [
    "import os\n",
    "from datetime import datetime, timedelta\n",
    "from ftplib import FTP\n",
    "import paramiko\n",
    "import stat\n",
    "import logging\n",
    "# from django.core.management.base import BaseCommand\n",
    "from klim4cast_server_settings import sftp_server, sftp_user, sft_port, sftp_password"
   ]
  },
  {
   "cell_type": "code",
   "execution_count": 70,
   "metadata": {},
   "outputs": [],
   "source": [
    "logging.basicConfig(\n",
    "    filename='ftp_download.log',\n",
    "    level=logging.INFO,\n",
    "    format='%(asctime)s - %(message)s'\n",
    ")"
   ]
  },
  {
   "cell_type": "code",
   "execution_count": 79,
   "metadata": {},
   "outputs": [],
   "source": [
    "def download_directory(sftp, remote_dir, local_dir):\n",
    "    \"\"\"\n",
    "    The data on the ftp server is organized in directories in the /data folder.\n",
    "    The directories are named with the iso dates. This function takes as input the sftp connection, \n",
    "    the remote directory (e.g. 'data/2024-06-30') and the local path where the data should be downloaded to ('./../../data/chech_globe_data/<ISO-date>).\n",
    "    \"\"\"\n",
    "    for entry in sftp.listdir_attr(remote_dir):\n",
    "        remote_path = f\"{remote_dir}/{entry.filename}\"\n",
    "        local_path = os.path.join(local_dir, entry.filename)\n",
    "        if stat.S_ISDIR(entry.st_mode):\n",
    "            os.makedirs(local_path, exist_ok=True)\n",
    "            download_directory(sftp, remote_path, local_path)\n",
    "        else:\n",
    "            sftp.get(remote_path, local_path)\n"
   ]
  },
  {
   "cell_type": "code",
   "execution_count": 97,
   "metadata": {},
   "outputs": [],
   "source": [
    "download_directory(sftp, 'data/2024-06-30', './../../data/chech_globe_data/2024-06-30')"
   ]
  },
  {
   "cell_type": "code",
   "execution_count": 71,
   "metadata": {},
   "outputs": [],
   "source": [
    "def is_iso_date(filename):\n",
    "    \"\"\"\n",
    "    Checks if a string is a valid ISO 8601 date\n",
    "    \"\"\"\n",
    "    try:\n",
    "        datetime.fromisoformat(filename)\n",
    "        return True\n",
    "    except ValueError:\n",
    "        return False"
   ]
  },
  {
   "cell_type": "code",
   "execution_count": 94,
   "metadata": {},
   "outputs": [],
   "source": [
    "def list_dates(sftp):\n",
    "    \"\"\"\n",
    "    List all the dates in the 'data' directory on the sftp server\n",
    "    \"\"\"    \n",
    "    file_paths = []\n",
    "    dates = []\n",
    "    sftp_list = sftp.listdir_attr('data')\n",
    "    for file in sftp_list:\n",
    "        if stat.S_ISDIR(file.st_mode) and is_iso_date(file.filename):\n",
    "            dates.append(file.filename)\n",
    "            \n",
    "    dates = list_dates(sftp)\n",
    "    latest_date = sorted(dates)[-1]\n",
    "\n",
    "    return dates, latest_date"
   ]
  },
  {
   "cell_type": "code",
   "execution_count": 95,
   "metadata": {},
   "outputs": [],
   "source": [
    "def main():\n",
    "    \"\"\"\n",
    "    Connect to the CheckGlobe FTP server and download the latest data.\n",
    "    Creation of NetCDF file from downloaded tif files.\n",
    "    \"\"\"\n",
    "\n",
    "    try:\n",
    "        transport = paramiko.Transport((sftp_server, sft_port))\n",
    "        transport.connect(username=sftp_user, password=sftp_password)\n",
    "        sftp = paramiko.SFTPClient.from_transport(transport)\n",
    "        print(\"Connection successfully established ...\")\n",
    "\n",
    "        dates, latest_date = list_dates(sftp)\n",
    "\n",
    "        local_dirs = os.listdir('./../../data/chech_globe_data')\n",
    "        if local_dirs[-1] < latest_date:\n",
    "            try:\n",
    "                remote_dir = f\"data/{latest_date}\"\n",
    "                local_dir = f\"./../../data/chech_globe_data/{latest_date}\"\n",
    "                download_directory(sftp, remote_dir, local_dir)\n",
    "            except Exception as e:\n",
    "                print(e)\n",
    "                print(\"Download from CheckGlobe FTP failed ...\")\n",
    "                os.rmdir(local_dir)\n",
    "            finally:\n",
    "            # Close the SFTP connection\n",
    "                sftp.close()\n",
    "                transport.close()\n",
    "                print(\"CheckGlobe FTP Connection closed ...\")\n",
    "    except Exception as e:\n",
    "        print(e)\n",
    "        print(\"Connection to CheckGlobe FTP failed ...\")\n",
    "        \n",
    "                \n",
    "\n",
    "\n"
   ]
  },
  {
   "cell_type": "code",
   "execution_count": 120,
   "metadata": {},
   "outputs": [
    {
     "ename": "NameError",
     "evalue": "name '__file__' is not defined",
     "output_type": "error",
     "traceback": [
      "\u001b[0;31m---------------------------------------------------------------------------\u001b[0m",
      "\u001b[0;31mNameError\u001b[0m                                 Traceback (most recent call last)",
      "Cell \u001b[0;32mIn[120], line 1\u001b[0m\n\u001b[0;32m----> 1\u001b[0m local_dir \u001b[38;5;241m=\u001b[39m os\u001b[38;5;241m.\u001b[39mpath\u001b[38;5;241m.\u001b[39mdirname(os\u001b[38;5;241m.\u001b[39mpath\u001b[38;5;241m.\u001b[39mdirname(os\u001b[38;5;241m.\u001b[39mpath\u001b[38;5;241m.\u001b[39mabspath(\u001b[38;5;18;43m__file__\u001b[39;49m)))\n\u001b[1;32m      2\u001b[0m \u001b[38;5;66;03m# chech_globe_dir = os.path.abspath.join(local_dir, 'data', 'check_globe_data')\u001b[39;00m\n",
      "\u001b[0;31mNameError\u001b[0m: name '__file__' is not defined"
     ]
    }
   ],
   "source": [
    "local_dir = os.path.dirname(os.path.dirname(os.path.abspath(__file__)))\n",
    "# chech_globe_dir = os.path.abspath.join(local_dir, 'data', 'check_globe_data')"
   ]
  }
 ],
 "metadata": {
  "language_info": {
   "name": "python"
  }
 },
 "nbformat": 4,
 "nbformat_minor": 2
}
