{
 "cells": [
  {
   "cell_type": "markdown",
   "metadata": {},
   "source": [
    "This code produces a polygon from the DWD 1x1km grid."
   ]
  },
  {
   "cell_type": "code",
   "execution_count": 27,
   "metadata": {},
   "outputs": [],
   "source": [
    "from netCDF4 import Dataset, MFDataset\n",
    "import numpy as np\n",
    "from datetime import datetime, timedelta\n",
    "from cftime import num2date, date2num, date2index\n",
    "import geopandas as gpd\n",
    "from shapely.geometry import Polygon\n",
    "from climate_data.lat_lon_mask import lat_lon_mask as mask"
   ]
  },
  {
   "cell_type": "code",
   "execution_count": 28,
   "metadata": {},
   "outputs": [],
   "source": [
    "nc = Dataset('climate_netcdf/zalf_tasmin_amber_2021_v1-0.nc', 'r')"
   ]
  },
  {
   "cell_type": "code",
   "execution_count": 29,
   "metadata": {},
   "outputs": [],
   "source": [
    "lats = np.array(mask['lat'])\n",
    "lons = np.array(mask['lon'])"
   ]
  },
  {
   "cell_type": "code",
   "execution_count": 30,
   "metadata": {},
   "outputs": [],
   "source": [
    "lat_diffs = np.abs(np.diff(lats))\n",
    "lon_diffs = np.abs(np.diff(lons))"
   ]
  },
  {
   "cell_type": "code",
   "execution_count": 31,
   "metadata": {},
   "outputs": [],
   "source": [
    "lat_cell_size = np.mean(lat_diffs)\n",
    "lon_cell_size = np.mean(lon_diffs)"
   ]
  },
  {
   "cell_type": "code",
   "execution_count": 32,
   "metadata": {},
   "outputs": [],
   "source": [
    "polygons = []\n",
    "data=[]"
   ]
  },
  {
   "cell_type": "code",
   "execution_count": 33,
   "metadata": {},
   "outputs": [],
   "source": [
    "for i in range(len(lats)):\n",
    "    for j in range(len(lons)):\n",
    "        if mask['mask'][i][j]:\n",
    "            lat1 = lats[i] + lat_cell_size / 2\n",
    "            lat2 = lats[i] - lat_cell_size / 2\n",
    "            lon1 = lons[j] - lon_cell_size / 2\n",
    "            lon2 = lons[j] + lon_cell_size / 2\n",
    "            polygons.append(Polygon([(lon1, lat1), (lon2, lat1), (lon2, lat2), (lon1, lat2)]))\n",
    "\n",
    "            data.append({\n",
    "            'lat': lats[i],\n",
    "            'lon': lons[j],\n",
    "            'lat_idx': i,\n",
    "            'lon_idx': j\n",
    "        })\n",
    "        else:\n",
    "            continue"
   ]
  },
  {
   "cell_type": "code",
   "execution_count": 34,
   "metadata": {},
   "outputs": [],
   "source": [
    "gdf = gpd.GeoDataFrame(data, geometry=polygons)\n",
    "gdf.crs = 'EPSG:4326'  # Set the coordinate reference system to WGS84\n",
    "\n",
    "# Save to GeoJSON\n",
    "gdf.to_file('raster_polygons.geojson', driver='GeoJSON')\n",
    "\n",
    "# Optionally, save to Shapefile\n",
    "gdf.to_file('raster_polygons.shp')"
   ]
  },
  {
   "cell_type": "code",
   "execution_count": null,
   "metadata": {},
   "outputs": [],
   "source": []
  }
 ],
 "metadata": {
  "kernelspec": {
   "display_name": ".venv",
   "language": "python",
   "name": "python3"
  },
  "language_info": {
   "codemirror_mode": {
    "name": "ipython",
    "version": 3
   },
   "file_extension": ".py",
   "mimetype": "text/x-python",
   "name": "python",
   "nbconvert_exporter": "python",
   "pygments_lexer": "ipython3",
   "version": "3.11.5"
  }
 },
 "nbformat": 4,
 "nbformat_minor": 2
}
