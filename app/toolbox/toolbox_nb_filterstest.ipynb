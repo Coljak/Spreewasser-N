{
 "cells": [
  {
   "cell_type": "markdown",
   "metadata": {},
   "source": [
    "In  a docker terminal run\n",
    "jupyter notebook --ip=0.0.0.0 --port=8888 --no-browser --allow-root\n",
    "\n",
    "then open jupyter in the printed link (such as http://127.0.0.1:8888/tree?token=4d9d578397aede50fc5bd2d92794b562a6bbcbc73b2dfe51)\n",
    "\n",
    "CODE HERE, REFRESH AND EXECUTE IN THE BROWSER"
   ]
  },
  {
   "cell_type": "code",
   "execution_count": 1,
   "metadata": {},
   "outputs": [],
   "source": [
    "import os\n",
    "import sys\n",
    "import django\n",
    "\n",
    "os.environ[\"DJANGO_ALLOW_ASYNC_UNSAFE\"] = \"true\"\n"
   ]
  },
  {
   "cell_type": "code",
   "execution_count": 2,
   "metadata": {},
   "outputs": [],
   "source": [
    "sys.path.append('/app')\n",
    "\n",
    "os.environ['DJANGO_SETTINGS_MODULE'] = 'app.settings'\n",
    "os.environ['PYTHONPATH'] = '/app'\n",
    "\n",
    "django.setup()"
   ]
  },
  {
   "cell_type": "code",
   "execution_count": 3,
   "metadata": {},
   "outputs": [],
   "source": [
    "from toolbox import models\n",
    "from toolbox import views\n",
    "from django.forms.models import model_to_dict\n",
    "import numpy as np\n",
    "import json\n",
    "from django.contrib.gis.geos import GEOSGeometry, Polygon, MultiPolygon\n",
    "from django.db.models import Q\n",
    "from buek import models as b_m"
   ]
  },
  {
   "cell_type": "code",
   "execution_count": 4,
   "metadata": {},
   "outputs": [],
   "source": [
    "user_field_id = 63\n",
    "pr = {\n",
    "    \"id\": None,\n",
    "    \"userField\": 63,\n",
    "    \"gek_priority\": \"4\",\n",
    "    \"gek_costs_max\": \"3715774\",\n",
    "    \"gek_costs_min\": \"898036\",\n",
    "    \"gek_landuse\": [\n",
    "        \"52\",\n",
    "        \"53\",\n",
    "        \"64\"\n",
    "    ],\n",
    "    \"all_sieker_gek_ids\": [\n",
    "        5,\n",
    "        6,\n",
    "        90,\n",
    "        2,\n",
    "        3,\n",
    "        83,\n",
    "        118,\n",
    "        117,\n",
    "        119\n",
    "    ],\n",
    "    \"selected_sieker_geks\": [],\n",
    "    \"all_sieker_gek_measure_ids\": [],\n",
    "    \"selected_sieker_gek_measures\": []\n",
    "}"
   ]
  },
  {
   "cell_type": "code",
   "execution_count": 5,
   "metadata": {},
   "outputs": [],
   "source": [
    "project = {\n",
    "    \"id\": None,\n",
    "    \"userField\": 63,\n",
    "    \"gek_priority\": \"8\",\n",
    "    \"gek_landuse\": [\n",
    "        \"53\",\n",
    "        \"64\"\n",
    "    ],\n",
    "    \"all_sieker_gek_ids\": [\n",
    "        5,\n",
    "        6,\n",
    "        90,\n",
    "        2,\n",
    "        3,\n",
    "        83,\n",
    "        118,\n",
    "        117,\n",
    "        119\n",
    "    ],\n",
    "    \"selected_sieker_geks\": [\n",
    "        5,\n",
    "        6,\n",
    "        90,\n",
    "        2,\n",
    "        3,\n",
    "        83,\n",
    "        118,\n",
    "        117,\n",
    "        119\n",
    "    ],\n",
    "    \"all_sieker_gek_measure_ids\": [],\n",
    "    \"selected_sieker_gek_measures\": [],\n",
    "    \"gek_costs_min\": \"898036\",\n",
    "    \"gek_costs_max\": \"3715774\"\n",
    "}"
   ]
  },
  {
   "cell_type": "code",
   "execution_count": 6,
   "metadata": {},
   "outputs": [],
   "source": [
    "user_field = models.UserField.objects.get(pk=63)"
   ]
  },
  {
   "cell_type": "code",
   "execution_count": 7,
   "metadata": {},
   "outputs": [],
   "source": [
    "geks = models.GekRetention.objects.filter(Q(geom4326__intersects=user_field.geom) | Q(geom4326__within=user_field.geom))"
   ]
  },
  {
   "cell_type": "code",
   "execution_count": 8,
   "metadata": {},
   "outputs": [
    {
     "data": {
      "text/plain": [
       "<QuerySet [5, 6, 90, 2, 3, 83, 118, 117, 119]>"
      ]
     },
     "execution_count": 8,
     "metadata": {},
     "output_type": "execute_result"
    }
   ],
   "source": [
    "geks.values_list('id', flat=True)\n"
   ]
  },
  {
   "cell_type": "code",
   "execution_count": 9,
   "metadata": {},
   "outputs": [],
   "source": [
    "landuses = models.GekLanduse.objects.filter(Q(gek_retention__in=geks) & Q(clc_landuse__id__in=project['gek_landuse']))"
   ]
  },
  {
   "cell_type": "code",
   "execution_count": 10,
   "metadata": {},
   "outputs": [
    {
     "data": {
      "text/plain": [
       "<QuerySet [(59, 6, 'Laubwald, Wiesen, Ackerland, städt. Prägung', '11', 64, 36105.1371442056, 3477.4719281814464, 0.09631515632504764), (35, 6, 'Laubwald, Wiesen, Ackerland, städt. Prägung', '31', 53, 36105.1371442056, 7544.156886476218, 0.2089496809372169), (52, 2, 'Ackerland, Grünfläche', '11', 64, 122476.1799980161, 3754.318534756101, 0.03065345877718357), (272, 83, 'Wiese und Weide', '11', 64, 7630.582087049749, 17.36292581515837, 0.0022754392282373684), (257, 117, 'Wiese und Weide, Acker', '31', 53, 9499.855094449507, 116.67765531726569, 0.012282045795144506), (29, 117, 'Wiese und Weide, Acker', '11', 64, 9499.855094449507, 97.7688154853822, 0.010291611241786805), (206, 119, 'Wiese und Weide', '11', 64, 10835.980648107761, 1741.6380917242723, 0.1607273165468791)]>"
      ]
     },
     "execution_count": 10,
     "metadata": {},
     "output_type": "execute_result"
    }
   ],
   "source": [
    "landuses.values_list()"
   ]
  },
  {
   "cell_type": "code",
   "execution_count": 11,
   "metadata": {},
   "outputs": [],
   "source": [
    "geks = models.GekRetention.objects.filter(landuses__in=landuses).distinct()"
   ]
  },
  {
   "cell_type": "code",
   "execution_count": 12,
   "metadata": {},
   "outputs": [
    {
     "data": {
      "text/plain": [
       "<QuerySet [2, 6, 83, 117, 119]>"
      ]
     },
     "execution_count": 12,
     "metadata": {},
     "output_type": "execute_result"
    }
   ],
   "source": [
    "geks.values_list('id', flat=True)"
   ]
  },
  {
   "cell_type": "code",
   "execution_count": 13,
   "metadata": {},
   "outputs": [
    {
     "data": {
      "text/plain": [
       "['53', '64']"
      ]
     },
     "execution_count": 13,
     "metadata": {},
     "output_type": "execute_result"
    }
   ],
   "source": [
    "project['gek_landuse']"
   ]
  },
  {
   "cell_type": "code",
   "execution_count": 14,
   "metadata": {},
   "outputs": [],
   "source": [
    "def add_range_filter(filters, obj, field,  model_field=None):\n",
    "    print(obj)\n",
    "    model_field = model_field or field\n",
    "    min_val = obj.get(f'{field}_min')\n",
    "    max_val = obj.get(f'{field}_max')\n",
    "\n",
    "    print(min_val, max_val)\n",
    "\n",
    "    if min_val is not None:\n",
    "        if model_field == 'index_soil':\n",
    "            min_val = float(min_val) / 100\n",
    "        else:\n",
    "            min_val = float(min_val)\n",
    "        filters &= Q(**{f\"{model_field}__gte\": min_val})\n",
    "    if max_val is not None:\n",
    "        if model_field == 'index_soil':\n",
    "            max_val = float(max_val) / 100\n",
    "        else:\n",
    "            max_val = float(max_val)\n",
    "        filters &= Q(**{f\"{model_field}__lte\": max_val})\n",
    "\n",
    "    return filters"
   ]
  },
  {
   "cell_type": "code",
   "execution_count": 15,
   "metadata": {},
   "outputs": [
    {
     "data": {
      "text/plain": [
       "<Q: (AND: )>"
      ]
     },
     "execution_count": 15,
     "metadata": {},
     "output_type": "execute_result"
    }
   ],
   "source": [
    "Q()"
   ]
  },
  {
   "cell_type": "code",
   "execution_count": null,
   "metadata": {},
   "outputs": [],
   "source": []
  },
  {
   "cell_type": "code",
   "execution_count": 16,
   "metadata": {},
   "outputs": [],
   "source": [
    "filters = Q(priority__priority_level__gte=project['gek_priority'])"
   ]
  },
  {
   "cell_type": "code",
   "execution_count": 17,
   "metadata": {},
   "outputs": [
    {
     "name": "stdout",
     "output_type": "stream",
     "text": [
      "{'id': None, 'userField': 63, 'gek_priority': '8', 'gek_landuse': ['53', '64'], 'all_sieker_gek_ids': [5, 6, 90, 2, 3, 83, 118, 117, 119], 'selected_sieker_geks': [5, 6, 90, 2, 3, 83, 118, 117, 119], 'all_sieker_gek_measure_ids': [], 'selected_sieker_gek_measures': [], 'gek_costs_min': '898036', 'gek_costs_max': '3715774'}\n",
      "898036 3715774\n"
     ]
    }
   ],
   "source": [
    "filters = add_range_filter(filters, project, 'gek_costs', 'costs')"
   ]
  },
  {
   "cell_type": "raw",
   "metadata": {},
   "source": [
    "filters"
   ]
  },
  {
   "cell_type": "code",
   "execution_count": 17,
   "metadata": {},
   "outputs": [],
   "source": [
    "measures = models.GekRetentionMeasure.objects.filter(\n",
    "            gek_retention__in=geks\n",
    "        )"
   ]
  },
  {
   "cell_type": "code",
   "execution_count": 18,
   "metadata": {},
   "outputs": [
    {
     "data": {
      "text/plain": [
       "20"
      ]
     },
     "execution_count": 18,
     "metadata": {},
     "output_type": "execute_result"
    }
   ],
   "source": [
    "measures.count()"
   ]
  },
  {
   "cell_type": "code",
   "execution_count": 18,
   "metadata": {},
   "outputs": [],
   "source": [
    "measures = models.GekRetentionMeasure.objects.filter(\n",
    "            gek_retention__in=geks\n",
    "        ).filter(filters)"
   ]
  },
  {
   "cell_type": "code",
   "execution_count": 19,
   "metadata": {},
   "outputs": [
    {
     "data": {
      "text/plain": [
       "<QuerySet [(157, 6, 72, 3.0, 'Totholz zur Strömungs- und Substratdiversität fest einbauen, Initialgerinne für Neutrassierung', 1, '2.775.000', 2775000, 4)]>"
      ]
     },
     "execution_count": 19,
     "metadata": {},
     "output_type": "execute_result"
    }
   ],
   "source": [
    "measures.values_list()"
   ]
  },
  {
   "cell_type": "code",
   "execution_count": 20,
   "metadata": {},
   "outputs": [],
   "source": [
    "geks = models.GekRetention.objects.filter(measures__in=measures).distinct()"
   ]
  },
  {
   "cell_type": "code",
   "execution_count": 21,
   "metadata": {},
   "outputs": [
    {
     "data": {
      "text/plain": [
       "<QuerySet [(6, <Polygon object at 0x7faa04a05f10>, <Polygon object at 0x7faa04a05f90>, <Point object at 0x7faa04a06010>, 'Lichtenower Mühlenfließ', 'Laubwald, Wiesen, Ackerland, städt. Prägung', 'GEK', 'DEM', 'Wasser- und Bodenverband Stöbber-Erpe', 'LMF_05', 'Bundesanstalt für Gewässerkunde', 2, 15, '20.11.2024')]>"
      ]
     },
     "execution_count": 21,
     "metadata": {},
     "output_type": "execute_result"
    }
   ],
   "source": [
    "geks.values_list()"
   ]
  },
  {
   "cell_type": "code",
   "execution_count": 22,
   "metadata": {},
   "outputs": [
    {
     "data": {
      "text/plain": [
       "<QuerySet [<GekRetentionMeasure: GekRetentionMeasure object (157)>]>"
      ]
     },
     "execution_count": 22,
     "metadata": {},
     "output_type": "execute_result"
    }
   ],
   "source": [
    "measures.filter(gek_retention=geks[0])\n"
   ]
  },
  {
   "cell_type": "code",
   "execution_count": 23,
   "metadata": {},
   "outputs": [
    {
     "data": {
      "text/plain": [
       "{'gek_measure': 'Maßnahmen zur Habitatverbesserung im Gewässer durch Laufveränderung, Ufer- oder Sohlgestaltung inkl. Begleitender Maßnahmen',\n",
       " 'quantity': 3.0,\n",
       " 'description_de': 'Totholz zur Strömungs- und Substratdiversität fest einbauen, Initialgerinne für Neutrassierung',\n",
       " 'priority': 1,\n",
       " 'kosten': '2.775.000',\n",
       " 'costs': 2775000,\n",
       " 'measure_number': 4}"
      ]
     },
     "execution_count": 23,
     "metadata": {},
     "output_type": "execute_result"
    }
   ],
   "source": [
    "measures[0].to_dict(language='de')"
   ]
  },
  {
   "cell_type": "code",
   "execution_count": 25,
   "metadata": {},
   "outputs": [
    {
     "data": {
      "text/plain": [
       "{'name': 'Lichtenower Mühlenfließ',\n",
       " 'quelle_1': 'GEK',\n",
       " 'quelle_2': 'DEM',\n",
       " 'association': 'Wasser- und Bodenverband Stöbber-Erpe',\n",
       " 'planning_segment': 'LMF_05',\n",
       " 'hrsg': 'Bundesanstalt für Gewässerkunde',\n",
       " 'gek_document': 'https://www.wasserblick.net/servlet/is/134504/',\n",
       " 'number_of_measures': 15}"
      ]
     },
     "execution_count": 25,
     "metadata": {},
     "output_type": "execute_result"
    }
   ],
   "source": [
    "geks[0].to_dict()"
   ]
  },
  {
   "cell_type": "code",
   "execution_count": 26,
   "metadata": {},
   "outputs": [
    {
     "data": {
      "text/plain": [
       "[{'gek_measure': 'Maßnahmen zur Habitatverbesserung im Gewässer durch Laufveränderung, Ufer- oder Sohlgestaltung inkl. Begleitender Maßnahmen',\n",
       "  'quantity': 3.0,\n",
       "  'description_de': 'Totholz zur Strömungs- und Substratdiversität fest einbauen, Initialgerinne für Neutrassierung',\n",
       "  'priority': 1,\n",
       "  'kosten': '2.775.000',\n",
       "  'costs': 2775000,\n",
       "  'measure_number': 4}]"
      ]
     },
     "execution_count": 26,
     "metadata": {},
     "output_type": "execute_result"
    }
   ],
   "source": [
    "[m.to_dict() for m in measures]"
   ]
  },
  {
   "cell_type": "code",
   "execution_count": 29,
   "metadata": {},
   "outputs": [
    {
     "data": {
      "text/plain": [
       "[{'gek_measure': 'Maßnahmen zur Habitatverbesserung im Gewässer durch Laufveränderung, Ufer- oder Sohlgestaltung inkl. Begleitender Maßnahmen',\n",
       "  'quantity': 3.0,\n",
       "  'description_de': 'Totholz zur Strömungs- und Substratdiversität fest einbauen, Initialgerinne für Neutrassierung',\n",
       "  'priority': 1,\n",
       "  'kosten': '2.775.000',\n",
       "  'costs': 2775000,\n",
       "  'measure_number': 4}]"
      ]
     },
     "execution_count": 29,
     "metadata": {},
     "output_type": "execute_result"
    }
   ],
   "source": [
    "[m.to_dict() for m in measures if m.gek_retention == geks[0]] "
   ]
  },
  {
   "cell_type": "code",
   "execution_count": null,
   "metadata": {},
   "outputs": [],
   "source": []
  }
 ],
 "metadata": {
  "kernelspec": {
   "display_name": "Python 3 (ipykernel)",
   "language": "python",
   "name": "python3"
  },
  "language_info": {
   "codemirror_mode": {
    "name": "ipython",
    "version": 3
   },
   "file_extension": ".py",
   "mimetype": "text/x-python",
   "name": "python",
   "nbconvert_exporter": "python",
   "pygments_lexer": "ipython3",
   "version": "3.10.12"
  }
 },
 "nbformat": 4,
 "nbformat_minor": 4
}
