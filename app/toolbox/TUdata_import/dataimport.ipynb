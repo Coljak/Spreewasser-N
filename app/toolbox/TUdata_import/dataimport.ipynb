{
 "cells": [
  {
   "cell_type": "markdown",
   "id": "0ebbe884",
   "metadata": {},
   "source": [
    "In  a docker terminal run\n",
    "jupyter notebook --ip=0.0.0.0 --port=8888 --no-browser --allow-root\n",
    "\n",
    "then open jupyter in the printed link (such as http://127.0.0.1:8888/tree?token=4d9d578397aede50fc5bd2d92794b562a6bbcbc73b2dfe51)\n",
    "\n",
    "CODE HERE, REFRESH AND EXECUTE IN THE BROWSER"
   ]
  },
  {
   "cell_type": "code",
   "execution_count": 1,
   "id": "f5881872",
   "metadata": {},
   "outputs": [],
   "source": [
    "import os\n",
    "import sys\n",
    "import django\n",
    "\n",
    "os.environ[\"DJANGO_ALLOW_ASYNC_UNSAFE\"] = \"true\"\n"
   ]
  },
  {
   "cell_type": "code",
   "execution_count": 2,
   "id": "3e08e70c",
   "metadata": {},
   "outputs": [],
   "source": [
    "sys.path.append('/app')\n",
    "\n",
    "os.environ['DJANGO_SETTINGS_MODULE'] = 'app.settings'\n",
    "os.environ['PYTHONPATH'] = '/app'\n",
    "\n",
    "django.setup()"
   ]
  },
  {
   "cell_type": "code",
   "execution_count": 3,
   "id": "7eb8b5fc",
   "metadata": {},
   "outputs": [],
   "source": [
    "from toolbox import models\n",
    "from django.contrib.gis.geos import Point, Polygon, GEOSGeometry\n",
    "import pandas as pd\n",
    "import os"
   ]
  },
  {
   "cell_type": "code",
   "execution_count": 48,
   "id": "eac4e9c4",
   "metadata": {},
   "outputs": [
    {
     "data": {
      "text/html": [
       "<div>\n",
       "<style scoped>\n",
       "    .dataframe tbody tr th:only-of-type {\n",
       "        vertical-align: middle;\n",
       "    }\n",
       "\n",
       "    .dataframe tbody tr th {\n",
       "        vertical-align: top;\n",
       "    }\n",
       "\n",
       "    .dataframe thead th {\n",
       "        text-align: right;\n",
       "    }\n",
       "</style>\n",
       "<table border=\"1\" class=\"dataframe\">\n",
       "  <thead>\n",
       "    <tr style=\"text-align: right;\">\n",
       "      <th></th>\n",
       "      <th>Datum</th>\n",
       "      <th>Prüfix</th>\n",
       "      <th>Wasserstand [m]</th>\n",
       "      <th>Hinweise</th>\n",
       "    </tr>\n",
       "  </thead>\n",
       "  <tbody>\n",
       "    <tr>\n",
       "      <th>0</th>\n",
       "      <td>01.11.1970</td>\n",
       "      <td>NaN</td>\n",
       "      <td>65,39</td>\n",
       "      <td>Geprüft</td>\n",
       "    </tr>\n",
       "    <tr>\n",
       "      <th>1</th>\n",
       "      <td>02.11.1970</td>\n",
       "      <td>NaN</td>\n",
       "      <td>65,39</td>\n",
       "      <td>Geprüft</td>\n",
       "    </tr>\n",
       "    <tr>\n",
       "      <th>2</th>\n",
       "      <td>03.11.1970</td>\n",
       "      <td>NaN</td>\n",
       "      <td>65,41</td>\n",
       "      <td>Geprüft</td>\n",
       "    </tr>\n",
       "    <tr>\n",
       "      <th>3</th>\n",
       "      <td>04.11.1970</td>\n",
       "      <td>NaN</td>\n",
       "      <td>65,41</td>\n",
       "      <td>Geprüft</td>\n",
       "    </tr>\n",
       "    <tr>\n",
       "      <th>4</th>\n",
       "      <td>05.11.1970</td>\n",
       "      <td>NaN</td>\n",
       "      <td>65,41</td>\n",
       "      <td>Geprüft</td>\n",
       "    </tr>\n",
       "    <tr>\n",
       "      <th>...</th>\n",
       "      <td>...</td>\n",
       "      <td>...</td>\n",
       "      <td>...</td>\n",
       "      <td>...</td>\n",
       "    </tr>\n",
       "    <tr>\n",
       "      <th>19755</th>\n",
       "      <td>31.01.2025</td>\n",
       "      <td>NaN</td>\n",
       "      <td>64,21</td>\n",
       "      <td>Ungeprüft</td>\n",
       "    </tr>\n",
       "    <tr>\n",
       "      <th>19756</th>\n",
       "      <td>01.02.2025</td>\n",
       "      <td>NaN</td>\n",
       "      <td>64,21</td>\n",
       "      <td>Ungeprüft</td>\n",
       "    </tr>\n",
       "    <tr>\n",
       "      <th>19757</th>\n",
       "      <td>02.02.2025</td>\n",
       "      <td>NaN</td>\n",
       "      <td>64,21</td>\n",
       "      <td>Ungeprüft</td>\n",
       "    </tr>\n",
       "    <tr>\n",
       "      <th>19758</th>\n",
       "      <td>03.02.2025</td>\n",
       "      <td>NaN</td>\n",
       "      <td>64,21</td>\n",
       "      <td>Ungeprüft</td>\n",
       "    </tr>\n",
       "    <tr>\n",
       "      <th>19759</th>\n",
       "      <td>04.02.2025</td>\n",
       "      <td>NaN</td>\n",
       "      <td>64,21</td>\n",
       "      <td>Ungeprüft</td>\n",
       "    </tr>\n",
       "  </tbody>\n",
       "</table>\n",
       "<p>19760 rows × 4 columns</p>\n",
       "</div>"
      ],
      "text/plain": [
       "            Datum  Prüfix Wasserstand [m]   Hinweise\n",
       "0      01.11.1970     NaN           65,39    Geprüft\n",
       "1      02.11.1970     NaN           65,39    Geprüft\n",
       "2      03.11.1970     NaN           65,41    Geprüft\n",
       "3      04.11.1970     NaN           65,41    Geprüft\n",
       "4      05.11.1970     NaN           65,41    Geprüft\n",
       "...           ...     ...             ...        ...\n",
       "19755  31.01.2025     NaN           64,21  Ungeprüft\n",
       "19756  01.02.2025     NaN           64,21  Ungeprüft\n",
       "19757  02.02.2025     NaN           64,21  Ungeprüft\n",
       "19758  03.02.2025     NaN           64,21  Ungeprüft\n",
       "19759  04.02.2025     NaN           64,21  Ungeprüft\n",
       "\n",
       "[19760 rows x 4 columns]"
      ]
     },
     "execution_count": 48,
     "metadata": {},
     "output_type": "execute_result"
    }
   ],
   "source": [
    "csv = pd.read_csv('/app/toolbox/TUdata_import/LfU/Strausberg_faehre/messreihen.csv', delimiter=';')\n",
    "csv"
   ]
  },
  {
   "cell_type": "code",
   "execution_count": 139,
   "id": "47462005-5340-4600-aae1-0ff4ee0333c4",
   "metadata": {},
   "outputs": [
    {
     "data": {
      "text/plain": [
       "str"
      ]
     },
     "execution_count": 139,
     "metadata": {},
     "output_type": "execute_result"
    }
   ],
   "source": [
    "type(csv.iloc[:1, 0][0])"
   ]
  },
  {
   "cell_type": "code",
   "execution_count": 140,
   "id": "86edefe9",
   "metadata": {},
   "outputs": [
    {
     "data": {
      "text/plain": [
       "39.588"
      ]
     },
     "execution_count": 140,
     "metadata": {},
     "output_type": "execute_result"
    }
   ],
   "source": [
    "absolute_elevation_of_sensor_m = float(pd.unique(csv.iloc[:, 3])[0].replace(',','.'))\n",
    "absolute_elevation_of_sensor_m"
   ]
  },
  {
   "cell_type": "code",
   "execution_count": 45,
   "id": "637e0062-f897-45df-85a8-cbcb10daf7ee",
   "metadata": {},
   "outputs": [],
   "source": [
    "pt = Point(424066, 5825789, srid=25833)"
   ]
  },
  {
   "cell_type": "code",
   "execution_count": null,
   "id": "0698ae67-eb6c-47a2-acb4-61811af9d10c",
   "metadata": {},
   "outputs": [],
   "source": []
  },
  {
   "cell_type": "code",
   "execution_count": null,
   "id": "bc7435a6-27a1-41c8-89fe-a4e6a740e7cc",
   "metadata": {},
   "outputs": [],
   "source": []
  },
  {
   "cell_type": "code",
   "execution_count": 46,
   "id": "729e1a52",
   "metadata": {},
   "outputs": [],
   "source": [
    "## create the Waterlevel location\n",
    "station = models.Station(\n",
    "    name='Strausberg, Fähre',\n",
    "    geom=pt,\n",
    "    data_provider='LfU Brandenburg',\n",
    "    absolute_elevation_of_sensor_m=64.134)"
   ]
  },
  {
   "cell_type": "code",
   "execution_count": 47,
   "id": "2fd377ae",
   "metadata": {},
   "outputs": [],
   "source": [
    "station.save()"
   ]
  },
  {
   "cell_type": "code",
   "execution_count": 49,
   "id": "3bcd2a67-24d4-45e5-a542-355b5acc112d",
   "metadata": {},
   "outputs": [
    {
     "data": {
      "text/html": [
       "<div>\n",
       "<style scoped>\n",
       "    .dataframe tbody tr th:only-of-type {\n",
       "        vertical-align: middle;\n",
       "    }\n",
       "\n",
       "    .dataframe tbody tr th {\n",
       "        vertical-align: top;\n",
       "    }\n",
       "\n",
       "    .dataframe thead th {\n",
       "        text-align: right;\n",
       "    }\n",
       "</style>\n",
       "<table border=\"1\" class=\"dataframe\">\n",
       "  <thead>\n",
       "    <tr style=\"text-align: right;\">\n",
       "      <th></th>\n",
       "      <th>Datum</th>\n",
       "      <th>Prüfix</th>\n",
       "      <th>Wasserstand [m]</th>\n",
       "      <th>Hinweise</th>\n",
       "    </tr>\n",
       "  </thead>\n",
       "  <tbody>\n",
       "    <tr>\n",
       "      <th>0</th>\n",
       "      <td>01.11.1970</td>\n",
       "      <td>NaN</td>\n",
       "      <td>65,39</td>\n",
       "      <td>Geprüft</td>\n",
       "    </tr>\n",
       "    <tr>\n",
       "      <th>1</th>\n",
       "      <td>02.11.1970</td>\n",
       "      <td>NaN</td>\n",
       "      <td>65,39</td>\n",
       "      <td>Geprüft</td>\n",
       "    </tr>\n",
       "    <tr>\n",
       "      <th>2</th>\n",
       "      <td>03.11.1970</td>\n",
       "      <td>NaN</td>\n",
       "      <td>65,41</td>\n",
       "      <td>Geprüft</td>\n",
       "    </tr>\n",
       "    <tr>\n",
       "      <th>3</th>\n",
       "      <td>04.11.1970</td>\n",
       "      <td>NaN</td>\n",
       "      <td>65,41</td>\n",
       "      <td>Geprüft</td>\n",
       "    </tr>\n",
       "    <tr>\n",
       "      <th>4</th>\n",
       "      <td>05.11.1970</td>\n",
       "      <td>NaN</td>\n",
       "      <td>65,41</td>\n",
       "      <td>Geprüft</td>\n",
       "    </tr>\n",
       "    <tr>\n",
       "      <th>...</th>\n",
       "      <td>...</td>\n",
       "      <td>...</td>\n",
       "      <td>...</td>\n",
       "      <td>...</td>\n",
       "    </tr>\n",
       "    <tr>\n",
       "      <th>19755</th>\n",
       "      <td>31.01.2025</td>\n",
       "      <td>NaN</td>\n",
       "      <td>64,21</td>\n",
       "      <td>Ungeprüft</td>\n",
       "    </tr>\n",
       "    <tr>\n",
       "      <th>19756</th>\n",
       "      <td>01.02.2025</td>\n",
       "      <td>NaN</td>\n",
       "      <td>64,21</td>\n",
       "      <td>Ungeprüft</td>\n",
       "    </tr>\n",
       "    <tr>\n",
       "      <th>19757</th>\n",
       "      <td>02.02.2025</td>\n",
       "      <td>NaN</td>\n",
       "      <td>64,21</td>\n",
       "      <td>Ungeprüft</td>\n",
       "    </tr>\n",
       "    <tr>\n",
       "      <th>19758</th>\n",
       "      <td>03.02.2025</td>\n",
       "      <td>NaN</td>\n",
       "      <td>64,21</td>\n",
       "      <td>Ungeprüft</td>\n",
       "    </tr>\n",
       "    <tr>\n",
       "      <th>19759</th>\n",
       "      <td>04.02.2025</td>\n",
       "      <td>NaN</td>\n",
       "      <td>64,21</td>\n",
       "      <td>Ungeprüft</td>\n",
       "    </tr>\n",
       "  </tbody>\n",
       "</table>\n",
       "<p>19760 rows × 4 columns</p>\n",
       "</div>"
      ],
      "text/plain": [
       "            Datum  Prüfix Wasserstand [m]   Hinweise\n",
       "0      01.11.1970     NaN           65,39    Geprüft\n",
       "1      02.11.1970     NaN           65,39    Geprüft\n",
       "2      03.11.1970     NaN           65,41    Geprüft\n",
       "3      04.11.1970     NaN           65,41    Geprüft\n",
       "4      05.11.1970     NaN           65,41    Geprüft\n",
       "...           ...     ...             ...        ...\n",
       "19755  31.01.2025     NaN           64,21  Ungeprüft\n",
       "19756  01.02.2025     NaN           64,21  Ungeprüft\n",
       "19757  02.02.2025     NaN           64,21  Ungeprüft\n",
       "19758  03.02.2025     NaN           64,21  Ungeprüft\n",
       "19759  04.02.2025     NaN           64,21  Ungeprüft\n",
       "\n",
       "[19760 rows x 4 columns]"
      ]
     },
     "execution_count": 49,
     "metadata": {},
     "output_type": "execute_result"
    }
   ],
   "source": [
    "#csv = csv.drop(csv.columns[3], axis=1)\n",
    "csv"
   ]
  },
  {
   "cell_type": "code",
   "execution_count": 50,
   "id": "29211c14",
   "metadata": {},
   "outputs": [],
   "source": [
    "#date\n",
    "csv.iloc[:, 0] = pd.to_datetime(csv.iloc[:, 0], format='%d.%m.%Y')\n"
   ]
  },
  {
   "cell_type": "code",
   "execution_count": 51,
   "id": "787f0550",
   "metadata": {},
   "outputs": [],
   "source": [
    "#csv.iloc[:, 1] = csv.iloc[:, 1].str.replace(',', '.').astype(float) # rainfall\n",
    "csv.iloc[:, 2] = csv.iloc[:, 2].str.replace(',', '.').astype(float) # waterlevel\n",
    "#csv.iloc[:, 3] = csv.iloc[:, 3].str.replace(',', '.').astype(float) # abs waterlevel\n"
   ]
  },
  {
   "cell_type": "code",
   "execution_count": 52,
   "id": "8ea14ec4-9abc-4412-bc14-ce27fba324d9",
   "metadata": {},
   "outputs": [
    {
     "data": {
      "text/html": [
       "<div>\n",
       "<style scoped>\n",
       "    .dataframe tbody tr th:only-of-type {\n",
       "        vertical-align: middle;\n",
       "    }\n",
       "\n",
       "    .dataframe tbody tr th {\n",
       "        vertical-align: top;\n",
       "    }\n",
       "\n",
       "    .dataframe thead th {\n",
       "        text-align: right;\n",
       "    }\n",
       "</style>\n",
       "<table border=\"1\" class=\"dataframe\">\n",
       "  <thead>\n",
       "    <tr style=\"text-align: right;\">\n",
       "      <th></th>\n",
       "      <th>Datum</th>\n",
       "      <th>Prüfix</th>\n",
       "      <th>Wasserstand [m]</th>\n",
       "      <th>Hinweise</th>\n",
       "    </tr>\n",
       "  </thead>\n",
       "  <tbody>\n",
       "    <tr>\n",
       "      <th>0</th>\n",
       "      <td>1970-11-01 00:00:00</td>\n",
       "      <td>NaN</td>\n",
       "      <td>65.39</td>\n",
       "      <td>Geprüft</td>\n",
       "    </tr>\n",
       "    <tr>\n",
       "      <th>1</th>\n",
       "      <td>1970-11-02 00:00:00</td>\n",
       "      <td>NaN</td>\n",
       "      <td>65.39</td>\n",
       "      <td>Geprüft</td>\n",
       "    </tr>\n",
       "    <tr>\n",
       "      <th>2</th>\n",
       "      <td>1970-11-03 00:00:00</td>\n",
       "      <td>NaN</td>\n",
       "      <td>65.41</td>\n",
       "      <td>Geprüft</td>\n",
       "    </tr>\n",
       "    <tr>\n",
       "      <th>3</th>\n",
       "      <td>1970-11-04 00:00:00</td>\n",
       "      <td>NaN</td>\n",
       "      <td>65.41</td>\n",
       "      <td>Geprüft</td>\n",
       "    </tr>\n",
       "    <tr>\n",
       "      <th>4</th>\n",
       "      <td>1970-11-05 00:00:00</td>\n",
       "      <td>NaN</td>\n",
       "      <td>65.41</td>\n",
       "      <td>Geprüft</td>\n",
       "    </tr>\n",
       "    <tr>\n",
       "      <th>...</th>\n",
       "      <td>...</td>\n",
       "      <td>...</td>\n",
       "      <td>...</td>\n",
       "      <td>...</td>\n",
       "    </tr>\n",
       "    <tr>\n",
       "      <th>19755</th>\n",
       "      <td>2025-01-31 00:00:00</td>\n",
       "      <td>NaN</td>\n",
       "      <td>64.21</td>\n",
       "      <td>Ungeprüft</td>\n",
       "    </tr>\n",
       "    <tr>\n",
       "      <th>19756</th>\n",
       "      <td>2025-02-01 00:00:00</td>\n",
       "      <td>NaN</td>\n",
       "      <td>64.21</td>\n",
       "      <td>Ungeprüft</td>\n",
       "    </tr>\n",
       "    <tr>\n",
       "      <th>19757</th>\n",
       "      <td>2025-02-02 00:00:00</td>\n",
       "      <td>NaN</td>\n",
       "      <td>64.21</td>\n",
       "      <td>Ungeprüft</td>\n",
       "    </tr>\n",
       "    <tr>\n",
       "      <th>19758</th>\n",
       "      <td>2025-02-03 00:00:00</td>\n",
       "      <td>NaN</td>\n",
       "      <td>64.21</td>\n",
       "      <td>Ungeprüft</td>\n",
       "    </tr>\n",
       "    <tr>\n",
       "      <th>19759</th>\n",
       "      <td>2025-02-04 00:00:00</td>\n",
       "      <td>NaN</td>\n",
       "      <td>64.21</td>\n",
       "      <td>Ungeprüft</td>\n",
       "    </tr>\n",
       "  </tbody>\n",
       "</table>\n",
       "<p>19760 rows × 4 columns</p>\n",
       "</div>"
      ],
      "text/plain": [
       "                     Datum  Prüfix Wasserstand [m]   Hinweise\n",
       "0      1970-11-01 00:00:00     NaN           65.39    Geprüft\n",
       "1      1970-11-02 00:00:00     NaN           65.39    Geprüft\n",
       "2      1970-11-03 00:00:00     NaN           65.41    Geprüft\n",
       "3      1970-11-04 00:00:00     NaN           65.41    Geprüft\n",
       "4      1970-11-05 00:00:00     NaN           65.41    Geprüft\n",
       "...                    ...     ...             ...        ...\n",
       "19755  2025-01-31 00:00:00     NaN           64.21  Ungeprüft\n",
       "19756  2025-02-01 00:00:00     NaN           64.21  Ungeprüft\n",
       "19757  2025-02-02 00:00:00     NaN           64.21  Ungeprüft\n",
       "19758  2025-02-03 00:00:00     NaN           64.21  Ungeprüft\n",
       "19759  2025-02-04 00:00:00     NaN           64.21  Ungeprüft\n",
       "\n",
       "[19760 rows x 4 columns]"
      ]
     },
     "execution_count": 52,
     "metadata": {},
     "output_type": "execute_result"
    }
   ],
   "source": [
    "csv"
   ]
  },
  {
   "cell_type": "code",
   "execution_count": null,
   "id": "4798a235-ffdd-4405-ad64-5ecaa1861140",
   "metadata": {},
   "outputs": [],
   "source": []
  },
  {
   "cell_type": "code",
   "execution_count": null,
   "id": "450c1cde-6c52-41a1-abab-12a01351da69",
   "metadata": {},
   "outputs": [],
   "source": [
    "records = [\n",
    "    models.TimeseriesValues(\n",
    "        station=station,\n",
    "        date=row[0],\n",
    "        #rainfall=row[1],\n",
    "        #waterlevel_above_sensor_cm=row[2],\n",
    "        absolute_water_level_elevation_m=row[2]\n",
    "    ).save()\n",
    "    for row in csv.itertuples(index=False)\n",
    "]"
   ]
  },
  {
   "cell_type": "code",
   "execution_count": 15,
   "id": "beb91d80-6b7f-46a4-a119-0abf72cbc13f",
   "metadata": {},
   "outputs": [],
   "source": [
    "recs = models.TimeseriesValues.objects.all()"
   ]
  },
  {
   "cell_type": "code",
   "execution_count": 16,
   "id": "403c5404-4d50-405d-9b4a-e23726b08dd3",
   "metadata": {},
   "outputs": [
    {
     "data": {
      "text/plain": [
       "26481"
      ]
     },
     "execution_count": 16,
     "metadata": {},
     "output_type": "execute_result"
    }
   ],
   "source": [
    "recs.count()"
   ]
  },
  {
   "cell_type": "code",
   "execution_count": 160,
   "id": "7b9088e7-f136-4796-91c4-a7f649791337",
   "metadata": {},
   "outputs": [],
   "source": [
    "\n"
   ]
  },
  {
   "cell_type": "code",
   "execution_count": null,
   "id": "4b7e311d-9a05-41d9-a0f2-0d982fc52f2d",
   "metadata": {},
   "outputs": [],
   "source": []
  }
 ],
 "metadata": {
  "kernelspec": {
   "display_name": "Python 3 (ipykernel)",
   "language": "python",
   "name": "python3"
  },
  "language_info": {
   "codemirror_mode": {
    "name": "ipython",
    "version": 3
   },
   "file_extension": ".py",
   "mimetype": "text/x-python",
   "name": "python",
   "nbconvert_exporter": "python",
   "pygments_lexer": "ipython3",
   "version": "3.10.12"
  }
 },
 "nbformat": 4,
 "nbformat_minor": 5
}
