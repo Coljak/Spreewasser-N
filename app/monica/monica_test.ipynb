{
 "cells": [
  {
   "cell_type": "code",
   "execution_count": 7,
   "metadata": {},
   "outputs": [],
   "source": [
    "import zmq\n",
    "import asyncio\n",
    "import json\n",
    "import sys\n",
    "#from zalfmas_common import common\n"
   ]
  },
  {
   "cell_type": "code",
   "execution_count": 8,
   "metadata": {},
   "outputs": [],
   "source": [
    "with open('./monica_io/env_1.json') as f:\n",
    "    env = json.load(f)"
   ]
  },
  {
   "cell_type": "code",
   "execution_count": 9,
   "metadata": {},
   "outputs": [
    {
     "ename": "KeyboardInterrupt",
     "evalue": "",
     "output_type": "error",
     "traceback": [
      "\u001b[0;31m---------------------------------------------------------------------------\u001b[0m",
      "\u001b[0;31mKeyboardInterrupt\u001b[0m                         Traceback (most recent call last)",
      "Cell \u001b[0;32mIn[9], line 11\u001b[0m\n\u001b[1;32m      7\u001b[0m \u001b[38;5;66;03m# with open(\"/home/berg/GitHub/mas-infrastructure/src/python/scratch_code/env_1.json\") as _:\u001b[39;00m\n\u001b[1;32m      8\u001b[0m \u001b[38;5;66;03m#     env_json = json.load(_)\u001b[39;00m\n\u001b[1;32m     10\u001b[0m prod_socket\u001b[38;5;241m.\u001b[39msend_json(env)\n\u001b[0;32m---> 11\u001b[0m msg \u001b[38;5;241m=\u001b[39m \u001b[43mcons_socket\u001b[49m\u001b[38;5;241;43m.\u001b[39;49m\u001b[43mrecv_json\u001b[49m\u001b[43m(\u001b[49m\u001b[43m)\u001b[49m\n\u001b[1;32m     12\u001b[0m \u001b[38;5;28mprint\u001b[39m(msg)\n",
      "File \u001b[0;32m~/miniconda3/envs/.menv/lib/python3.12/site-packages/zmq/sugar/socket.py:1018\u001b[0m, in \u001b[0;36mSocket.recv_json\u001b[0;34m(self, flags, **kwargs)\u001b[0m\n\u001b[1;32m    998\u001b[0m \u001b[38;5;28;01mdef\u001b[39;00m \u001b[38;5;21mrecv_json\u001b[39m(\u001b[38;5;28mself\u001b[39m, flags: \u001b[38;5;28mint\u001b[39m \u001b[38;5;241m=\u001b[39m \u001b[38;5;241m0\u001b[39m, \u001b[38;5;241m*\u001b[39m\u001b[38;5;241m*\u001b[39mkwargs) \u001b[38;5;241m-\u001b[39m\u001b[38;5;241m>\u001b[39m \u001b[38;5;28mlist\u001b[39m \u001b[38;5;241m|\u001b[39m \u001b[38;5;28mstr\u001b[39m \u001b[38;5;241m|\u001b[39m \u001b[38;5;28mint\u001b[39m \u001b[38;5;241m|\u001b[39m \u001b[38;5;28mfloat\u001b[39m \u001b[38;5;241m|\u001b[39m \u001b[38;5;28mdict\u001b[39m:\n\u001b[1;32m    999\u001b[0m \u001b[38;5;250m    \u001b[39m\u001b[38;5;124;03m\"\"\"Receive a Python object as a message using json to serialize.\u001b[39;00m\n\u001b[1;32m   1000\u001b[0m \n\u001b[1;32m   1001\u001b[0m \u001b[38;5;124;03m    Keyword arguments are passed on to json.loads\u001b[39;00m\n\u001b[0;32m   (...)\u001b[0m\n\u001b[1;32m   1016\u001b[0m \u001b[38;5;124;03m        for any of the reasons :func:`~Socket.recv` might fail\u001b[39;00m\n\u001b[1;32m   1017\u001b[0m \u001b[38;5;124;03m    \"\"\"\u001b[39;00m\n\u001b[0;32m-> 1018\u001b[0m     msg \u001b[38;5;241m=\u001b[39m \u001b[38;5;28;43mself\u001b[39;49m\u001b[38;5;241;43m.\u001b[39;49m\u001b[43mrecv\u001b[49m\u001b[43m(\u001b[49m\u001b[43mflags\u001b[49m\u001b[43m)\u001b[49m\n\u001b[1;32m   1019\u001b[0m     \u001b[38;5;28;01mreturn\u001b[39;00m \u001b[38;5;28mself\u001b[39m\u001b[38;5;241m.\u001b[39m_deserialize(msg, \u001b[38;5;28;01mlambda\u001b[39;00m buf: jsonapi\u001b[38;5;241m.\u001b[39mloads(buf, \u001b[38;5;241m*\u001b[39m\u001b[38;5;241m*\u001b[39mkwargs))\n",
      "File \u001b[0;32m_zmq.py:1137\u001b[0m, in \u001b[0;36mzmq.backend.cython._zmq.Socket.recv\u001b[0;34m()\u001b[0m\n",
      "File \u001b[0;32m_zmq.py:1172\u001b[0m, in \u001b[0;36mzmq.backend.cython._zmq.Socket.recv\u001b[0;34m()\u001b[0m\n",
      "File \u001b[0;32m_zmq.py:1259\u001b[0m, in \u001b[0;36mzmq.backend.cython._zmq._recv_copy\u001b[0;34m()\u001b[0m\n",
      "File \u001b[0;32m_zmq.py:141\u001b[0m, in \u001b[0;36mzmq.backend.cython._zmq._check_rc\u001b[0;34m()\u001b[0m\n",
      "\u001b[0;31mKeyboardInterrupt\u001b[0m: "
     ]
    }
   ],
   "source": [
    "\n",
    "\n",
    "context = zmq.Context()\n",
    "prod_socket = context.socket(zmq.PUSH)  # pylint: disable=no-member\n",
    "prod_socket.connect(\"tcp://localhost:6666\")\n",
    "cons_socket = context.socket(zmq.PULL)\n",
    "cons_socket.connect(\"tcp://localhost:7777\")\n",
    "\n",
    "# with open(\"/home/berg/GitHub/mas-infrastructure/src/python/scratch_code/env_1.json\") as _:\n",
    "#     env_json = json.load(_)\n",
    "\n",
    "prod_socket.send_json(env)\n",
    "msg = cons_socket.recv_json()\n",
    "print(msg)\n"
   ]
  },
  {
   "cell_type": "code",
   "execution_count": null,
   "metadata": {},
   "outputs": [],
   "source": [
    "asyncio.run(main(standalone_config))"
   ]
  }
 ],
 "metadata": {
  "kernelspec": {
   "display_name": ".menv",
   "language": "python",
   "name": "python3"
  },
  "language_info": {
   "codemirror_mode": {
    "name": "ipython",
    "version": 3
   },
   "file_extension": ".py",
   "mimetype": "text/x-python",
   "name": "python",
   "nbconvert_exporter": "python",
   "pygments_lexer": "ipython3",
   "version": "3.12.3"
  }
 },
 "nbformat": 4,
 "nbformat_minor": 2
}
