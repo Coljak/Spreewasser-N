{
 "cells": [
  {
   "cell_type": "code",
   "execution_count": 2,
   "metadata": {},
   "outputs": [],
   "source": [
    "import requests\n",
    "from xml.etree import ElementTree\n",
    "from datetime import datetime\n",
    "from pathlib import Path"
   ]
  },
  {
   "cell_type": "code",
   "execution_count": 22,
   "metadata": {},
   "outputs": [],
   "source": [
    "BASE_CATALOG_URL = \"https://esgf-data.dwd.de/thredds/catalog/esgf3/data/climatepredictionsde/seasonal/output/public/DE-0075x005/DWD/GCFS21/svhYYYY{month:02}01/sfc{year}{month:02}01/{scenario}/DWD-EPISODES2022/v1-r1/day/{variable}/\"\n",
    "SCENARIOS = ['r1i1p1', 'r2i1p1', 'r3i1p1']\n",
    "VARIABLES = ['hurs', 'pr', 'psl', 'rsds', 'sfcWind', 'tas', 'tasmax', 'tasmin']"
   ]
  },
  {
   "cell_type": "code",
   "execution_count": 60,
   "metadata": {},
   "outputs": [],
   "source": [
    "def get_download_url(year, month, scenario, variable):\n",
    "    \"\"\"Get the latest catalog URL for the specified year, month, and scenario.\"\"\"\n",
    "\n",
    "    # get the version folder's name\n",
    "    catalog_url = f\"{BASE_CATALOG_URL.format(year=year, month=month, scenario=scenario,variable=variable)}catalog.xml\"\n",
    "    catalog = requests.get(catalog_url)\n",
    "    catalog_tree = ElementTree.fromstring(catalog.content)\n",
    "    namespace = {\"thredds\": \"http://www.unidata.ucar.edu/namespaces/thredds/InvCatalog/v1.0\"}\n",
    "    catalog = catalog_tree.findall(\".//thredds:catalogRef\", namespace)\n",
    "    latest_versions = []\n",
    "    for catalog_ref in catalog:\n",
    "        latest_versions.append(catalog_ref.attrib['name'])\n",
    "    latest_version = max(latest_versions)\n",
    "\n",
    "    # compose catalog url for the latest version\n",
    "    latest_version_url = f\"{BASE_CATALOG_URL.format(year=year, month=month, scenario=scenario,variable=variable)}{latest_version}/catalog.xml\"\n",
    "    \n",
    "    # Get the dataset name/ urlPath\n",
    "    dataset_name_reponse = requests.get(latest_version_url)\n",
    "    dataset_name_catalog_tree = ElementTree.fromstring(dataset_name_reponse.content)\n",
    "    dataset_name_catalog = dataset_name_catalog_tree.findall(\".//thredds:dataset\", namespace)\n",
    "    dataset_path = ''\n",
    "    for dataset in dataset_name_catalog:\n",
    "        if dataset.attrib.get('urlPath'):\n",
    "            dataset_path = dataset.attrib['urlPath']\n",
    "\n",
    "    https_download_url = f\"https://esgf-data.dwd.de/thredds/fileServer/{dataset_path}\"\n",
    "    return https_download_url"
   ]
  },
  {
   "cell_type": "code",
   "execution_count": 61,
   "metadata": {},
   "outputs": [],
   "source": [
    "p = get_download_url(2025, 1, 'r1i1p1', 'hurs')"
   ]
  },
  {
   "cell_type": "code",
   "execution_count": 4,
   "metadata": {},
   "outputs": [],
   "source": [
    "def get_local_path():\n",
    "    \"\"\"Get the base local path for storing NetCDF forecast files.\"\"\"\n",
    "    local = Path(__file__).resolve().parent.parent\n",
    "    return local / 'climate_netcdf_forecast'"
   ]
  },
  {
   "cell_type": "code",
   "execution_count": 8,
   "metadata": {},
   "outputs": [],
   "source": [
    "def download_and_save_nc_file(nc_url, save_path):\n",
    "    \"\"\"Download and save the NetCDF file to the specified local path.\"\"\"\n",
    "    response = requests.get(nc_url)\n",
    "    response.raise_for_status()\n",
    "\n",
    "    filename = nc_url.split(\"/\")[-1]\n",
    "    save_path = save_path / filename\n",
    "    save_path.parent.mkdir(parents=True, exist_ok=True)\n",
    "\n",
    "    with open(save_path, \"wb\") as file:\n",
    "        file.write(response.content)\n",
    "\n",
    "    print(f\"Downloaded: {filename} to {save_path}\")"
   ]
  },
  {
   "cell_type": "code",
   "execution_count": 10,
   "metadata": {},
   "outputs": [],
   "source": [
    "now = datetime.now()\n",
    "year = now.year\n",
    "month = now.month\n",
    "\n"
   ]
  }
 ],
 "metadata": {
  "kernelspec": {
   "display_name": ".menv",
   "language": "python",
   "name": "python3"
  },
  "language_info": {
   "codemirror_mode": {
    "name": "ipython",
    "version": 3
   },
   "file_extension": ".py",
   "mimetype": "text/x-python",
   "name": "python",
   "nbconvert_exporter": "python",
   "pygments_lexer": "ipython3",
   "version": "3.12.3"
  }
 },
 "nbformat": 4,
 "nbformat_minor": 2
}
