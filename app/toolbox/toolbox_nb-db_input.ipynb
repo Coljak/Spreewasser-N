{
 "cells": [
  {
   "cell_type": "markdown",
   "metadata": {},
   "source": [
    "In  a docker terminal run\n",
    "jupyter notebook --ip=0.0.0.0 --port=8888 --no-browser --allow-root\n",
    "\n",
    "then open jupyter in the printed link (such as http://127.0.0.1:8888/tree?token=4d9d578397aede50fc5bd2d92794b562a6bbcbc73b2dfe51)\n",
    "\n",
    "CODE HERE, REFRESH AND EXECUTE IN THE BROWSER"
   ]
  },
  {
   "cell_type": "code",
   "execution_count": 1,
   "metadata": {},
   "outputs": [],
   "source": [
    "import os\n",
    "import sys\n",
    "import django\n",
    "\n",
    "os.environ[\"DJANGO_ALLOW_ASYNC_UNSAFE\"] = \"true\"\n"
   ]
  },
  {
   "cell_type": "code",
   "execution_count": 2,
   "metadata": {},
   "outputs": [],
   "source": [
    "sys.path.append('/app')\n",
    "\n",
    "os.environ['DJANGO_SETTINGS_MODULE'] = 'app.settings'\n",
    "os.environ['PYTHONPATH'] = '/app'\n",
    "\n",
    "django.setup()"
   ]
  },
  {
   "cell_type": "code",
   "execution_count": 3,
   "metadata": {},
   "outputs": [],
   "source": [
    "from toolbox import models\n",
    "from django.forms.models import model_to_dict\n",
    "import numpy as np\n",
    "import json\n",
    "from django.contrib.gis.geos import GEOSGeometry, Polygon, MultiPolygon\n",
    "import pandas as pd"
   ]
  },
  {
   "cell_type": "code",
   "execution_count": 4,
   "metadata": {},
   "outputs": [],
   "source": [
    "all = models.GekRetention.objects.all()"
   ]
  },
  {
   "cell_type": "code",
   "execution_count": 7,
   "metadata": {},
   "outputs": [],
   "source": [
    "for gek in all:\n",
    "    if gek.mnt_1_id is not None:\n",
    "        n = models.GekRetentionMeasure()\n",
    "        n.gek_retention = gek\n",
    "        n.gek_measure = models.GEKMeasures.objects.get(pk=gek.mnt_1_id)\n",
    "        n.anz = gek.anz_1\n",
    "        n.besch = gek.besch_1\n",
    "        n.prio = gek.prio_1\n",
    "        n.kosten = gek.kosten_1\n",
    "        n.measure_number = 1\n",
    "        n.save()"
   ]
  },
  {
   "cell_type": "code",
   "execution_count": 8,
   "metadata": {},
   "outputs": [],
   "source": [
    "for gek in all:\n",
    "    if gek.mnt_id_2 is not None:\n",
    "        n = models.GekRetentionMeasure()\n",
    "        n.gek_retention = gek\n",
    "        n.gek_measure = models.GEKMeasures.objects.get(pk=gek.mnt_id_2)\n",
    "        n.anz = gek.anz_2\n",
    "        n.besch = gek.besch_2\n",
    "        n.prio = gek.prio_2\n",
    "        n.kosten = gek.kosten_2\n",
    "        n.measure_number = 2\n",
    "        n.save()\n",
    "\n",
    "\n",
    "        if gek.mnt_id_3 is not None:\n",
    "            n = models.GekRetentionMeasure()\n",
    "            n.gek_retention = gek\n",
    "            n.gek_measure = models.GEKMeasures.objects.get(pk=gek.mnt_id_3)\n",
    "            n.anz = gek.anz_3\n",
    "            n.besch = gek.besch_3\n",
    "            n.prio = gek.prio_3\n",
    "            n.kosten = gek.kosten_3\n",
    "            n.measure_number = 3\n",
    "            n.save()\n",
    "\n",
    "            if gek.mnt_id_4 is not None:\n",
    "                n = models.GekRetentionMeasure()\n",
    "                n.gek_retention = gek\n",
    "                n.gek_measure = models.GEKMeasures.objects.get(pk=gek.mnt_id_4)\n",
    "                n.anz = gek.anz_4\n",
    "                n.besch = gek.besch_4\n",
    "                n.prio = gek.prio_4\n",
    "                n.kosten = gek.kosten_4\n",
    "                n.measure_number = 4\n",
    "                n.save()\n",
    "\n",
    "                if gek.mnt_id_5 is not None:\n",
    "                    n = models.GekRetentionMeasure()\n",
    "                    n.gek_retention = gek\n",
    "                    n.gek_measure = models.GEKMeasures.objects.get(pk=gek.mnt_id_5)\n",
    "                    n.anz = gek.anz_5\n",
    "                    n.besch = gek.besch_5\n",
    "                    n.prio = gek.prio_5\n",
    "                    n.kosten = gek.kosten_5\n",
    "                    n.measure_number = 5\n",
    "                    n.save()\n",
    "\n",
    "                    if gek.mnt_id_6 is not None:\n",
    "                        n = models.GekRetentionMeasure()\n",
    "                        n.gek_retention = gek\n",
    "                        n.gek_measure = models.GEKMeasures.objects.get(pk=gek.mnt_id_6)\n",
    "                        n.anz = gek.anz_6\n",
    "                        n.besch = gek.besch_6\n",
    "                        n.prio = gek.prio_6\n",
    "                        n.kosten = gek.kosten_6\n",
    "                        n.measure_number = 6"
   ]
  },
  {
   "cell_type": "code",
   "execution_count": null,
   "metadata": {},
   "outputs": [],
   "source": [
    "for gek in all:\n",
    "    if gek.mnt_id_6 is not None:\n",
    "        n = models.GekRetentionMeasure()\n",
    "        n.gek_retention = gek\n",
    "        n.gek_measure = models.GEKMeasures.objects.get(pk=gek.mnt_id_6)\n",
    "        n.anz = gek.anz_6\n",
    "        n.besch = gek.besch_6\n",
    "        n.prio = gek.prio_6\n",
    "        n.kosten = gek.kosten_6\n",
    "        n.measure_number = 6\n",
    "        n.save()for gek in all:\n",
    "    if gek.mnt_id_6 is not None:\n",
    "        n = models.GekRetentionMeasure()\n",
    "        n.gek_retention = gek\n",
    "        n.gek_measure = models.GEKMeasures.objects.get(pk=gek.mnt_id_6)\n",
    "        n.anz = gek.anz_6\n",
    "        n.besch = gek.besch_6\n",
    "        n.prio = gek.prio_6\n",
    "        n.kosten = gek.kosten_6\n",
    "        n.measure_number = 6\n",
    "        n.save()for gek in all:\n",
    "    if gek.mnt_id_6 is not None:\n",
    "        n = models.GekRetentionMeasure()\n",
    "        n.gek_retention = gek\n",
    "        n.gek_measure = models.GEKMeasures.objects.get(pk=gek.mnt_id_6)\n",
    "        n.anz = gek.anz_6\n",
    "        n.besch = gek.besch_6\n",
    "        n.prio = gek.prio_6\n",
    "        n.kosten = gek.kosten_6\n",
    "        n.measure_number = 6\n",
    "        n.save()"
   ]
  },
  {
   "cell_type": "code",
   "execution_count": null,
   "metadata": {},
   "outputs": [],
   "source": []
  },
  {
   "cell_type": "code",
   "execution_count": null,
   "metadata": {},
   "outputs": [],
   "source": []
  }
 ],
 "metadata": {
  "kernelspec": {
   "display_name": "Python 3 (ipykernel)",
   "language": "python",
   "name": "python3"
  },
  "language_info": {
   "codemirror_mode": {
    "name": "ipython",
    "version": 3
   },
   "file_extension": ".py",
   "mimetype": "text/x-python",
   "name": "python",
   "nbconvert_exporter": "python",
   "pygments_lexer": "ipython3",
   "version": "3.10.12"
  }
 },
 "nbformat": 4,
 "nbformat_minor": 4
}
