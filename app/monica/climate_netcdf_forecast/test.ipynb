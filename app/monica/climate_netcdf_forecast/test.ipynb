{
 "cells": [
  {
   "cell_type": "code",
   "execution_count": 3,
   "metadata": {},
   "outputs": [],
   "source": [
    "import xarray as xr\n",
    "import os"
   ]
  },
  {
   "cell_type": "code",
   "execution_count": 2,
   "metadata": {},
   "outputs": [],
   "source": [
    "paths = [nc for nc in os.listdir() if nc.endswith('.nc')]"
   ]
  },
  {
   "cell_type": "code",
   "execution_count": 3,
   "metadata": {},
   "outputs": [
    {
     "data": {
      "text/plain": [
       "['rsds_day_GCFS21--DWD-EPISODES2022--DE-0075x005_sfc20250101_r1i1p1_20250101-20250630.nc',\n",
       " 'tasmax_day_GCFS21--DWD-EPISODES2022--DE-0075x005_sfc20250101_r1i1p1_20250101-20250630.nc',\n",
       " 'pr_day_GCFS21--DWD-EPISODES2022--DE-0075x005_sfc20250101_r1i1p1_20250101-20250630.nc',\n",
       " 'tasmin_day_GCFS21--DWD-EPISODES2022--DE-0075x005_sfc20250101_r1i1p1_20250101-20250630.nc',\n",
       " 'tas_day_GCFS21--DWD-EPISODES2022--DE-0075x005_sfc20250101_r1i1p1_20250101-20250630.nc',\n",
       " 'hurs_day_GCFS21--DWD-EPISODES2022--DE-0075x005_sfc20250101_r1i1p1_20250101-20250630.nc',\n",
       " 'sfcWind_day_GCFS21--DWD-EPISODES2022--DE-0075x005_sfc20250101_r1i1p1_20250101-20250630.nc',\n",
       " 'psl_day_GCFS21--DWD-EPISODES2022--DE-0075x005_sfc20250101_r1i1p1_20250101-20250630.nc']"
      ]
     },
     "execution_count": 3,
     "metadata": {},
     "output_type": "execute_result"
    }
   ],
   "source": [
    "paths"
   ]
  },
  {
   "cell_type": "code",
   "execution_count": 5,
   "metadata": {},
   "outputs": [],
   "source": [
    "ds = xr.open_mfdataset(paths, combine='by_coords', compat='override')"
   ]
  },
  {
   "cell_type": "code",
   "execution_count": 10,
   "metadata": {},
   "outputs": [],
   "source": [
    "folder_path = f\"./r1i1p1\"\n",
    "netcdf_paths = [f'{folder_path}/{nc}' for nc in os.listdir(folder_path) if nc.endswith('.nc')]"
   ]
  },
  {
   "cell_type": "code",
   "execution_count": 16,
   "metadata": {},
   "outputs": [
    {
     "data": {
      "text/plain": [
       "'./r1i1p1/hurs_day_GCFS21--DWD-EPISODES2022--DE-0075x005_sfc20250201_r1i1p1_20250201-20250731.nc'"
      ]
     },
     "execution_count": 16,
     "metadata": {},
     "output_type": "execute_result"
    }
   ],
   "source": [
    "netcdf_paths.pop()"
   ]
  },
  {
   "cell_type": "code",
   "execution_count": 17,
   "metadata": {},
   "outputs": [],
   "source": [
    "ds = xr.open_mfdataset(netcdf_paths, combine='by_coords', compat='override')"
   ]
  },
  {
   "cell_type": "code",
   "execution_count": 18,
   "metadata": {},
   "outputs": [
    {
     "data": {
      "text/plain": [
       "['./r1i1p1/pr_day_GCFS21--DWD-EPISODES2022--DE-0075x005_sfc20250201_r1i1p1_20250201-20250731.nc',\n",
       " './r1i1p1/tasmax_day_GCFS21--DWD-EPISODES2022--DE-0075x005_sfc20250201_r1i1p1_20250201-20250731.nc',\n",
       " './r1i1p1/sfcWind_day_GCFS21--DWD-EPISODES2022--DE-0075x005_sfc20250201_r1i1p1_20250201-20250731.nc',\n",
       " './r1i1p1/tasmin_day_GCFS21--DWD-EPISODES2022--DE-0075x005_sfc20250201_r1i1p1_20250201-20250731.nc',\n",
       " './r1i1p1/rsds_day_GCFS21--DWD-EPISODES2022--DE-0075x005_sfc20250201_r1i1p1_20250201-20250731.nc']"
      ]
     },
     "execution_count": 18,
     "metadata": {},
     "output_type": "execute_result"
    }
   ],
   "source": [
    "netcdf_paths"
   ]
  },
  {
   "cell_type": "code",
   "execution_count": null,
   "metadata": {},
   "outputs": [],
   "source": []
  }
 ],
 "metadata": {
  "kernelspec": {
   "display_name": ".menv",
   "language": "python",
   "name": "python3"
  },
  "language_info": {
   "codemirror_mode": {
    "name": "ipython",
    "version": 3
   },
   "file_extension": ".py",
   "mimetype": "text/x-python",
   "name": "python",
   "nbconvert_exporter": "python",
   "pygments_lexer": "ipython3",
   "version": "3.12.3"
  }
 },
 "nbformat": 4,
 "nbformat_minor": 2
}
