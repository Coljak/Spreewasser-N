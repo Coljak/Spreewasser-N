{
 "cells": [
  {
   "cell_type": "code",
   "execution_count": 2,
   "metadata": {},
   "outputs": [],
   "source": [
    "import csv"
   ]
  },
  {
   "cell_type": "code",
   "execution_count": 13,
   "metadata": {},
   "outputs": [],
   "source": [
    "def csv_to_dict(name, file_path):\n",
    "    \"\"\"\n",
    "    Convert a CSV file to a dictionary with the first column as keys and the rest as values.\n",
    "\n",
    "    :param name: Name of the dictionary\n",
    "    :param file_path: Path to the CSV file\n",
    "    :return: Dictionary representation of the CSV file\n",
    "    \"\"\"\n",
    "    data_dict = {}\n",
    "    \n",
    "    with open(file_path, mode='r', newline='', encoding='utf-8') as csvfile:\n",
    "        reader = csv.reader(csvfile)\n",
    "        result = []\n",
    "        idx = 0\n",
    "        for row in reader:\n",
    "            if idx == 0:  # Ensure the row is not empty\n",
    "                keys = row\n",
    "            else:\n",
    "                dict = {}\n",
    "                for key in keys:\n",
    "                    dict[key] = row[keys.index(key)]\n",
    "                result.append(dict)\n",
    "            idx += 1\n",
    "    return {name: result}"
   ]
  },
  {
   "cell_type": "code",
   "execution_count": 14,
   "metadata": {},
   "outputs": [],
   "source": [
    "potato = csv_to_dict('potato', 'bbch_imports/potato.csv')"
   ]
  },
  {
   "cell_type": "code",
   "execution_count": 15,
   "metadata": {},
   "outputs": [
    {
     "data": {
      "text/plain": [
       "{'potato': [{'Stage': '1',\n",
       "   'Event name': 'Sowing',\n",
       "   'BBCH code': '0',\n",
       "   'EN description': 'Planting',\n",
       "   'DE description': 'Legen'},\n",
       "  {'Stage': '2',\n",
       "   'Event name': 'emergence',\n",
       "   'BBCH code': '9',\n",
       "   'EN description': 'Emergence',\n",
       "   'DE description': 'Auflaufen'},\n",
       "  {'Stage': '3',\n",
       "   'Event name': '',\n",
       "   'BBCH code': '39',\n",
       "   'EN description': 'Total coverage',\n",
       "   'DE description': 'Bestandesschluss'},\n",
       "  {'Stage': '4',\n",
       "   'Event name': '',\n",
       "   'BBCH code': '40',\n",
       "   'EN description': 'Tuber growth',\n",
       "   'DE description': 'Beginn Knollenwachstum'},\n",
       "  {'Stage': '5',\n",
       "   'Event name': '',\n",
       "   'BBCH code': '',\n",
       "   'EN description': 'Begin leaf senescence',\n",
       "   'DE description': 'Beginn Blattseneszenz'},\n",
       "  {'Stage': '6',\n",
       "   'Event name': '',\n",
       "   'BBCH code': '48',\n",
       "   'EN description': 'Harvest size',\n",
       "   'DE description': 'Erntegröße'}]}"
      ]
     },
     "execution_count": 15,
     "metadata": {},
     "output_type": "execute_result"
    }
   ],
   "source": [
    "potato"
   ]
  },
  {
   "cell_type": "code",
   "execution_count": null,
   "metadata": {},
   "outputs": [],
   "source": []
  },
  {
   "cell_type": "code",
   "execution_count": null,
   "metadata": {},
   "outputs": [],
   "source": []
  }
 ],
 "metadata": {
  "kernelspec": {
   "display_name": ".menv",
   "language": "python",
   "name": "python3"
  },
  "language_info": {
   "codemirror_mode": {
    "name": "ipython",
    "version": 3
   },
   "file_extension": ".py",
   "mimetype": "text/x-python",
   "name": "python",
   "nbconvert_exporter": "python",
   "pygments_lexer": "ipython3",
   "version": "3.12.3"
  }
 },
 "nbformat": 4,
 "nbformat_minor": 2
}
