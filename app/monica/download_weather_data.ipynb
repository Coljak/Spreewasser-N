{
 "cells": [
  {
   "cell_type": "code",
   "execution_count": 1,
   "metadata": {},
   "outputs": [],
   "source": [
    "from ftplib import FTP_TLS\n",
    "import os\n",
    "from datetime import datetime\n",
    "from dwd_server import settings\n",
    "\n",
    "def download_from_ftps(host, username, password, remote_file_path, local_file_path):\n",
    "    \"\"\"\n",
    "    Download a file from an FTPS server.\n",
    "    \n",
    "    :param host: FTPS server address\n",
    "    :param username: FTPS username\n",
    "    :param password: FTPS password\n",
    "    :param remote_file_path: Path to the file on the FTPS server\n",
    "    :param local_file_path: Path to save the file locally\n",
    "    \"\"\"\n",
    "    try:\n",
    "        # Connect to FTPS server\n",
    "        ftps = FTP_TLS(host)\n",
    "        ftps.login(user=username, passwd=password)\n",
    "        ftps.prot_p()  # Secure the data connection (uses explicit FTPS)\n",
    "\n",
    "        # Ensure the directory for the local file exists\n",
    "        os.makedirs(os.path.dirname(local_file_path), exist_ok=True)\n",
    "\n",
    "        # Download the file\n",
    "        with open(local_file_path, 'wb') as f:\n",
    "            ftps.retrbinary(f\"RETR {remote_file_path}\", f.write)\n",
    "\n",
    "        print(f\"Download complete: {local_file_path}\")\n",
    "    \n",
    "    except Exception as e:\n",
    "        print(f\"Error: {e}\")\n",
    "    \n",
    "    finally:\n",
    "        # Always close the connection\n",
    "        ftps.quit()\n",
    "\n"
   ]
  },
  {
   "cell_type": "code",
   "execution_count": 6,
   "metadata": {},
   "outputs": [],
   "source": [
    "# year = datetime.now().year\n",
    "year = 2024\n",
    "remote_folder_path = '/DWD_SpreeWasser_N/'\n",
    "vars = ['hurs', 'pr', 'rsds', 'sfcwind','tas', 'tasmax', 'tasmin']"
   ]
  },
  {
   "cell_type": "code",
   "execution_count": 7,
   "metadata": {},
   "outputs": [
    {
     "name": "stdout",
     "output_type": "stream",
     "text": [
      "Download complete: climate_netcdf/zalf_hurs_amber_2024_v1-0.nc\n",
      "Download complete: climate_netcdf/zalf_pr_amber_2024_v1-0.nc\n",
      "Download complete: climate_netcdf/zalf_rsds_amber_2024_v1-0.nc\n",
      "Download complete: climate_netcdf/zalf_sfcwind_amber_2024_v1-0.nc\n",
      "Download complete: climate_netcdf/zalf_tas_amber_2024_v1-0.nc\n",
      "Download complete: climate_netcdf/zalf_tasmax_amber_2024_v1-0.nc\n",
      "Download complete: climate_netcdf/zalf_tasmin_amber_2024_v1-0.nc\n"
     ]
    }
   ],
   "source": [
    "for var in vars:\n",
    "    remote_file_path = f'{remote_folder_path}zalf_{var}_amber_{year}_v1-0.nc'\n",
    "    local_file_path = f'climate_netcdf/zalf_{var}_amber_{year}_v1-0.nc'\n",
    "    download_from_ftps(settings['host'], settings['username'], settings['password'], remote_file_path, local_file_path)\n",
    "\n",
    "\n",
    "\n",
    "\n"
   ]
  },
  {
   "cell_type": "code",
   "execution_count": 9,
   "metadata": {},
   "outputs": [
    {
     "name": "stdout",
     "output_type": "stream",
     "text": [
      "Download complete: climate_netcdf/zalf_tas_amber_2024_v1-0.nc\n"
     ]
    }
   ],
   "source": [
    "var = vars[0]\n",
    "remote_file_path = f'{remote_folder_path}zalf_{var}_amber_{year}_v1-0.nc'\n",
    "local_file_path = f'climate_netcdf/zalf_{var}_amber_{year}_v1-0.nc'\n",
    "download_from_ftps(settings['host'], settings['username'], settings['password'], settings['remote_file_path'], settings['local_file_path'])\n"
   ]
  },
  {
   "cell_type": "code",
   "execution_count": 8,
   "metadata": {},
   "outputs": [
    {
     "data": {
      "text/plain": [
       "'climate_netcdf/zalf_hurs_amber_2024_v1-0.nc'"
      ]
     },
     "execution_count": 8,
     "metadata": {},
     "output_type": "execute_result"
    }
   ],
   "source": [
    "local_file_path"
   ]
  }
 ],
 "metadata": {
  "kernelspec": {
   "display_name": ".menv",
   "language": "python",
   "name": "python3"
  },
  "language_info": {
   "codemirror_mode": {
    "name": "ipython",
    "version": 3
   },
   "file_extension": ".py",
   "mimetype": "text/x-python",
   "name": "python",
   "nbconvert_exporter": "python",
   "pygments_lexer": "ipython3",
   "version": "3.12.3"
  }
 },
 "nbformat": 4,
 "nbformat_minor": 2
}
