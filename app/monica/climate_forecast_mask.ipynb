{
 "cells": [
  {
   "cell_type": "markdown",
   "metadata": {},
   "source": [
    "This code produces a polygon from the DWD 1x1km grid."
   ]
  },
  {
   "cell_type": "code",
   "execution_count": 50,
   "metadata": {},
   "outputs": [],
   "source": [
    "from netCDF4 import Dataset, MFDataset\n",
    "import numpy as np\n",
    "from datetime import datetime, timedelta\n",
    "from cftime import num2date, date2num, date2index\n",
    "import geopandas as gpd\n",
    "from shapely.geometry import Polygon\n",
    "from climate_data.lat_lon_mask import lat_lon_mask as mask\n",
    "import json"
   ]
  },
  {
   "cell_type": "code",
   "execution_count": 77,
   "metadata": {},
   "outputs": [],
   "source": [
    "nc = Dataset('climate_netcdf_forecast/combined.nc', 'r')"
   ]
  },
  {
   "cell_type": "code",
   "execution_count": 52,
   "metadata": {},
   "outputs": [
    {
     "data": {
      "text/plain": [
       "dict_keys(['time', 'time_bnds', 'lon', 'lat', 'height', 'hurs', 'pr', 'rsds', 'sfcWind', 'tas', 'tasmax', 'tasmin'])"
      ]
     },
     "execution_count": 52,
     "metadata": {},
     "output_type": "execute_result"
    }
   ],
   "source": [
    "nc.variables.keys()"
   ]
  },
  {
   "cell_type": "code",
   "execution_count": 78,
   "metadata": {},
   "outputs": [],
   "source": [
    "forecast_lats = nc.variables['lat'][:]\n",
    "forecast_lons = nc.variables['lon'][:]"
   ]
  },
  {
   "cell_type": "code",
   "execution_count": 79,
   "metadata": {},
   "outputs": [],
   "source": [
    "mask = np.ma.getmask(nc['hurs'][0])\n",
    "\n",
    "# # Convert the mask to a boolean array (True for masked/missing data, False otherwise)\n",
    "boolean_mask = np.logical_not(mask.astype(bool))"
   ]
  },
  {
   "cell_type": "code",
   "execution_count": 80,
   "metadata": {},
   "outputs": [
    {
     "data": {
      "text/plain": [
       "True"
      ]
     },
     "execution_count": 80,
     "metadata": {},
     "output_type": "execute_result"
    }
   ],
   "source": [
    "boolean_mask[50][50]"
   ]
  },
  {
   "cell_type": "code",
   "execution_count": 81,
   "metadata": {},
   "outputs": [],
   "source": [
    "forecast_mask = {\n",
    "    'lat': forecast_lats.tolist(),\n",
    "    'lon': forecast_lons.tolist(),\n",
    "    'mask': boolean_mask.tolist()\n",
    "}"
   ]
  },
  {
   "cell_type": "code",
   "execution_count": 82,
   "metadata": {},
   "outputs": [],
   "source": [
    "with open('climate_netcdf_forecast/forecast_mask.py', 'w') as f:\n",
    "    json.dump(forecast_mask, f)\n"
   ]
  },
  {
   "cell_type": "code",
   "execution_count": 83,
   "metadata": {},
   "outputs": [],
   "source": [
    "# Geojson\n",
    "# create point_geojson\n",
    "point_geojson = {\n",
    "    \"type\": \"FeatureCollection\",\n",
    "    \"features\": []\n",
    "}\n",
    "\n",
    "for i in range(len(forecast_lats)):\n",
    "    for j in range(len(forecast_lons)):\n",
    "        if boolean_mask[i, j]:\n",
    "            point_geojson['features'].append({\n",
    "                \"type\": \"Feature\",\n",
    "                \"geometry\": {\n",
    "                    \"type\": \"Point\",\n",
    "                    \"coordinates\": [forecast_lons[j], forecast_lats[i]]\n",
    "                },\n",
    "                \"properties\": {\n",
    "                    \"lon\": forecast_lons[j],\n",
    "                    \"lat\": forecast_lats[i],\n",
    "                    \"lon_idx\": j,\n",
    "                    \"lat_idx\": i\n",
    "                }\n",
    "            })"
   ]
  },
  {
   "cell_type": "code",
   "execution_count": 36,
   "metadata": {},
   "outputs": [],
   "source": [
    "with open('climate_netcdf_forecast/forecast_points.geojson', 'w') as f:\n",
    "    json.dump(point_geojson, f)"
   ]
  },
  {
   "cell_type": "code",
   "execution_count": 84,
   "metadata": {},
   "outputs": [],
   "source": [
    "# create polygon_geojson\n",
    "lat_diffs = np.diff(forecast_lats)\n",
    "lon_diffs = np.diff(forecast_lons)\n",
    "lon_diff = lon_diffs.mean()\n",
    "lat_diff = lat_diffs.mean()"
   ]
  },
  {
   "cell_type": "code",
   "execution_count": 90,
   "metadata": {},
   "outputs": [],
   "source": [
    "polygon_geojson = {\n",
    "    \"type\": \"FeatureCollection\",\n",
    "    \"features\": []\n",
    "}\n",
    "\n",
    "for p in point_geojson[\"features\"]:\n",
    "    polygon_geojson[\"features\"].append({\n",
    "        \"type\": \"Feature\",\n",
    "        \"geometry\": {\n",
    "            \"type\": \"Polygon\",\n",
    "            \"coordinates\": [[\n",
    "                [p[\"geometry\"][\"coordinates\"][0] - lon_diff/2, p[\"geometry\"][\"coordinates\"][1] - lat_diff/2],\n",
    "                [p[\"geometry\"][\"coordinates\"][0] + lon_diff/2, p[\"geometry\"][\"coordinates\"][1] - lat_diff/2],\n",
    "                [p[\"geometry\"][\"coordinates\"][0] + lon_diff/2, p[\"geometry\"][\"coordinates\"][1] + lat_diff/2],\n",
    "                [p[\"geometry\"][\"coordinates\"][0] - lon_diff/2, p[\"geometry\"][\"coordinates\"][1] + lat_diff/2],\n",
    "                [p[\"geometry\"][\"coordinates\"][0] - lon_diff/2, p[\"geometry\"][\"coordinates\"][1] - lat_diff/2],\n",
    "            ]]\n",
    "        },\n",
    "        \"properties\": p[\"properties\"]\n",
    "    })"
   ]
  },
  {
   "cell_type": "code",
   "execution_count": 92,
   "metadata": {},
   "outputs": [],
   "source": [
    "with open('climate_netcdf_forecast/forecast_polygons.geojson', 'w') as f:\n",
    "    json.dump(polygon_geojson, f)"
   ]
  },
  {
   "cell_type": "code",
   "execution_count": null,
   "metadata": {},
   "outputs": [],
   "source": []
  },
  {
   "cell_type": "code",
   "execution_count": 55,
   "metadata": {},
   "outputs": [],
   "source": [
    "\n"
   ]
  },
  {
   "cell_type": "code",
   "execution_count": 56,
   "metadata": {},
   "outputs": [],
   "source": []
  },
  {
   "cell_type": "code",
   "execution_count": null,
   "metadata": {},
   "outputs": [],
   "source": []
  }
 ],
 "metadata": {
  "kernelspec": {
   "display_name": ".venv",
   "language": "python",
   "name": "python3"
  },
  "language_info": {
   "codemirror_mode": {
    "name": "ipython",
    "version": 3
   },
   "file_extension": ".py",
   "mimetype": "text/x-python",
   "name": "python",
   "nbconvert_exporter": "python",
   "pygments_lexer": "ipython3",
   "version": "3.10.12"
  }
 },
 "nbformat": 4,
 "nbformat_minor": 2
}
