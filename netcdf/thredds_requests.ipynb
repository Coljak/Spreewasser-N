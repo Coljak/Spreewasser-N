{
 "cells": [
  {
   "cell_type": "code",
   "execution_count": 1,
   "metadata": {},
   "outputs": [],
   "source": [
    "import requests\n",
    "import json\n",
    "import os\n",
    "import xmltodict\n"
   ]
  },
  {
   "cell_type": "code",
   "execution_count": null,
   "metadata": {},
   "outputs": [],
   "source": []
  },
  {
   "cell_type": "code",
   "execution_count": 6,
   "metadata": {},
   "outputs": [],
   "source": [
    "server = \"http://127.0.0.1:8088/thredds/wms/testAll/data/DWD_SpreeWasser_N_cf_v4/zalf_hurs_amber_2011_v1-0_cf_v4.nc\"\n",
    "info = requests.get(server + \"?service=WMS&version=1.3.0&request=GetCapabilities\")"
   ]
  },
  {
   "cell_type": "code",
   "execution_count": 7,
   "metadata": {},
   "outputs": [
    {
     "data": {
      "text/plain": [
       "{'WMS_Capabilities': {'@version': '1.3.0',\n",
       "  '@updateSequence': '2024-02-09T14:03:07.861Z',\n",
       "  '@xmlns': 'http://www.opengis.net/wms',\n",
       "  '@xmlns:xlink': 'http://www.w3.org/1999/xlink',\n",
       "  '@xmlns:xsi': 'http://www.w3.org/2001/XMLSchema-instance',\n",
       "  '@xmlns:edal': 'http://reading-escience-centre.github.io/edal-java/wms',\n",
       "  '@xsi:schemaLocation': 'http://www.opengis.net/wms http://schemas.opengis.net/wms/1.3.0/capabilities_1_3_0.xsd',\n",
       "  'Service': {'Name': 'WMS',\n",
       "   'Title': 'Spreewasser:N THREDDS',\n",
       "   'Abstract': 'Scientific Data',\n",
       "   'KeywordList': {'Keyword': ['meteorology',\n",
       "     'atmosphere',\n",
       "     'climate',\n",
       "     'ocean',\n",
       "     'earth science']},\n",
       "   'OnlineResource': {'@xlink:type': 'simple',\n",
       "    '@xlink:href': 'http://127.0.0.1:8088/thredds/wms/testAll/data/DWD_SpreeWasser_N_cf_v4/zalf_hurs_amber_2011_v1-0_cf_v4.nc'},\n",
       "   'ContactInformation': {'ContactPersonPrimary': {'ContactPerson': 'Support',\n",
       "     'ContactOrganization': 'Zentrum für Agrarlandschaftsforschung e.V.'},\n",
       "    'ContactVoiceTelephone': None,\n",
       "    'ContactElectronicMailAddress': 'colja.krugmann@zalf.de'},\n",
       "   'Fees': 'none',\n",
       "   'AccessConstraints': 'none',\n",
       "   'LayerLimit': '1',\n",
       "   'MaxWidth': '2048',\n",
       "   'MaxHeight': '2048'},\n",
       "  'Capability': {'Request': {'GetCapabilities': {'Format': 'text/xml',\n",
       "     'DCPType': {'HTTP': {'Get': {'OnlineResource': {'@xlink:type': 'simple',\n",
       "         '@xlink:href': 'http://127.0.0.1:8088/thredds/wms/testAll/data/DWD_SpreeWasser_N_cf_v4/zalf_hurs_amber_2011_v1-0_cf_v4.nc'}}}}},\n",
       "    'GetMap': {'Format': ['image/png',\n",
       "      'image/png;mode=32bit',\n",
       "      'image/gif',\n",
       "      'image/jpeg',\n",
       "      'application/vnd.google-earth.kmz'],\n",
       "     'DCPType': {'HTTP': {'Get': {'OnlineResource': {'@xlink:type': 'simple',\n",
       "         '@xlink:href': 'http://127.0.0.1:8088/thredds/wms/testAll/data/DWD_SpreeWasser_N_cf_v4/zalf_hurs_amber_2011_v1-0_cf_v4.nc'}}}}},\n",
       "    'GetFeatureInfo': {'Format': ['text/plain', 'text/xml', 'text/html'],\n",
       "     'DCPType': {'HTTP': {'Get': {'OnlineResource': {'@xlink:type': 'simple',\n",
       "         '@xlink:href': 'http://127.0.0.1:8088/thredds/wms/testAll/data/DWD_SpreeWasser_N_cf_v4/zalf_hurs_amber_2011_v1-0_cf_v4.nc'}}}}}},\n",
       "   'Exception': {'Format': 'XML'},\n",
       "   'edal:ExtendedCapabilities': {'edal:CapabilitiesType': 'ncWMS2',\n",
       "    'edal:ExtendedRequest': [{'edal:Request': 'GetMap',\n",
       "      'edal:UrlParameter': [{'edal:ParameterName': 'COLORSCALERANGE',\n",
       "        'edal:ParameterDescription': 'Of the form min,max this is the scale range used for plotting the data.'},\n",
       "       {'edal:ParameterName': 'NUMCOLORBANDS',\n",
       "        'edal:ParameterDescription': 'The number of discrete colours to plot the data. Must be between 2 and 250'},\n",
       "       {'edal:ParameterName': 'ABOVEMAXCOLOR',\n",
       "        'edal:ParameterDescription': 'The colour to plot values which are above the maximum end of the scale range. Colours are as defined above, with the addition of \"extend\", which will use the maximum value of the palette.'},\n",
       "       {'edal:ParameterName': 'BELOWMINCOLOR',\n",
       "        'edal:ParameterDescription': 'The colour to plot values which are below the minimum end of the scale range. Colours are as defined above, with the addition of \"extend\", which will use the minimum value of the palette.'},\n",
       "       {'edal:ParameterName': 'LOGSCALE',\n",
       "        'edal:ParameterDescription': '\"true\" or \"false\" - whether to plot data with a logarithmic scale'},\n",
       "       {'edal:ParameterName': 'TARGETTIME',\n",
       "        'edal:ParameterDescription': 'For in-situ data, all points which fall within the time range (specified in the TIME parameter) will be plotted. In the case that an in-situ point has multiple time readings within that range, the colour used to plot them will depend on the time value which is closest to this given value'},\n",
       "       {'edal:ParameterName': 'TARGETELEVATION',\n",
       "        'edal:ParameterDescription': 'For in-situ data, all points which fall within the elevation range (specified in the ELEVATION parameter) will be plotted. In the case that an in-situ point has multiple elevation readings within that range, the colour used to plot them will depend on the elevation value which is closest to this given value'},\n",
       "       {'edal:ParameterName': 'OPACITY',\n",
       "        'edal:ParameterDescription': 'The percentage opacity of the final output image'},\n",
       "       {'edal:ParameterName': 'ANIMATION',\n",
       "        'edal:ParameterDescription': '\"true\" or \"false\" - whether to generate an animation. This also needs the TIME to be of the formstarttime/endtime, and currently is only implemented for features with a discrete time axis.'}]},\n",
       "     {'edal:Request': 'GetTimeseries',\n",
       "      'edal:RequestDescription': 'This produces either a timeseries graph or, if downloading is enabled, a CSV file containing the data. The URL parameters are identical to those of a GetFeatureInfo request. The TIME parameter should specify a range of times in the form starttime/endtime, and the supported formats are: image/png,image/jpg,image/jpeg,text/csv,text/json,application/prs.coverage+json,application/prs.coverage json'},\n",
       "     {'edal:Request': 'GetVerticalProfile',\n",
       "      'edal:RequestDescription': 'This produces either a vertical profile graph or, if downloading is enabled, a CSV file containing the data. The URL parameters are identical to those of a GetFeatureInfo request. The ELEVATION parameter should specify a range of elevations in the form startelevation/endelevation, and the supported formats are: image/png,image/jpg,image/jpeg,text/csv,text/json,application/prs.coverage+json,application/prs.coverage json'},\n",
       "     {'edal:Request': 'GetTransect',\n",
       "      'edal:RequestDescription': 'This produces a graph of data values along an arbitrary path. Additionally if there is vertical information present in the dataset, it will produce a vertical section along the same path.  It accepts the same URL parameters as a GetMap requestion, with the additional mandatory parameter LINESTRING',\n",
       "      'edal:UrlParameter': {'edal:ParameterName': 'LINESTRING',\n",
       "       'edal:ParameterDescription': 'The points which define the path of the transect to plot.  Of the form x1 y1,x2 y2,x3 y3...'}},\n",
       "     {'edal:Request': 'GetMetadata',\n",
       "      'edal:RequestDescription': 'Fetches small pieces of metadata.  Many of these are also present in this capabilities document, but GetMetadata provides a more convenient method of accessing such data. GetMetadata always returns data in the JSON format',\n",
       "      'edal:UrlParameter': {'edal:ParameterName': 'ITEM',\n",
       "       'edal:ParameterDescription': \"This specifies the metadata to return.  This can take the values:\\n                        menu: Returns a tree representation of the available WMS layers, with IDs. Takes the optional parameter DATASET to return the same tree for a single dataset\\n                        layerDetails: Returns a set of details needed to plot a given layer. This includes such data as units, layer bounding box, configured scale range, etc. Takes the parameters LAYERNAME and TIME. The TIME parameter is optional, and if it is specified then the nearest available time is returned as part of the layer's details.\\n                        minmax: Calculates the range of values in the given area. Takes the same parameters as a GetMap request.\\n                        timesteps: Returns the available times for a given day. Takes the parameters LAYERNAME and DAY (yyyy-mm-dd)\\n                        animationTimesteps: Returns a list of time strings at different temporal resolutions for a given time range. This is used to present to the user different frequencies for the generation of an animation. Takes the parameters LAYERNAME, START, and END\"}},\n",
       "     {'edal:Request': 'GetLegendGraphic',\n",
       "      'edal:RequestDescription': 'The GetLegendGraphic request generates an image which can be used as a legend. There are two main options: Generating just a colourbar, and generating a full legend.',\n",
       "      'edal:UrlParameter': {'edal:ParameterName': 'COLORBARONLY',\n",
       "       'edal:ParameterDescription': '\"true\" or \"false\".  Whether to generate a full legend or just the colour bar.  If it\\'s \"true\", the following URL parameters are required:\\n                        PALETTE: The name of the palette to use. If missing, set to \"default\"\\n                        NUMCOLORBANDS: The number of colour bands to use. If missing, set to 250\\n                        VERTICAL: Whether to very colours vertically. If missing, defaults to true\\n                        WIDTH: The width of the image to generate. If missing, defaults to 50\\n                        HEIGHT: The height of the image to generate. If missing, defaults to 200\\n                    \\n                    For a full legend, the additional parameters LAYERS and either STYLES, SLD, or SLD_BODY must be supplied. This is because a single WMS layer may depend on an arbitrary number of sub-layers, depending on the style it is plotted in. In addition to these parameters, the optional parameters controlling the style may be supplied (these are the same as documented in the GetMap request).  Note that for full legends, the supplied width and height are NOT the final height of the image, but rather the width and height of each individual coloured plot area (i.e. the 1d/2d colourbar)'}}]},\n",
       "   'Layer': {'Title': 'Spreewasser:N THREDDS',\n",
       "    'CRS': ['EPSG:4326',\n",
       "     'CRS:84',\n",
       "     'EPSG:41001',\n",
       "     'EPSG:27700',\n",
       "     'EPSG:3408',\n",
       "     'EPSG:3409',\n",
       "     'EPSG:3857',\n",
       "     'EPSG:5041',\n",
       "     'EPSG:5042',\n",
       "     'EPSG:32661',\n",
       "     'EPSG:32761'],\n",
       "    'Layer': {'Title': 'DWD relative humidity data',\n",
       "     'Layer': {'@queryable': '1',\n",
       "      'Name': 'hurs',\n",
       "      'Title': 'Near-Surface Relative Humidity',\n",
       "      'Abstract': 'Near-Surface Relative Humidity',\n",
       "      'EX_GeographicBoundingBox': {'westBoundLongitude': '5.866250515',\n",
       "       'eastBoundLongitude': '15.041815757777801',\n",
       "       'southBoundLatitude': '47.270122528055595',\n",
       "       'northBoundLatitude': '55.0565261841667'},\n",
       "      'BoundingBox': {'@CRS': 'CRS:84',\n",
       "       '@minx': '5.866250515',\n",
       "       '@maxx': '15.041815757777801',\n",
       "       '@miny': '47.270122528055595',\n",
       "       '@maxy': '55.0565261841667'},\n",
       "      'Dimension': {'@name': 'time',\n",
       "       '@units': 'ISO8601',\n",
       "       '@multipleValues': 'true',\n",
       "       '@current': 'true',\n",
       "       '@default': '2011-12-31T00:00:00.000Z',\n",
       "       '#text': '2011-01-01T00:00:00.000Z/2011-12-31T00:00:00.000Z/P1D'},\n",
       "      'Style': [{'Name': 'default-scalar/default',\n",
       "        'Title': 'default-scalar/default',\n",
       "        'Abstract': 'default-scalar style, using the default palette.  Available palettes can be found in the response to http://127.0.0.1:8088/thredds/wms/testAll/data/DWD_SpreeWasser_N_cf_v4/zalf_hurs_amber_2011_v1-0_cf_v4.nc?request=GetMetadata&item=layerDetails&layerName=hurs',\n",
       "        'LegendURL': {'@width': '110',\n",
       "         '@height': '264',\n",
       "         'Format': 'image/png',\n",
       "         'OnlineResource': {'@xlink:type': 'simple',\n",
       "          '@xlink:href': 'http://127.0.0.1:8088/thredds/wms/testAll/data/DWD_SpreeWasser_N_cf_v4/zalf_hurs_amber_2011_v1-0_cf_v4.nc?REQUEST=GetLegendGraphic&PALETTE=default&LAYERS=hurs&STYLES=default-scalar/default'}}},\n",
       "       {'Name': 'colored_contours/default',\n",
       "        'Title': 'colored_contours/default',\n",
       "        'Abstract': 'colored_contours style, using the default palette.  Available palettes can be found in the response to http://127.0.0.1:8088/thredds/wms/testAll/data/DWD_SpreeWasser_N_cf_v4/zalf_hurs_amber_2011_v1-0_cf_v4.nc?request=GetMetadata&item=layerDetails&layerName=hurs',\n",
       "        'LegendURL': {'@width': '110',\n",
       "         '@height': '264',\n",
       "         'Format': 'image/png',\n",
       "         'OnlineResource': {'@xlink:type': 'simple',\n",
       "          '@xlink:href': 'http://127.0.0.1:8088/thredds/wms/testAll/data/DWD_SpreeWasser_N_cf_v4/zalf_hurs_amber_2011_v1-0_cf_v4.nc?REQUEST=GetLegendGraphic&PALETTE=default&LAYERS=hurs&STYLES=colored_contours/default'}}},\n",
       "       {'Name': 'contours', 'Title': 'contours', 'Abstract': 'contours style'},\n",
       "       {'Name': 'raster/default',\n",
       "        'Title': 'raster/default',\n",
       "        'Abstract': 'raster style, using the default palette.  Available palettes can be found in the response to http://127.0.0.1:8088/thredds/wms/testAll/data/DWD_SpreeWasser_N_cf_v4/zalf_hurs_amber_2011_v1-0_cf_v4.nc?request=GetMetadata&item=layerDetails&layerName=hurs',\n",
       "        'LegendURL': {'@width': '110',\n",
       "         '@height': '264',\n",
       "         'Format': 'image/png',\n",
       "         'OnlineResource': {'@xlink:type': 'simple',\n",
       "          '@xlink:href': 'http://127.0.0.1:8088/thredds/wms/testAll/data/DWD_SpreeWasser_N_cf_v4/zalf_hurs_amber_2011_v1-0_cf_v4.nc?REQUEST=GetLegendGraphic&PALETTE=default&LAYERS=hurs&STYLES=raster/default'}}}]}}}}}}"
      ]
     },
     "execution_count": 7,
     "metadata": {},
     "output_type": "execute_result"
    }
   ],
   "source": [
    "info.text\n",
    "xmltodict.parse(info.content)"
   ]
  },
  {
   "cell_type": "markdown",
   "metadata": {},
   "source": [
    "<h1>All Capabilities"
   ]
  },
  {
   "cell_type": "markdown",
   "metadata": {},
   "source": [
    "<h2>GetFeatureInfo</h2>\n",
    "the parameters are always the least necessary"
   ]
  },
  {
   "cell_type": "code",
   "execution_count": 78,
   "metadata": {},
   "outputs": [
    {
     "data": {
      "text/plain": [
       "{'FeatureInfoResponse': {'longitude': '52.7509765625',\n",
       "  'latitude': '12.899609375'}}"
      ]
     },
     "execution_count": 78,
     "metadata": {},
     "output_type": "execute_result"
    }
   ],
   "source": [
    "# 'GetFeatureInfo' hat two options: 'You must specify either SLD, SLD_BODY or LAYERS and STYLES'\n",
    "\n",
    "params = {\n",
    "    'service': 'WMS',\n",
    "    'version': '1.3.0',\n",
    "    'request': 'GetFeatureInfo',\n",
    "    'Format': 'text/xml', #[ \"text/plain\", \"text/xml\", \"text/html\" ]\n",
    "    'layers': 'hurs',\n",
    "    'query_layers': 'hurs',\n",
    "    'crs': 'EPSG:4326',\n",
    "    'bbox': '12.8,52.5,13.0,53.0',\n",
    "    'width': '256',\n",
    "    'height': '256',\n",
    "    'i': '128',\n",
    "    'j': '128',\n",
    "}\n",
    "getfeatureinfo = requests.get(server, params=params)\n",
    "text = getfeatureinfo.text\n",
    "xmltodict.parse(text)"
   ]
  },
  {
   "cell_type": "markdown",
   "metadata": {},
   "source": [
    "<h2>GetMetadata</h2>\n",
    "<p>GetMetadata generally return a json response, not a xml"
   ]
  },
  {
   "cell_type": "code",
   "execution_count": 80,
   "metadata": {},
   "outputs": [
    {
     "data": {
      "text/plain": [
       "{'children': [{'children': [{'plottable': True,\n",
       "     'id': 'hurs',\n",
       "     'label': 'Near-Surface Relative Humidity'}],\n",
       "   'label': 'DWD relative humidity data'}],\n",
       " 'label': 'Spreewasser:N THREDDS'}"
      ]
     },
     "execution_count": 80,
     "metadata": {},
     "output_type": "execute_result"
    }
   ],
   "source": [
    "params = {\n",
    "    'Service': 'WMS',\n",
    "    'version':'1.3.0',\n",
    "    'request': 'GetMetadata',\n",
    "    'ITEM': 'menu'\n",
    "}\n",
    "getmetadata = requests.get(server, params=params)\n",
    "# getmetadata.text\n",
    "meta_dict = json.loads(getmetadata.text)\n",
    "meta_dict"
   ]
  },
  {
   "cell_type": "markdown",
   "metadata": {},
   "source": [
    "<p>this returns the same. The upper metadata request is probably also for a collection"
   ]
  },
  {
   "cell_type": "code",
   "execution_count": 81,
   "metadata": {},
   "outputs": [
    {
     "data": {
      "text/plain": [
       "'{\\n    \"children\": [{\\n        \"children\": [{\\n            \"plottable\": true,\\n            \"id\": \"hurs\",\\n            \"label\": \"Near-Surface Relative Humidity\"\\n        }],\\n        \"label\": \"DWD relative humidity data\"\\n    }],\\n    \"label\": \"Spreewasser:N THREDDS\"\\n}'"
      ]
     },
     "execution_count": 81,
     "metadata": {},
     "output_type": "execute_result"
    }
   ],
   "source": [
    "params = {\n",
    "    'Service': 'WMS',\n",
    "    'version':'1.3.0',\n",
    "    'request': 'GetMetadata',\n",
    "    'DATASET': data_var,\n",
    "    # 'LAYERNAME': data_var,\n",
    "    'ITEM': 'menu'\n",
    "}\n",
    "getmetadata = requests.get(server, params=params)\n",
    "getmetadata.text"
   ]
  },
  {
   "cell_type": "code",
   "execution_count": 82,
   "metadata": {},
   "outputs": [
    {
     "data": {
      "text/plain": [
       "{'plottable': True, 'id': 'hurs', 'label': 'Near-Surface Relative Humidity'}"
      ]
     },
     "execution_count": 82,
     "metadata": {},
     "output_type": "execute_result"
    }
   ],
   "source": [
    "data_var = meta_dict['children'][0]['children'][0]['id']\n",
    "meta_dict['children'][0]['children'][0]\n"
   ]
  },
  {
   "cell_type": "code",
   "execution_count": 84,
   "metadata": {},
   "outputs": [
    {
     "data": {
      "text/plain": [
       "{'scaleRange': [-50, 50],\n",
       " 'categorical': False,\n",
       " 'belowMinColor': 'extend',\n",
       " 'noDataColor': 'extend',\n",
       " 'downloadable': True,\n",
       " 'datesWithData': {'2011': {'0': [1,\n",
       "    2,\n",
       "    3,\n",
       "    4,\n",
       "    5,\n",
       "    6,\n",
       "    7,\n",
       "    8,\n",
       "    9,\n",
       "    10,\n",
       "    11,\n",
       "    12,\n",
       "    13,\n",
       "    14,\n",
       "    15,\n",
       "    16,\n",
       "    17,\n",
       "    18,\n",
       "    19,\n",
       "    20,\n",
       "    21,\n",
       "    22,\n",
       "    23,\n",
       "    24,\n",
       "    25,\n",
       "    26,\n",
       "    27,\n",
       "    28,\n",
       "    29,\n",
       "    30,\n",
       "    31],\n",
       "   '11': [1,\n",
       "    2,\n",
       "    3,\n",
       "    4,\n",
       "    5,\n",
       "    6,\n",
       "    7,\n",
       "    8,\n",
       "    9,\n",
       "    10,\n",
       "    11,\n",
       "    12,\n",
       "    13,\n",
       "    14,\n",
       "    15,\n",
       "    16,\n",
       "    17,\n",
       "    18,\n",
       "    19,\n",
       "    20,\n",
       "    21,\n",
       "    22,\n",
       "    23,\n",
       "    24,\n",
       "    25,\n",
       "    26,\n",
       "    27,\n",
       "    28,\n",
       "    29,\n",
       "    30,\n",
       "    31],\n",
       "   '1': [1,\n",
       "    2,\n",
       "    3,\n",
       "    4,\n",
       "    5,\n",
       "    6,\n",
       "    7,\n",
       "    8,\n",
       "    9,\n",
       "    10,\n",
       "    11,\n",
       "    12,\n",
       "    13,\n",
       "    14,\n",
       "    15,\n",
       "    16,\n",
       "    17,\n",
       "    18,\n",
       "    19,\n",
       "    20,\n",
       "    21,\n",
       "    22,\n",
       "    23,\n",
       "    24,\n",
       "    25,\n",
       "    26,\n",
       "    27,\n",
       "    28],\n",
       "   '2': [1,\n",
       "    2,\n",
       "    3,\n",
       "    4,\n",
       "    5,\n",
       "    6,\n",
       "    7,\n",
       "    8,\n",
       "    9,\n",
       "    10,\n",
       "    11,\n",
       "    12,\n",
       "    13,\n",
       "    14,\n",
       "    15,\n",
       "    16,\n",
       "    17,\n",
       "    18,\n",
       "    19,\n",
       "    20,\n",
       "    21,\n",
       "    22,\n",
       "    23,\n",
       "    24,\n",
       "    25,\n",
       "    26,\n",
       "    27,\n",
       "    28,\n",
       "    29,\n",
       "    30,\n",
       "    31],\n",
       "   '3': [1,\n",
       "    2,\n",
       "    3,\n",
       "    4,\n",
       "    5,\n",
       "    6,\n",
       "    7,\n",
       "    8,\n",
       "    9,\n",
       "    10,\n",
       "    11,\n",
       "    12,\n",
       "    13,\n",
       "    14,\n",
       "    15,\n",
       "    16,\n",
       "    17,\n",
       "    18,\n",
       "    19,\n",
       "    20,\n",
       "    21,\n",
       "    22,\n",
       "    23,\n",
       "    24,\n",
       "    25,\n",
       "    26,\n",
       "    27,\n",
       "    28,\n",
       "    29,\n",
       "    30],\n",
       "   '4': [1,\n",
       "    2,\n",
       "    3,\n",
       "    4,\n",
       "    5,\n",
       "    6,\n",
       "    7,\n",
       "    8,\n",
       "    9,\n",
       "    10,\n",
       "    11,\n",
       "    12,\n",
       "    13,\n",
       "    14,\n",
       "    15,\n",
       "    16,\n",
       "    17,\n",
       "    18,\n",
       "    19,\n",
       "    20,\n",
       "    21,\n",
       "    22,\n",
       "    23,\n",
       "    24,\n",
       "    25,\n",
       "    26,\n",
       "    27,\n",
       "    28,\n",
       "    29,\n",
       "    30,\n",
       "    31],\n",
       "   '5': [1,\n",
       "    2,\n",
       "    3,\n",
       "    4,\n",
       "    5,\n",
       "    6,\n",
       "    7,\n",
       "    8,\n",
       "    9,\n",
       "    10,\n",
       "    11,\n",
       "    12,\n",
       "    13,\n",
       "    14,\n",
       "    15,\n",
       "    16,\n",
       "    17,\n",
       "    18,\n",
       "    19,\n",
       "    20,\n",
       "    21,\n",
       "    22,\n",
       "    23,\n",
       "    24,\n",
       "    25,\n",
       "    26,\n",
       "    27,\n",
       "    28,\n",
       "    29,\n",
       "    30],\n",
       "   '6': [1,\n",
       "    2,\n",
       "    3,\n",
       "    4,\n",
       "    5,\n",
       "    6,\n",
       "    7,\n",
       "    8,\n",
       "    9,\n",
       "    10,\n",
       "    11,\n",
       "    12,\n",
       "    13,\n",
       "    14,\n",
       "    15,\n",
       "    16,\n",
       "    17,\n",
       "    18,\n",
       "    19,\n",
       "    20,\n",
       "    21,\n",
       "    22,\n",
       "    23,\n",
       "    24,\n",
       "    25,\n",
       "    26,\n",
       "    27,\n",
       "    28,\n",
       "    29,\n",
       "    30,\n",
       "    31],\n",
       "   '7': [1,\n",
       "    2,\n",
       "    3,\n",
       "    4,\n",
       "    5,\n",
       "    6,\n",
       "    7,\n",
       "    8,\n",
       "    9,\n",
       "    10,\n",
       "    11,\n",
       "    12,\n",
       "    13,\n",
       "    14,\n",
       "    15,\n",
       "    16,\n",
       "    17,\n",
       "    18,\n",
       "    19,\n",
       "    20,\n",
       "    21,\n",
       "    22,\n",
       "    23,\n",
       "    24,\n",
       "    25,\n",
       "    26,\n",
       "    27,\n",
       "    28,\n",
       "    29,\n",
       "    30,\n",
       "    31],\n",
       "   '8': [1,\n",
       "    2,\n",
       "    3,\n",
       "    4,\n",
       "    5,\n",
       "    6,\n",
       "    7,\n",
       "    8,\n",
       "    9,\n",
       "    10,\n",
       "    11,\n",
       "    12,\n",
       "    13,\n",
       "    14,\n",
       "    15,\n",
       "    16,\n",
       "    17,\n",
       "    18,\n",
       "    19,\n",
       "    20,\n",
       "    21,\n",
       "    22,\n",
       "    23,\n",
       "    24,\n",
       "    25,\n",
       "    26,\n",
       "    27,\n",
       "    28,\n",
       "    29,\n",
       "    30],\n",
       "   '9': [1,\n",
       "    2,\n",
       "    3,\n",
       "    4,\n",
       "    5,\n",
       "    6,\n",
       "    7,\n",
       "    8,\n",
       "    9,\n",
       "    10,\n",
       "    11,\n",
       "    12,\n",
       "    13,\n",
       "    14,\n",
       "    15,\n",
       "    16,\n",
       "    17,\n",
       "    18,\n",
       "    19,\n",
       "    20,\n",
       "    21,\n",
       "    22,\n",
       "    23,\n",
       "    24,\n",
       "    25,\n",
       "    26,\n",
       "    27,\n",
       "    28,\n",
       "    29,\n",
       "    30,\n",
       "    31],\n",
       "   '10': [1,\n",
       "    2,\n",
       "    3,\n",
       "    4,\n",
       "    5,\n",
       "    6,\n",
       "    7,\n",
       "    8,\n",
       "    9,\n",
       "    10,\n",
       "    11,\n",
       "    12,\n",
       "    13,\n",
       "    14,\n",
       "    15,\n",
       "    16,\n",
       "    17,\n",
       "    18,\n",
       "    19,\n",
       "    20,\n",
       "    21,\n",
       "    22,\n",
       "    23,\n",
       "    24,\n",
       "    25,\n",
       "    26,\n",
       "    27,\n",
       "    28,\n",
       "    29,\n",
       "    30]}},\n",
       " 'continuousT': False,\n",
       " 'bbox': [5.866250515,\n",
       "  47.270122528055595,\n",
       "  15.041815757777801,\n",
       "  55.0565261841667],\n",
       " 'supportsProfiles': False,\n",
       " 'palettes': ['default',\n",
       "  'default-inv',\n",
       "  'div-BrBG',\n",
       "  'div-BrBG-inv',\n",
       "  'div-BuRd',\n",
       "  'div-BuRd-inv',\n",
       "  'div-BuRd2',\n",
       "  'div-BuRd2-inv',\n",
       "  'div-PRGn',\n",
       "  'div-PRGn-inv',\n",
       "  'div-PiYG',\n",
       "  'div-PiYG-inv',\n",
       "  'div-PuOr',\n",
       "  'div-PuOr-inv',\n",
       "  'div-RdBu',\n",
       "  'div-RdBu-inv',\n",
       "  'div-RdGy',\n",
       "  'div-RdGy-inv',\n",
       "  'div-RdYlBu',\n",
       "  'div-RdYlBu-inv',\n",
       "  'div-RdYlGn',\n",
       "  'div-RdYlGn-inv',\n",
       "  'div-Spectral',\n",
       "  'div-Spectral-inv',\n",
       "  'psu-inferno',\n",
       "  'psu-inferno-inv',\n",
       "  'psu-magma',\n",
       "  'psu-magma-inv',\n",
       "  'psu-plasma',\n",
       "  'psu-plasma-inv',\n",
       "  'psu-viridis',\n",
       "  'psu-viridis-inv',\n",
       "  'seq-BkBu',\n",
       "  'seq-BkBu-inv',\n",
       "  'seq-BkGn',\n",
       "  'seq-BkGn-inv',\n",
       "  'seq-BkRd',\n",
       "  'seq-BkRd-inv',\n",
       "  'seq-BkYl',\n",
       "  'seq-BkYl-inv',\n",
       "  'seq-BlueHeat',\n",
       "  'seq-BlueHeat-inv',\n",
       "  'seq-Blues',\n",
       "  'seq-Blues-inv',\n",
       "  'seq-BuGn',\n",
       "  'seq-BuGn-inv',\n",
       "  'seq-BuPu',\n",
       "  'seq-BuPu-inv',\n",
       "  'seq-BuYl',\n",
       "  'seq-BuYl-inv',\n",
       "  'seq-GnBu',\n",
       "  'seq-GnBu-inv',\n",
       "  'seq-Greens',\n",
       "  'seq-Greens-inv',\n",
       "  'seq-Greys',\n",
       "  'seq-Greys-inv',\n",
       "  'seq-GreysRev',\n",
       "  'seq-GreysRev-inv',\n",
       "  'seq-Heat',\n",
       "  'seq-Heat-inv',\n",
       "  'seq-OrRd',\n",
       "  'seq-OrRd-inv',\n",
       "  'seq-Oranges',\n",
       "  'seq-Oranges-inv',\n",
       "  'seq-PuBu',\n",
       "  'seq-PuBu-inv',\n",
       "  'seq-PuBuGn',\n",
       "  'seq-PuBuGn-inv',\n",
       "  'seq-PuRd',\n",
       "  'seq-PuRd-inv',\n",
       "  'seq-Purples',\n",
       "  'seq-Purples-inv',\n",
       "  'seq-RdPu',\n",
       "  'seq-RdPu-inv',\n",
       "  'seq-Reds',\n",
       "  'seq-Reds-inv',\n",
       "  'seq-YlGn',\n",
       "  'seq-YlGn-inv',\n",
       "  'seq-YlGnBu',\n",
       "  'seq-YlGnBu-inv',\n",
       "  'seq-YlOrBr',\n",
       "  'seq-YlOrBr-inv',\n",
       "  'seq-YlOrRd',\n",
       "  'seq-YlOrRd-inv',\n",
       "  'seq-cubeYF',\n",
       "  'seq-cubeYF-inv',\n",
       "  'x-Ncview',\n",
       "  'x-Ncview-inv',\n",
       "  'x-Occam',\n",
       "  'x-Occam-inv',\n",
       "  'x-Rainbow',\n",
       "  'x-Rainbow-inv',\n",
       "  'x-Sst',\n",
       "  'x-Sst-inv'],\n",
       " 'units': '%',\n",
       " 'numColorBands': 20,\n",
       " 'supportedStyles': ['default-scalar',\n",
       "  'colored_contours',\n",
       "  'contours',\n",
       "  'raster'],\n",
       " 'timeAxisUnits': 'ISO8601',\n",
       " 'defaultPalette': 'psu-viridis',\n",
       " 'queryable': True,\n",
       " 'supportsTimeseries': True,\n",
       " 'nearestTimeIso': '2011-12-31T00:00:00.000Z',\n",
       " 'aboveMaxColor': 'extend',\n",
       " 'noPaletteStyles': ['contours'],\n",
       " 'supportsTransects': True,\n",
       " 'logScaling': False}"
      ]
     },
     "execution_count": 84,
     "metadata": {},
     "output_type": "execute_result"
    }
   ],
   "source": [
    "params = {\n",
    "    'Service': 'WMS',\n",
    "    'version':'1.3.0',\n",
    "    'request': 'GetMetadata',\n",
    "    'LAYERNAME': data_var,\n",
    "    'ITEM': 'layerDetails'\n",
    "}\n",
    "getmetadata = requests.get(server, params=params)\n",
    "meta =  json.loads(getmetadata.text)\n",
    "meta_keys = json.loads(getmetadata.text).keys()\n",
    "meta"
   ]
  },
  {
   "cell_type": "markdown",
   "metadata": {},
   "source": [
    "<h3>Interesting metadata:</h3>\n",
    "<p>meta['defaultPalette'] = 'psu-viridis',<br>\n",
    "meta['supportedStyles'] = ['default-scalar', 'colored_contours', 'contours', 'raster'],<br>\n",
    "meta['palettes'] = ['default', 'default-inv','div-BrBG','div-BrBG-inv', 'div-BuRd',  'div-BuRd-inv', 'div-BuRd2','div-BuRd2-inv',...]<br>\n",
    "meta['datesWithData']['2011']['0'] returns days of january, meta['datesWithData']['2011']['11'] those of december</p>"
   ]
  },
  {
   "cell_type": "code",
   "execution_count": 77,
   "metadata": {},
   "outputs": [
    {
     "data": {
      "text/plain": [
       "'{\\n    \"children\": [{\\n        \"children\": [{\\n            \"plottable\": true,\\n            \"id\": \"hurs\",\\n            \"label\": \"Near-Surface Relative Humidity\"\\n        }],\\n        \"label\": \"DWD relative humidity data\"\\n    }],\\n    \"label\": \"Spreewasser:N THREDDS\"\\n}'"
      ]
     },
     "execution_count": 77,
     "metadata": {},
     "output_type": "execute_result"
    }
   ],
   "source": [
    "\n",
    "# meta =  json.loads(getmetadata.text)\n",
    "# meta_keys = json.loads(getmetadata.text).keys()"
   ]
  },
  {
   "cell_type": "code",
   "execution_count": 41,
   "metadata": {},
   "outputs": [
    {
     "data": {
      "text/plain": [
       "dict_keys(['scaleRange', 'categorical', 'belowMinColor', 'noDataColor', 'downloadable', 'datesWithData', 'continuousT', 'bbox', 'supportsProfiles', 'palettes', 'units', 'numColorBands', 'supportedStyles', 'timeAxisUnits', 'defaultPalette', 'queryable', 'supportsTimeseries', 'nearestTimeIso', 'aboveMaxColor', 'noPaletteStyles', 'supportsTransects', 'logScaling'])"
      ]
     },
     "execution_count": 41,
     "metadata": {},
     "output_type": "execute_result"
    }
   ],
   "source": [
    "meta_keys"
   ]
  },
  {
   "cell_type": "code",
   "execution_count": 11,
   "metadata": {},
   "outputs": [
    {
     "data": {
      "text/plain": [
       "<Response [400]>"
      ]
     },
     "execution_count": 11,
     "metadata": {},
     "output_type": "execute_result"
    }
   ],
   "source": [
    "http://127.0.0.1:8088/thredds/wms/testAll/data/DWD_SpreeWasser_N_cf_v4/zalf_hurs_amber_2011_v1-0_cf_v4.nc?Service=WMS&version=1.3.0&request=GetMetadata&ITEM=menu"
   ]
  },
  {
   "cell_type": "markdown",
   "metadata": {},
   "source": [
    "<h1>GetMap</h1>"
   ]
  },
  {
   "cell_type": "code",
   "execution_count": null,
   "metadata": {},
   "outputs": [],
   "source": [
    "params = {\n",
    "    'Format': 'image/png', # [ \"image/png\", \"image/png;mode=32bit\", \"image/gif\", \"image/jpeg\", \"application/vnd.google-earth.kmz\" ],\n",
    "    \n",
    "    #extended capabilities\n",
    "    \"COLORSCALERANGE\": \"min,max\",\n",
    "    \"NUMCOLORBANDS\": 100, # between 2 and 250\n",
    "    \"ABOVEMAXCOLOR\": \"extend\", \n",
    "    \"BELOWMINCOLOR\": \"extend\",\n",
    "    \"LOGSCALE\": False,\n",
    "    \"TARGETTIME\": \"2011-01-01T00:00:00Z\", #\"For in-situ data, all points which fall within the time range (specified in the TIME parameter) will be plotted. In the case that an in-situ point has multiple time readings within that range, the colour used to plot them will depend on the time value which is closest to this given value\" \n",
    "    #\"TARGETELEVATION\": , # \"For in-situ data, all points which fall within the elevation range (specified in the ELEVATION parameter) will be plotted. In the case that an in-situ point has multiple elevation readings within that range, the colour used to plot them will depend on the elevation value which is closest to this given value\"\n",
    "    \"OPACITY\": 100, # between 0 and 100\n",
    "    \"ANIMATION\": False,\n",
    "}"
   ]
  },
  {
   "cell_type": "markdown",
   "metadata": {},
   "source": [
    "<h1>GetTimeseries</h1>\n",
    "\n",
    "<p>This produces either a timeseries graph or, if downloading is enabled, a CSV file containing the data. The URL parameters are identical to those of a GetFeatureInfo request. The TIME parameter should specify a range of times in the form starttime/endtime, and the supported formats are: image/png,image/jpg,image/jpeg,text/csv,text/json,application/prs.coverage+json,application/prs.coverage json</p>"
   ]
  },
  {
   "cell_type": "code",
   "execution_count": 79,
   "metadata": {},
   "outputs": [
    {
     "data": {
      "text/plain": [
       "{'ServiceExceptionReport': {'@version': '1.3.0',\n",
       "  '@xmlns': 'http://www.opengis.net/ogc',\n",
       "  '@xmlns:xsi': 'http://www.w3.org/2001/XMLSchema-instance',\n",
       "  '@xsi:schemaLocation': 'http://www.opengis.net/ogc http://schemas.opengis.net/wms/1.3.0/exceptions_1_3_0.xsd',\n",
       "  'ServiceException': {'@code': 'InvalidFormat',\n",
       "   '#text': 'text/xml is not a valid output format for a timeseries plot'}}}"
      ]
     },
     "execution_count": 79,
     "metadata": {},
     "output_type": "execute_result"
    }
   ],
   "source": [
    "\n",
    "params = {\n",
    "    'service': 'WMS',\n",
    "    'version': '1.3.0',\n",
    "    'request': 'GetTimeseries',\n",
    "    'Format': 'image/png',\n",
    "    'layers': 'hurs',\n",
    "    'query_layers': 'hurs',\n",
    "    'crs': 'EPSG:4326',\n",
    "    'bbox': '12.8,52.5,13.0,53.0',\n",
    "    'width': '256',\n",
    "    'height': '256',\n",
    "    'i': '128',\n",
    "    'j': '128',\n",
    "}\n",
    "getfeatureinfo = requests.get(server, params=params)\n",
    "text = getfeatureinfo.text\n",
    "xmltodict.parse(text)"
   ]
  },
  {
   "cell_type": "code",
   "execution_count": 78,
   "metadata": {},
   "outputs": [
    {
     "data": {
      "text/plain": [
       "{'ServiceExceptionReport': {'@version': '1.3.0',\n",
       "  '@xmlns': 'http://www.opengis.net/ogc',\n",
       "  '@xmlns:xsi': 'http://www.w3.org/2001/XMLSchema-instance',\n",
       "  '@xsi:schemaLocation': 'http://www.opengis.net/ogc http://schemas.opengis.net/wms/1.3.0/exceptions_1_3_0.xsd',\n",
       "  'ServiceException': {'@code': 'InvalidFormat',\n",
       "   '#text': 'text/xml is not a valid output format for a timeseries plot'}}}"
      ]
     },
     "execution_count": 78,
     "metadata": {},
     "output_type": "execute_result"
    }
   ],
   "source": [
    "params = {\n",
    "    \"request\": \"GetTimeseries\",\n",
    "    \"SERVICE\": \"WMS\",\n",
    "    \"VERSION\": \"1.3.0\", # 'You must specify either SLD, SLD_BODY or LAYERS and STYLES'\n",
    "    \"FORMAT\": \"image/png\", #the supported formats are: image/png,image/jpg,image/jpeg,text/csv,text/json,application/prs.coverage+json,application/prs.coverage json\n",
    "    \"LAYERS\": \"hurs\",\n",
    "    \"TIME\": \"2011-01-01T00:00:00Z/2011-01-05T00:00:00Z\",  # a range of times in the form starttime/endtime\n",
    "    \"CRS\": \"EPSG:4326\",\n",
    "    \"BBOX\": \"12.0,52.0,13.0,53.0\",\n",
    "    \"WIDTH\": \"256\",\n",
    "    \"HEIGHT\": \"256\",\n",
    "    \"QUERY_LAYERS\": \"hurs\",\n",
    "    \"I\": \"128\",\n",
    "    \"J\": \"128\",\n",
    "\n",
    "}\n",
    "gettimeseries = requests.get(server, params=params)\n",
    "text = gettimeseries.text\n",
    "xmltodict.parse(text)\n",
    "# gettimeseries.text"
   ]
  },
  {
   "cell_type": "code",
   "execution_count": null,
   "metadata": {},
   "outputs": [],
   "source": []
  },
  {
   "cell_type": "markdown",
   "metadata": {},
   "source": [
    "<h1>ISO request</h1>\n"
   ]
  },
  {
   "cell_type": "code",
   "execution_count": 93,
   "metadata": {},
   "outputs": [],
   "source": [
    "iso_server = \"http://127.0.0.1:8088/thredds/iso/testAll/data/DWD_SpreeWasser_N_cf_v4/zalf_hurs_amber_2011_v1-0_cf_v4.nc\""
   ]
  },
  {
   "cell_type": "code",
   "execution_count": 98,
   "metadata": {},
   "outputs": [],
   "source": [
    "params = {\n",
    "    'request': 'ISO',\n",
    "}\n",
    "\n",
    "getfeatureinfo = requests.get(iso_server, params=params)\n",
    "text = getfeatureinfo.text\n",
    "iso_data = xmltodict.parse(text)"
   ]
  },
  {
   "cell_type": "code",
   "execution_count": 100,
   "metadata": {},
   "outputs": [
    {
     "data": {
      "text/plain": [
       "dict_keys(['@xmlns:xsi', '@xmlns:gco', '@xmlns:gmd', '@xmlns:gmi', '@xmlns:srv', '@xmlns:gmx', '@xmlns:gsr', '@xmlns:gss', '@xmlns:gts', '@xmlns:gml', '@xmlns:xlink', '@xmlns:xs', '@xsi:schemaLocation', 'gmd:fileIdentifier', 'gmd:language', 'gmd:characterSet', 'gmd:hierarchyLevel', 'gmd:contact', 'gmd:dateStamp', 'gmd:metadataStandardName', 'gmd:metadataStandardVersion', 'gmd:spatialRepresentationInfo', 'gmd:identificationInfo', 'gmd:contentInfo', 'gmd:distributionInfo', 'gmd:metadataMaintenance'])"
      ]
     },
     "execution_count": 100,
     "metadata": {},
     "output_type": "execute_result"
    }
   ],
   "source": [
    "iso_data['gmi:MI_Metadata'].keys()"
   ]
  },
  {
   "cell_type": "code",
   "execution_count": 106,
   "metadata": {},
   "outputs": [
    {
     "data": {
      "text/plain": [
       "'http://www.isotc211.org/2005/gmx'"
      ]
     },
     "execution_count": 106,
     "metadata": {},
     "output_type": "execute_result"
    }
   ],
   "source": [
    "iso_data['gmi:MI_Metadata']['@xmlns:gmx']"
   ]
  },
  {
   "cell_type": "code",
   "execution_count": 107,
   "metadata": {},
   "outputs": [
    {
     "name": "stdout",
     "output_type": "stream",
     "text": [
      "@xmlns:xsi : http://www.w3.org/2001/XMLSchema-instance\n",
      "@xmlns:gco : http://www.isotc211.org/2005/gco\n",
      "@xmlns:gmd : http://www.isotc211.org/2005/gmd\n",
      "@xmlns:gmi : http://www.isotc211.org/2005/gmi\n",
      "@xmlns:srv : http://www.isotc211.org/2005/srv\n",
      "@xmlns:gmx : http://www.isotc211.org/2005/gmx\n",
      "@xmlns:gsr : http://www.isotc211.org/2005/gsr\n",
      "@xmlns:gss : http://www.isotc211.org/2005/gss\n",
      "@xmlns:gts : http://www.isotc211.org/2005/gts\n",
      "@xmlns:gml : http://www.opengis.net/gml/3.2\n",
      "@xmlns:xlink : http://www.w3.org/1999/xlink\n",
      "@xmlns:xs : http://www.w3.org/2001/XMLSchema\n",
      "@xsi:schemaLocation : http://www.isotc211.org/2005/gmi http://www.ngdc.noaa.gov/metadata/published/xsd/schema.xsd\n",
      "gmd:fileIdentifier : {'@gco:nilReason': 'missing'}\n",
      "gmd:language : {'gmd:LanguageCode': {'@codeList': 'http://www.ngdc.noaa.gov/metadata/published/xsd/schema/resources/Codelist/gmxCodelists.xml#LanguageCode', '@codeListValue': 'eng', '#text': 'eng'}}\n",
      "gmd:characterSet : {'gmd:MD_CharacterSetCode': {'@codeList': 'http://www.ngdc.noaa.gov/metadata/published/xsd/schema/resources/Codelist/gmxCodelists.xml#MD_CharacterSetCode', '@codeListValue': 'UTF8', '#text': 'UTF8'}}\n",
      "gmd:hierarchyLevel : {'gmd:MD_ScopeCode': {'@codeList': 'http://www.ngdc.noaa.gov/metadata/published/xsd/schema/resources/Codelist/gmxCodelists.xml#MD_ScopeCode', '@codeListValue': 'dataset', '#text': 'dataset'}}\n",
      "gmd:contact : {'gmd:CI_ResponsibleParty': {'gmd:individualName': {'gco:CharacterString': 'Deutscher Wetterdienst'}, 'gmd:organisationName': {'@gco:nilReason': 'missing'}, 'gmd:contactInfo': {'gmd:CI_Contact': {'gmd:address': {'gmd:CI_Address': {'gmd:electronicMailAddress': {'gco:CharacterString': 'landwirtschaft@dwd.de'}}}, 'gmd:onlineResource': {'gmd:CI_OnlineResource': {'gmd:linkage': {'gmd:URL': 'www.dwd.de'}, 'gmd:protocol': {'gco:CharacterString': 'WWW:LINK'}, 'gmd:applicationProfile': {'gco:CharacterString': 'web browser'}, 'gmd:name': {'gco:CharacterString': None}, 'gmd:description': {'gco:CharacterString': None}, 'gmd:function': {'gmd:CI_OnLineFunctionCode': {'@codeList': 'http://www.ngdc.noaa.gov/metadata/published/xsd/schema/resources/Codelist/gmxCodelists.xml#CI_OnLineFunctionCode', '@codeListValue': 'information', '#text': 'information'}}}}}}, 'gmd:role': {'gmd:CI_RoleCode': {'@codeList': 'http://www.ngdc.noaa.gov/metadata/published/xsd/schema/resources/Codelist/gmxCodelists.xml#CI_RoleCode', '@codeListValue': 'pointOfContact', '#text': 'pointOfContact'}}}}\n",
      "gmd:dateStamp : {'gco:Date': '2024-02-09'}\n",
      "gmd:metadataStandardName : {'gco:CharacterString': 'ISO 19115-2 Geographic Information - Metadata Part 2 Extensions for imagery and gridded data'}\n",
      "gmd:metadataStandardVersion : {'gco:CharacterString': 'ISO 19115-2:2009(E)'}\n",
      "gmd:spatialRepresentationInfo : {'@gco:nilReason': 'missing'}\n",
      "gmd:identificationInfo : {'gmd:MD_DataIdentification': {'@id': 'DataIdentification', 'gmd:citation': {'gmd:CI_Citation': {'gmd:title': {'gco:CharacterString': 'DWD relative humidity data'}, 'gmd:date': {'@gco:nilReason': 'missing'}, 'gmd:identifier': {'@gco:nilReason': 'missing'}, 'gmd:citedResponsibleParty': {'gmd:CI_ResponsibleParty': {'gmd:individualName': {'gco:CharacterString': 'Deutscher Wetterdienst'}, 'gmd:organisationName': {'@gco:nilReason': 'missing'}, 'gmd:contactInfo': {'gmd:CI_Contact': {'gmd:address': {'gmd:CI_Address': {'gmd:electronicMailAddress': {'gco:CharacterString': 'landwirtschaft@dwd.de'}}}, 'gmd:onlineResource': {'gmd:CI_OnlineResource': {'gmd:linkage': {'gmd:URL': 'www.dwd.de'}, 'gmd:protocol': {'gco:CharacterString': 'WWW:LINK'}, 'gmd:applicationProfile': {'gco:CharacterString': 'web browser'}, 'gmd:name': {'gco:CharacterString': None}, 'gmd:description': {'gco:CharacterString': None}, 'gmd:function': {'gmd:CI_OnLineFunctionCode': {'@codeList': 'http://www.ngdc.noaa.gov/metadata/published/xsd/schema/resources/Codelist/gmxCodelists.xml#CI_OnLineFunctionCode', '@codeListValue': 'information', '#text': 'information'}}}}}}, 'gmd:role': {'gmd:CI_RoleCode': {'@codeList': 'http://www.ngdc.noaa.gov/metadata/published/xsd/schema/resources/Codelist/gmxCodelists.xml#CI_RoleCode', '@codeListValue': 'originator', '#text': 'originator'}}}}}}, 'gmd:abstract': {'@gco:nilReason': 'missing'}, 'gmd:pointOfContact': {'gmd:CI_ResponsibleParty': {'gmd:individualName': {'gco:CharacterString': 'Deutscher Wetterdienst'}, 'gmd:organisationName': {'@gco:nilReason': 'missing'}, 'gmd:contactInfo': {'gmd:CI_Contact': {'gmd:address': {'gmd:CI_Address': {'gmd:electronicMailAddress': {'gco:CharacterString': 'landwirtschaft@dwd.de'}}}, 'gmd:onlineResource': {'gmd:CI_OnlineResource': {'gmd:linkage': {'gmd:URL': 'www.dwd.de'}, 'gmd:protocol': {'gco:CharacterString': 'WWW:LINK'}, 'gmd:applicationProfile': {'gco:CharacterString': 'web browser'}, 'gmd:name': {'gco:CharacterString': None}, 'gmd:description': {'gco:CharacterString': None}, 'gmd:function': {'gmd:CI_OnLineFunctionCode': {'@codeList': 'http://www.ngdc.noaa.gov/metadata/published/xsd/schema/resources/Codelist/gmxCodelists.xml#CI_OnLineFunctionCode', '@codeListValue': 'information', '#text': 'information'}}}}}}, 'gmd:role': {'gmd:CI_RoleCode': {'@codeList': 'http://www.ngdc.noaa.gov/metadata/published/xsd/schema/resources/Codelist/gmxCodelists.xml#CI_RoleCode', '@codeListValue': 'pointOfContact', '#text': 'pointOfContact'}}}}, 'gmd:descriptiveKeywords': [{'gmd:MD_Keywords': {'gmd:keyword': [{'gco:CharacterString': 'DWD'}, {'gco:CharacterString': 'relative humidity'}], 'gmd:type': {'gmd:MD_KeywordTypeCode': {'@codeList': 'http://www.ngdc.noaa.gov/metadata/published/xsd/schema/resources/Codelist/gmxCodelists.xml#MD_KeywordTypeCode', '@codeListValue': 'theme', '#text': 'theme'}}, 'gmd:thesaurusName': {'gmd:CI_Citation': {'gmd:title': {'gco:CharacterString': 'GCMD Science Keywords'}, 'gmd:date': {'@gco:nilReason': 'unknown'}}}}}, {'gmd:MD_Keywords': {'gmd:keyword': {'gco:CharacterString': 'Zentrum für Agrarlandschaftsforschung (ZALF) e.V.'}, 'gmd:type': {'gmd:MD_KeywordTypeCode': {'@codeList': 'http://www.ngdc.noaa.gov/metadata/published/xsd/schema/resources/Codelist/gmxCodelists.xml#MD_KeywordTypeCode', '@codeListValue': 'dataCenter', '#text': 'dataCenter'}}, 'gmd:thesaurusName': {'@gco:nilReason': 'unknown'}}}, {'gmd:MD_Keywords': {'gmd:keyword': [{'gco:CharacterString': 'relative_humidity'}, {'gco:CharacterString': 'latitude'}, {'gco:CharacterString': 'longitude'}], 'gmd:type': {'gmd:MD_KeywordTypeCode': {'@codeList': 'http://www.ngdc.noaa.gov/metadata/published/xsd/schema/resources/Codelist/gmxCodelists.xml#MD_KeywordTypeCode', '@codeListValue': 'theme', '#text': 'theme'}}, 'gmd:thesaurusName': {'gmd:CI_Citation': {'gmd:title': {'@gco:nilReason': 'missing'}, 'gmd:date': {'@gco:nilReason': 'unknown'}}}}}], 'gmd:aggregationInfo': {'gmd:MD_AggregateInformation': {'gmd:aggregateDataSetIdentifier': {'gmd:MD_Identifier': {'gmd:authority': {'gmd:CI_Citation': {'gmd:title': {'gco:CharacterString': 'Unidata Common Data Model'}, 'gmd:date': {'@gco:nilReason': 'inapplicable'}}}, 'gmd:code': {'gco:CharacterString': 'Grid'}}}, 'gmd:associationType': {'gmd:DS_AssociationTypeCode': {'@codeList': 'http://www.ngdc.noaa.gov/metadata/published/xsd/schema/resources/Codelist/gmxCodelists.xml#DS_AssociationTypeCode', '@codeListValue': 'largerWorkCitation', '#text': 'largerWorkCitation'}}, 'gmd:initiativeType': {'gmd:DS_InitiativeTypeCode': {'@codeList': 'http://www.ngdc.noaa.gov/metadata/published/xsd/schema/resources/Codelist/gmxCodelists.xml#DS_InitiativeTypeCode', '@codeListValue': 'project', '#text': 'project'}}}}, 'gmd:language': {'gco:CharacterString': 'eng'}, 'gmd:topicCategory': {'gmd:MD_TopicCategoryCode': 'climatologyMeteorologyAtmosphere'}, 'gmd:extent': {'gmd:EX_Extent': {'@id': 'boundingExtent', 'gmd:geographicElement': {'gmd:EX_GeographicBoundingBox': {'@id': 'boundingGeographicBoundingBox', 'gmd:extentTypeCode': {'gco:Boolean': '1'}, 'gmd:westBoundLongitude': {'gco:Decimal': '5.87327'}, 'gmd:eastBoundLongitude': {'gco:Decimal': '15.0348'}, 'gmd:southBoundLatitude': {'gco:Decimal': '47.27462'}, 'gmd:northBoundLatitude': {'gco:Decimal': '55.05203'}}}, 'gmd:temporalElement': {'gmd:EX_TemporalExtent': {'@id': 'boundingTemporalExtent', 'gmd:extent': {'gml:TimePeriod': {'@gml:id': 'd11', 'gml:description': 'seconds', 'gml:beginPosition': '2011-01-01T00:00:00Z', 'gml:endPosition': '2011-12-31T00:00:00Z'}}}}}}}}\n",
      "gmd:contentInfo : {'gmi:MI_CoverageDescription': {'gmd:attributeDescription': {'@gco:nilReason': 'unknown'}, 'gmd:contentType': {'@gco:nilReason': 'unknown'}, 'gmd:dimension': [{'gmd:MD_Band': {'gmd:sequenceIdentifier': {'gco:MemberName': {'gco:aName': {'gco:CharacterString': 'hurs'}, 'gco:attributeType': {'gco:TypeName': {'gco:aName': {'gco:CharacterString': 'float'}}}}}, 'gmd:descriptor': {'gco:CharacterString': 'Near-Surface Relative Humidity (relative_humidity)'}, 'gmd:units': {'@xlink:href': 'http://example.org/someUnitsDictionary.xml#%25'}}}, {'gmd:MD_Band': {'gmd:sequenceIdentifier': {'gco:MemberName': {'gco:aName': {'gco:CharacterString': 'time'}, 'gco:attributeType': {'gco:TypeName': {'gco:aName': {'gco:CharacterString': 'int'}}}}}, 'gmd:descriptor': {'@gco:nilReason': 'missing'}, 'gmd:units': {'@xlink:href': 'http://example.org/someUnitsDictionary.xml#days%20since%202011-01-01%2000%3A00%3A00'}}}, {'gmd:MD_Band': {'gmd:sequenceIdentifier': {'gco:MemberName': {'gco:aName': {'gco:CharacterString': 'lat'}, 'gco:attributeType': {'gco:TypeName': {'gco:aName': {'gco:CharacterString': 'double'}}}}}, 'gmd:descriptor': {'gco:CharacterString': 'latitude (latitude)'}, 'gmd:units': {'@xlink:href': 'http://example.org/someUnitsDictionary.xml#degree_north'}}}, {'gmd:MD_Band': {'gmd:sequenceIdentifier': {'gco:MemberName': {'gco:aName': {'gco:CharacterString': 'lon'}, 'gco:attributeType': {'gco:TypeName': {'gco:aName': {'gco:CharacterString': 'double'}}}}}, 'gmd:descriptor': {'gco:CharacterString': 'longitude (longitude)'}, 'gmd:units': {'@xlink:href': 'http://example.org/someUnitsDictionary.xml#degree_east'}}}]}}\n",
      "gmd:distributionInfo : {'gmd:MD_Distribution': {'gmd:distributor': {'gmd:MD_Distributor': {'gmd:distributorContact': {'gmd:CI_ResponsibleParty': {'gmd:individualName': {'@gco:nilReason': 'missing'}, 'gmd:organisationName': {'gco:CharacterString': 'Zentrum für Agrarlandschaftsforschung (ZALF) e.V.'}, 'gmd:contactInfo': {'gmd:CI_Contact': {'gmd:address': {'gmd:CI_Address': {'gmd:electronicMailAddress': {'gco:CharacterString': 'colja.krugmann@zalf.de'}}}, 'gmd:onlineResource': {'gmd:CI_OnlineResource': {'gmd:linkage': {'gmd:URL': 'www.zalf.de'}, 'gmd:protocol': {'gco:CharacterString': 'WWW:LINK'}, 'gmd:applicationProfile': {'gco:CharacterString': 'web browser'}, 'gmd:name': {'gco:CharacterString': 'URL for the data publisher'}, 'gmd:description': {'gco:CharacterString': 'This URL provides contact information for the publisher of this dataset'}, 'gmd:function': {'gmd:CI_OnLineFunctionCode': {'@codeList': 'http://www.ngdc.noaa.gov/metadata/published/xsd/schema/resources/Codelist/gmxCodelists.xml#CI_OnLineFunctionCode', '@codeListValue': 'information', '#text': 'information'}}}}}}, 'gmd:role': {'gmd:CI_RoleCode': {'@codeList': 'http://www.ngdc.noaa.gov/metadata/published/xsd/schema/resources/Codelist/gmxCodelists.xml#CI_RoleCode', '@codeListValue': 'publisher', '#text': 'publisher'}}}}, 'gmd:distributorFormat': {'gmd:MD_Format': {'gmd:name': {'gco:CharacterString': 'OPeNDAP'}, 'gmd:version': {'@gco:nilReason': 'unknown'}}}}}}}\n",
      "gmd:metadataMaintenance : {'gmd:MD_MaintenanceInformation': {'gmd:maintenanceAndUpdateFrequency': {'@gco:nilReason': 'unknown'}, 'gmd:maintenanceNote': {'gco:CharacterString': 'This record was translated from NcML using UnidataDD2MI.xsl Version 2.3.4. (2024-02-09T15:02:29.495Z)'}}}\n"
     ]
    }
   ],
   "source": [
    "for key, value in iso_data['gmi:MI_Metadata'].items():\n",
    "    print(key,':', value)"
   ]
  },
  {
   "cell_type": "markdown",
   "metadata": {},
   "source": [
    "<h1>ncML</h1>"
   ]
  },
  {
   "cell_type": "code",
   "execution_count": 124,
   "metadata": {},
   "outputs": [],
   "source": [
    "ncml_server = \"http://127.0.0.1:8088/thredds/ncml/testAll/data/DWD_SpreeWasser_N_cf_v4/zalf_hurs_amber_2011_v1-0_cf_v4.nc\""
   ]
  },
  {
   "cell_type": "code",
   "execution_count": 165,
   "metadata": {},
   "outputs": [
    {
     "data": {
      "text/plain": [
       "{'netcdf': {'@xmlns': 'http://www.unidata.ucar.edu/namespaces/netcdf/ncml-2.2',\n",
       "  '@location': 'Not provided because of security concerns.',\n",
       "  'attribute': [{'@name': '_NCProperties',\n",
       "    '@value': 'version=2,netcdf=4.9.2,hdf5=1.14.3'},\n",
       "   {'@name': 'title', '@value': 'DWD relative humidity data'},\n",
       "   {'@name': 'Conventions', '@value': 'ACDD-1.3, CF-1.11'},\n",
       "   {'@name': 'conventionsURL',\n",
       "    '@value': 'http://cfconventions.org/Data/cf-conventions/cf-conventions-1.11/cf-conventions.html'},\n",
       "   {'@name': 'keywords', '@value': 'DWD, relative humidity'},\n",
       "   {'@name': 'keywords_vocabulary', '@value': 'GCMD Science Keywords'},\n",
       "   {'@name': 'cdm_data_type', '@value': 'Grid'},\n",
       "   {'@name': 'creator_name', '@value': 'Deutscher Wetterdienst'},\n",
       "   {'@name': 'creator_email', '@value': 'landwirtschaft@dwd.de'},\n",
       "   {'@name': 'creator_url', '@value': 'www.dwd.de'},\n",
       "   {'@name': 'publisher_name',\n",
       "    '@value': 'Zentrum für Agrarlandschaftsforschung (ZALF) e.V.'},\n",
       "   {'@name': 'publisher_email', '@value': 'colja.krugmann@zalf.de'},\n",
       "   {'@name': 'publisher_url', '@value': 'www.zalf.de'},\n",
       "   {'@name': 'date_metadata_modified', '@value': '2024-01-29'},\n",
       "   {'@name': 'geospatial_bounds',\n",
       "    '@value': 'POLYGON ((5.87326547313668 47.274618142175754, 15.03480079964112 47.274618142175754, 15.03480079964112 55.05203057004654, 5.87326547313668 55.05203057004654))'},\n",
       "   {'@name': 'geospatial_bounds_crs', '@value': 'EPSG:4326'},\n",
       "   {'@name': 'geospatial_lat_min', '@value': '47.274618142175754'},\n",
       "   {'@name': 'geospatial_lat_max', '@value': '55.05203057004654'},\n",
       "   {'@name': 'geospatial_lon_min', '@value': '5.87326547313668'},\n",
       "   {'@name': 'geospatial_lon_max', '@value': '15.03480079964112'},\n",
       "   {'@name': 'time_coverage_start', '@value': '2011-01-01 00:00:00A'},\n",
       "   {'@name': 'time_coverage_resolution', '@value': 'P1D'},\n",
       "   {'@name': '_CoordSysBuilder',\n",
       "    '@value': 'ucar.nc2.internal.dataset.conv.CF1Convention'}],\n",
       "  'dimension': [{'@name': 'time', '@length': '365', '@isUnlimited': 'true'},\n",
       "   {'@name': 'lat', '@length': '866'},\n",
       "   {'@name': 'lon', '@length': '654'}],\n",
       "  'group': [{'@name': 'CFMetadata',\n",
       "    'attribute': [{'@name': 'geospatial_lon_min',\n",
       "      '@value': '5.87327',\n",
       "      '@type': 'float'},\n",
       "     {'@name': 'geospatial_lat_min', '@value': '47.27462', '@type': 'float'},\n",
       "     {'@name': 'geospatial_lon_max', '@value': '15.0348', '@type': 'float'},\n",
       "     {'@name': 'geospatial_lat_max', '@value': '55.05203', '@type': 'float'},\n",
       "     {'@name': 'geospatial_lon_units', '@value': 'degree_east'},\n",
       "     {'@name': 'geospatial_lat_units', '@value': 'degree_north'},\n",
       "     {'@name': 'geospatial_lon_resolution', '@value': '0.014029916273360551'},\n",
       "     {'@name': 'geospatial_lat_resolution', '@value': '0.008991228240313048'},\n",
       "     {'@name': 'time_coverage_start', '@value': '2011-01-01T00:00:00Z'},\n",
       "     {'@name': 'time_coverage_end', '@value': '2011-12-31T00:00:00Z'},\n",
       "     {'@name': 'time_coverage_units', '@value': 'seconds'},\n",
       "     {'@name': 'time_coverage_resolution', '@value': '86400.0'},\n",
       "     {'@name': 'time_coverage_duration', '@value': 'P0Y0M364DT0H0M0.000S'}]},\n",
       "   {'@name': 'NCISOMetadata',\n",
       "    'attribute': [{'@name': 'metadata_creation', '@value': '2024-02-09'},\n",
       "     {'@name': 'nciso_version', '@value': '2.2.3'}]}],\n",
       "  'variable': [{'@name': 'hurs',\n",
       "    '@shape': 'time lat lon',\n",
       "    '@type': 'float',\n",
       "    'attribute': [{'@name': 'units', '@value': '%'},\n",
       "     {'@name': 'long_name', '@value': 'Near-Surface Relative Humidity'},\n",
       "     {'@name': 'standard_name', '@value': 'relative_humidity'},\n",
       "     {'@name': 'institution', '@value': 'Deutscher Wetterdienst'},\n",
       "     {'@name': 'source',\n",
       "      '@value': 'Statistic Interpolation of weather station data'},\n",
       "     {'@name': 'contact', '@value': 'landwirtschaft@dwd.de'},\n",
       "     {'@name': 'description',\n",
       "      '@value': 'The interpolation method is a regional multiple linear regression with geographical longitude, latitude and height of location as input variables and a subsequent triangulation, covering Germany with a resolution of 1x1 km.'},\n",
       "     {'@name': 'data_version', '@value': 'v1-0'},\n",
       "     {'@name': 'creation_date', '@value': '2023-04-26 05:40:43'},\n",
       "     {'@name': 'history', '@value': '2023-04-01: Begin of data delivery\\n'},\n",
       "     {'@name': '_ChunkSizes', '@type': 'uint', '@value': '1 866 654'}]},\n",
       "   {'@name': 'time',\n",
       "    '@shape': 'time',\n",
       "    '@type': 'int',\n",
       "    'attribute': [{'@name': 'units',\n",
       "      '@value': 'days since 2011-01-01 00:00:00'},\n",
       "     {'@name': 'calendar', '@value': 'gregorian'},\n",
       "     {'@name': '_ChunkSizes', '@type': 'uint', '@value': '1024'},\n",
       "     {'@name': '_CoordinateAxisType', '@value': 'Time'}]},\n",
       "   {'@name': 'lat',\n",
       "    '@shape': 'lat',\n",
       "    '@type': 'double',\n",
       "    'attribute': [{'@name': 'units', '@value': 'degree_north'},\n",
       "     {'@name': 'long_name', '@value': 'latitude'},\n",
       "     {'@name': 'standard_name', '@value': 'latitude'},\n",
       "     {'@name': 'axis', '@value': 'Y'},\n",
       "     {'@name': '_CoordinateAxisType', '@value': 'Lat'}]},\n",
       "   {'@name': 'lon',\n",
       "    '@shape': 'lon',\n",
       "    '@type': 'double',\n",
       "    'attribute': [{'@name': 'units', '@value': 'degree_east'},\n",
       "     {'@name': 'long_name', '@value': 'longitude'},\n",
       "     {'@name': 'standard_name', '@value': 'longitude'},\n",
       "     {'@name': 'axis', '@value': 'X'},\n",
       "     {'@name': '_CoordinateAxisType', '@value': 'Lon'}]}]}}"
      ]
     },
     "execution_count": 165,
     "metadata": {},
     "output_type": "execute_result"
    }
   ],
   "source": [
    "nc_dict = {}\n",
    "\n",
    "ncml = requests.get(ncml_server)\n",
    "text = ncml.text\n",
    "ncml_data = xmltodict.parse(text)\n",
    "ncml_data"
   ]
  },
  {
   "cell_type": "code",
   "execution_count": 137,
   "metadata": {},
   "outputs": [
    {
     "data": {
      "text/plain": [
       "dict_keys(['@xmlns', '@location', 'attribute', 'dimension', 'group', 'variable'])"
      ]
     },
     "execution_count": 137,
     "metadata": {},
     "output_type": "execute_result"
    }
   ],
   "source": [
    "ncml_data['netcdf'].keys()"
   ]
  },
  {
   "cell_type": "code",
   "execution_count": 167,
   "metadata": {},
   "outputs": [
    {
     "data": {
      "text/plain": [
       "{'dimensions': [{'time': {'length': '365', 'isUnlimited': 'true'}},\n",
       "  {'lat': {'length': '866'}},\n",
       "  {'lon': {'length': '654'}}]}"
      ]
     },
     "execution_count": 167,
     "metadata": {},
     "output_type": "execute_result"
    }
   ],
   "source": [
    "nc_dict['dimensions'] = []\n",
    "for var in ncml_data['netcdf']['dimension']:\n",
    "    nc_dict['dimensions'].append({var['@name']: {'length': var['@length']}})\n",
    "    if '@isUnlimited' in var.keys():\n",
    "        nc_dict['dimensions'][-1][var['@name']]['isUnlimited'] = var['@isUnlimited']\n",
    "    \n",
    "nc_dict"
   ]
  },
  {
   "cell_type": "code",
   "execution_count": 177,
   "metadata": {},
   "outputs": [
    {
     "data": {
      "text/plain": [
       "{'dimensions': [{'time': {'length': '365', 'isUnlimited': 'true'}},\n",
       "  {'lat': {'length': '866'}},\n",
       "  {'lon': {'length': '654'}}],\n",
       " 'variables': [{'hurs': {'shape': 'time lat lon',\n",
       "    'type': 'float',\n",
       "    'attributes': {'units': '%',\n",
       "     'long_name': 'Near-Surface Relative Humidity',\n",
       "     'standard_name': 'relative_humidity',\n",
       "     'institution': 'Deutscher Wetterdienst',\n",
       "     'source': 'Statistic Interpolation of weather station data',\n",
       "     'contact': 'landwirtschaft@dwd.de',\n",
       "     'description': 'The interpolation method is a regional multiple linear regression with geographical longitude, latitude and height of location as input variables and a subsequent triangulation, covering Germany with a resolution of 1x1 km.',\n",
       "     'data_version': 'v1-0',\n",
       "     'creation_date': '2023-04-26 05:40:43',\n",
       "     'history': '2023-04-01: Begin of data delivery\\n',\n",
       "     '_ChunkSizes': '1 866 654'}}},\n",
       "  {'time': {'shape': 'time',\n",
       "    'type': 'int',\n",
       "    'attributes': {'units': 'days since 2011-01-01 00:00:00',\n",
       "     'calendar': 'gregorian',\n",
       "     '_ChunkSizes': '1024',\n",
       "     '_CoordinateAxisType': 'Time'}}},\n",
       "  {'lat': {'shape': 'lat',\n",
       "    'type': 'double',\n",
       "    'attributes': {'units': 'degree_north',\n",
       "     'long_name': 'latitude',\n",
       "     'standard_name': 'latitude',\n",
       "     'axis': 'Y',\n",
       "     '_CoordinateAxisType': 'Lat'}}},\n",
       "  {'lon': {'shape': 'lon',\n",
       "    'type': 'double',\n",
       "    'attributes': {'units': 'degree_east',\n",
       "     'long_name': 'longitude',\n",
       "     'standard_name': 'longitude',\n",
       "     'axis': 'X',\n",
       "     '_CoordinateAxisType': 'Lon'}}}]}"
      ]
     },
     "execution_count": 177,
     "metadata": {},
     "output_type": "execute_result"
    }
   ],
   "source": [
    "#['@name', '@shape', '@type', 'attribute']\n",
    "nc_dict['variables'] = []\n",
    "for var in ncml_data['netcdf']['variable']:\n",
    "    nc_dict['variables'].append({var['@name']: {'shape': var['@shape'], 'type': var['@type'], 'attributes': {}}})\n",
    "    \n",
    "    for att in var['attribute']:\n",
    "        \n",
    "        nc_dict['variables'][-1][var['@name']]['attributes'][att['@name']] = att['@value']\n",
    "nc_dict"
   ]
  },
  {
   "cell_type": "code",
   "execution_count": 143,
   "metadata": {},
   "outputs": [],
   "source": []
  },
  {
   "cell_type": "code",
   "execution_count": 150,
   "metadata": {},
   "outputs": [],
   "source": [
    "for dim in ncml_data['netcdf']['dimension']:\n",
    "    # print(dim['@length'])\n",
    "    # if dim['@isUnlimited']:\n",
    "    #     nc_dict[dim['@name']] = {'length': dim['@length'], 'isUnlimited': dim['@isUnlimited']}\n",
    "    # else:\n",
    "    nc_dict[dim['@name']] = {'length': dim['@length']}\n"
   ]
  },
  {
   "cell_type": "code",
   "execution_count": 141,
   "metadata": {},
   "outputs": [
    {
     "data": {
      "text/plain": [
       "{'_NCProperties': 'version=2,netcdf=4.9.2,hdf5=1.14.3',\n",
       " 'title': 'DWD relative humidity data',\n",
       " 'Conventions': 'ACDD-1.3, CF-1.11',\n",
       " 'conventionsURL': 'http://cfconventions.org/Data/cf-conventions/cf-conventions-1.11/cf-conventions.html',\n",
       " 'keywords': 'DWD, relative humidity',\n",
       " 'keywords_vocabulary': 'GCMD Science Keywords',\n",
       " 'cdm_data_type': 'Grid',\n",
       " 'creator_name': 'Deutscher Wetterdienst',\n",
       " 'creator_email': 'landwirtschaft@dwd.de',\n",
       " 'creator_url': 'www.dwd.de',\n",
       " 'publisher_name': 'Zentrum für Agrarlandschaftsforschung (ZALF) e.V.',\n",
       " 'publisher_email': 'colja.krugmann@zalf.de',\n",
       " 'publisher_url': 'www.zalf.de',\n",
       " 'date_metadata_modified': '2024-01-29',\n",
       " 'geospatial_bounds': 'POLYGON ((5.87326547313668 47.274618142175754, 15.03480079964112 47.274618142175754, 15.03480079964112 55.05203057004654, 5.87326547313668 55.05203057004654))',\n",
       " 'geospatial_bounds_crs': 'EPSG:4326',\n",
       " 'geospatial_lat_min': '47.274618142175754',\n",
       " 'geospatial_lat_max': '55.05203057004654',\n",
       " 'geospatial_lon_min': '5.87326547313668',\n",
       " 'geospatial_lon_max': '15.03480079964112',\n",
       " 'time_coverage_start': '2011-01-01 00:00:00A',\n",
       " 'time_coverage_resolution': 'P1D',\n",
       " '_CoordSysBuilder': 'ucar.nc2.internal.dataset.conv.CF1Convention'}"
      ]
     },
     "execution_count": 141,
     "metadata": {},
     "output_type": "execute_result"
    }
   ],
   "source": [
    "nc_dict['golbal_attributes'] = {}\n",
    "for attr in ncml_data['netcdf']['attribute']:\n",
    "    nc_dict['golbal_attributes'][attr['@name']] = attr['@value']\n",
    "nc_dict"
   ]
  },
  {
   "cell_type": "code",
   "execution_count": null,
   "metadata": {},
   "outputs": [],
   "source": []
  }
 ],
 "metadata": {
  "kernelspec": {
   "display_name": "netcdf_env",
   "language": "python",
   "name": "python3"
  },
  "language_info": {
   "codemirror_mode": {
    "name": "ipython",
    "version": 3
   },
   "file_extension": ".py",
   "mimetype": "text/x-python",
   "name": "python",
   "nbconvert_exporter": "python",
   "pygments_lexer": "ipython3",
   "version": "3.10.12"
  }
 },
 "nbformat": 4,
 "nbformat_minor": 2
}
