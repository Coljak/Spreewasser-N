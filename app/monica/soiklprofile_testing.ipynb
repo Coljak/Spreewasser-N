{
 "cells": [
  {
   "cell_type": "markdown",
   "id": "d9f2af4a",
   "metadata": {},
   "source": [
    "In  a docker terminal run\n",
    "jupyter notebook --ip=0.0.0.0 --port=8888 --no-browser --allow-root\n",
    "\n",
    "then open jupyter in the printed link (such as http://127.0.0.1:8888/tree?token=4d9d578397aede50fc5bd2d92794b562a6bbcbc73b2dfe51)\n",
    "\n",
    "CODE HERE, REFRESH AND EXECUTE IN THE BROWSER\n"
   ]
  },
  {
   "cell_type": "markdown",
   "id": "b003ae10",
   "metadata": {},
   "source": [
    "from swn import models as sm\n",
    "from buek import models as bm\n",
    "from "
   ]
  },
  {
   "cell_type": "code",
   "execution_count": 8,
   "id": "9d948d0b-7382-4c2f-afc5-962f371af842",
   "metadata": {},
   "outputs": [],
   "source": [
    "import os\n",
    "import sys\n",
    "import django\n",
    "\n",
    "os.environ[\"DJANGO_ALLOW_ASYNC_UNSAFE\"] = \"true\"\n",
    "sys.path.append('/app')\n",
    "\n",
    "os.environ['DJANGO_SETTINGS_MODULE'] = 'app.settings'\n",
    "os.environ['PYTHONPATH'] = '/app'\n",
    "\n",
    "django.setup()"
   ]
  },
  {
   "cell_type": "code",
   "execution_count": null,
   "id": "6a15bbac-2d20-49e8-acac-46d1525da534",
   "metadata": {},
   "outputs": [],
   "source": []
  },
  {
   "cell_type": "code",
   "execution_count": 43,
   "id": "3b70bdbe-7144-4a3e-8559-7089b672d0c8",
   "metadata": {},
   "outputs": [],
   "source": [
    "from swn import models as sm\n",
    "from buek import models as buek_models\n",
    "from monica import models as mm\n",
    "import json\n",
    "from datetime import datetime\n",
    "from django.forms.models import model_to_dict"
   ]
  },
  {
   "cell_type": "code",
   "execution_count": 22,
   "id": "65b0d1ae-6c85-4ac4-b70b-84aa72eee898",
   "metadata": {},
   "outputs": [],
   "source": [
    "def soil_profiles_from_polygon_ids(soil_profile_polygon_ids):\n",
    "    \"\"\"\n",
    "    Get soil profiles from polygon ids.\n",
    "    \"\"\"\n",
    "    start = datetime.now()\n",
    "    unique_land_usages = buek_models.SoilProfile.objects.filter(\n",
    "        polygon_id__in=soil_profile_polygon_ids\n",
    "    ).values_list('landusage_corine_code', 'landusage').distinct()\n",
    "    # Filter out water (code 51)\n",
    "    land_usage_choices = {code: usage for code, usage in unique_land_usages if code != 51}\n",
    "    \n",
    "    # Initialize data_json with land usage codes\n",
    "    data_json = {code: {} for code in land_usage_choices.keys()}\n",
    "\n",
    "    soil_data = buek_models.SoilProfileHorizon.objects.select_related('soilprofile').filter(\n",
    "        soilprofile__polygon_id__in=soil_profile_polygon_ids\n",
    "        ).order_by('soilprofile__landusage_corine_code', 'soilprofile__system_unit', 'soilprofile__area_percentage', 'horizont_nr')\n",
    "\n",
    "    # Loop through soil data and populate data_json\n",
    "    \n",
    "    for item in soil_data:\n",
    "        try:\n",
    "            if item.soilprofile.landusage_corine_code != 51:\n",
    "                land_code = item.soilprofile.landusage_corine_code\n",
    "                system_unit = item.soilprofile.system_unit\n",
    "                area_percentage = item.soilprofile.area_percentage\n",
    "                profile_id = item.soilprofile.id\n",
    "                horizon_nr = item.horizont_nr\n",
    "\n",
    "                if system_unit not in data_json[land_code]:\n",
    "                    data_json[land_code][system_unit] = {\n",
    "                        'area_percentages': set(),\n",
    "                        'soil_profiles': {}\n",
    "                    }\n",
    "\n",
    "                data_json[land_code][system_unit]['area_percentages'].add(area_percentage)\n",
    "\n",
    "                if area_percentage not in data_json[land_code][system_unit]['soil_profiles']:\n",
    "                    data_json[land_code][system_unit]['soil_profiles'][area_percentage] = {}\n",
    "\n",
    "                if profile_id not in data_json[land_code][system_unit]['soil_profiles'][area_percentage]:\n",
    "                    data_json[land_code][system_unit]['soil_profiles'][area_percentage][profile_id] = {'horizons': {}}\n",
    "\n",
    "                data_json[land_code][system_unit]['soil_profiles'][area_percentage][profile_id]['horizons'][horizon_nr] = {\n",
    "                    'obergrenze_m': item.obergrenze_m,\n",
    "                    'untergrenze_m': item.untergrenze_m,\n",
    "                    'stratigraphie': item.stratigraphie,\n",
    "                    'herkunft': item.herkunft,\n",
    "                    'geogenese': item.geogenese,\n",
    "                    # 'fraktion': item.fraktion,\n",
    "                    'summe': item.summe,\n",
    "                    # 'gefuege': item.gefuege,\n",
    "                    # 'torfarten': item.torfarten,\n",
    "                    # 'substanzvolumen': item.substanzvolumen,\n",
    "                    'bulk_density_class': item.bulk_density_class.bulk_density_class if item.bulk_density_class_id is not None else 'no data',\n",
    "                    'bulk_density': item.bulk_density_class.raw_density_g_per_cm3 if item.bulk_density_class_id is not None else 'no data',\n",
    "                    'humus_class': item.humus_class.humus_class if item.humus_class_id is not None else 'no data',\n",
    "                    'humus_corg': item.humus_class.corg if item.humus_class_id is not None else 'no data',\n",
    "                    'ka5_texture_class': item.ka5_texture_class.ka5_soiltype if item.ka5_texture_class_id is not None else 'no data',\n",
    "                    'sand': round(item.ka5_texture_class.sand, 2) if item.ka5_texture_class_id is not None else 'no data',\n",
    "                    'clay': round(item.ka5_texture_class.clay, 2) if item.ka5_texture_class_id is not None else 'no data',\n",
    "                    'silt': round(item.ka5_texture_class.silt, 2) if item.ka5_texture_class_id is not None else 'no data',\n",
    "                    'ph_class': item.ph_class.ph_class if item.ph_class_id is not None else 'no data',\n",
    "                    'ph_lower_value': item.ph_class.ph_lower_value if item.ph_class_id is not None else 'no data',\n",
    "                    'ph_upper_value': item.ph_class.ph_upper_value if item.ph_class_id is not None else 'no data',                    \n",
    "                }\n",
    "        except Exception as e:\n",
    "            print(\"Exception occurred:\", e)\n",
    "           \n",
    "    # Sort area percentages\n",
    "    for land_code in data_json:\n",
    "        for system_unit in data_json[land_code]:\n",
    "            data_json[land_code][system_unit]['area_percentages'] = sorted(list(data_json[land_code][system_unit]['area_percentages']))\n",
    "\n",
    "    data_menu = {\n",
    "        # 'soil_profile_form': forms.SoilProfileSelectionForm().set_choices(land_usage_choices),\n",
    "        'text': 'name',\n",
    "        'id': 1,\n",
    "        'polygon_ids': soil_profile_polygon_ids,\n",
    "        'system_unit_json': json.dumps(data_json),\n",
    "        'landusage_choices': json.dumps(land_usage_choices),\n",
    "    }\n",
    "    print('Time elapsed: ', datetime.now() - start)\n",
    "    return data_menu"
   ]
  },
  {
   "cell_type": "code",
   "execution_count": 23,
   "id": "73603cb7-7248-4e83-9a07-b8a2cc231b13",
   "metadata": {},
   "outputs": [],
   "source": [
    "sp_ids = [475027, 475028]"
   ]
  },
  {
   "cell_type": "code",
   "execution_count": 24,
   "id": "81d479a5-84f6-46fe-b406-add36750ef1b",
   "metadata": {},
   "outputs": [
    {
     "name": "stdout",
     "output_type": "stream",
     "text": [
      "Time elapsed:  0:00:00.338861\n"
     ]
    },
    {
     "data": {
      "text/plain": [
       "{'text': 'name',\n",
       " 'id': 1,\n",
       " 'polygon_ids': [475027, 475028],\n",
       " 'system_unit_json': '{\"21\": {\"BB-GG\": {\"area_percentages\": [5], \"soil_profiles\": {\"5\": {\"18833\": {\"horizons\": {\"1\": {\"obergrenze_m\": 0.0, \"untergrenze_m\": 0.3, \"stratigraphie\": \"qp\", \"herkunft\": \"Sf\", \"geogenese\": \"f\", \"summe\": 1.0, \"bulk_density_class\": \"Ld3\", \"bulk_density\": 1.7, \"humus_class\": \"h2\", \"humus_corg\": 0.8720930218696594, \"ka5_texture_class\": \"Ss\", \"sand\": 0.93, \"clay\": 0.02, \"silt\": 0.05, \"ph_class\": \"s1\", \"ph_lower_value\": 6.1, \"ph_upper_value\": 6.8}, \"2\": {\"obergrenze_m\": 0.3, \"untergrenze_m\": 0.35, \"stratigraphie\": \"qp\", \"herkunft\": \"Sf\", \"geogenese\": \"f\", \"summe\": 1.0, \"bulk_density_class\": \"Ld3\", \"bulk_density\": 1.7, \"humus_class\": \"h1\", \"humus_corg\": 0.29069799184799194, \"ka5_texture_class\": \"Ss\", \"sand\": 0.93, \"clay\": 0.02, \"silt\": 0.05, \"ph_class\": \"s1\", \"ph_lower_value\": 6.1, \"ph_upper_value\": 6.8}, \"3\": {\"obergrenze_m\": 0.35, \"untergrenze_m\": 0.5, \"stratigraphie\": \"qp\", \"herkunft\": \"Sf\", \"geogenese\": \"f\", \"summe\": 1.0, \"bulk_density_class\": \"Ld3\", \"bulk_density\": 1.7, \"humus_class\": \"h0\", \"humus_corg\": 0.0, \"ka5_texture_class\": \"Ss\", \"sand\": 0.93, \"clay\": 0.02, \"silt\": 0.05, \"ph_class\": \"s1\", \"ph_lower_value\": 6.1, \"ph_upper_value\": 6.8}, \"4\": {\"obergrenze_m\": 0.5, \"untergrenze_m\": 1.0, \"stratigraphie\": \"qp\", \"herkunft\": \"Sf\", \"geogenese\": \"f\", \"summe\": 0.0, \"bulk_density_class\": \"Ld3\", \"bulk_density\": 1.7, \"humus_class\": \"h1\", \"humus_corg\": 0.29069799184799194, \"ka5_texture_class\": \"Ss\", \"sand\": 0.93, \"clay\": 0.02, \"silt\": 0.05, \"ph_class\": \"s1\", \"ph_lower_value\": 6.1, \"ph_upper_value\": 6.8}, \"5\": {\"obergrenze_m\": 1.0, \"untergrenze_m\": 2.0, \"stratigraphie\": \"qp\", \"herkunft\": \"Sf\", \"geogenese\": \"f\", \"summe\": 0.0, \"bulk_density_class\": \"Ld3\", \"bulk_density\": 1.7, \"humus_class\": \"h1\", \"humus_corg\": 0.29069799184799194, \"ka5_texture_class\": \"Ss\", \"sand\": 0.93, \"clay\": 0.02, \"silt\": 0.05, \"ph_class\": \"s1\", \"ph_lower_value\": 6.1, \"ph_upper_value\": 6.8}}}, \"18831\": {\"horizons\": {\"1\": {\"obergrenze_m\": 0.0, \"untergrenze_m\": 0.3, \"stratigraphie\": \"qp\", \"herkunft\": \"Sf\", \"geogenese\": \"ff\", \"summe\": 1.0, \"bulk_density_class\": \"Ld3\", \"bulk_density\": 1.7, \"humus_class\": \"h2\", \"humus_corg\": 0.8720930218696594, \"ka5_texture_class\": \"Ss\", \"sand\": 0.93, \"clay\": 0.02, \"silt\": 0.05, \"ph_class\": \"s1\", \"ph_lower_value\": 6.1, \"ph_upper_value\": 6.8}, \"2\": {\"obergrenze_m\": 0.3, \"untergrenze_m\": 0.35, \"stratigraphie\": \"qp\", \"herkunft\": \"Sf\", \"geogenese\": \"ff\", \"summe\": 1.0, \"bulk_density_class\": \"Ld3\", \"bulk_density\": 1.7, \"humus_class\": \"h1\", \"humus_corg\": 0.29069799184799194, \"ka5_texture_class\": \"Ss\", \"sand\": 0.93, \"clay\": 0.02, \"silt\": 0.05, \"ph_class\": \"s1\", \"ph_lower_value\": 6.1, \"ph_upper_value\": 6.8}, \"3\": {\"obergrenze_m\": 0.35, \"untergrenze_m\": 0.5, \"stratigraphie\": \"qp\", \"herkunft\": \"Sf\", \"geogenese\": \"ff\", \"summe\": 1.0, \"bulk_density_class\": \"Ld3\", \"bulk_density\": 1.7, \"humus_class\": \"h0\", \"humus_corg\": 0.0, \"ka5_texture_class\": \"Ss\", \"sand\": 0.93, \"clay\": 0.02, \"silt\": 0.05, \"ph_class\": \"s1\", \"ph_lower_value\": 6.1, \"ph_upper_value\": 6.8}, \"4\": {\"obergrenze_m\": 0.5, \"untergrenze_m\": 1.0, \"stratigraphie\": \"qp\", \"herkunft\": \"Sf\", \"geogenese\": \"ff\", \"summe\": 0.0, \"bulk_density_class\": \"Ld3\", \"bulk_density\": 1.7, \"humus_class\": \"h1\", \"humus_corg\": 0.29069799184799194, \"ka5_texture_class\": \"Ss\", \"sand\": 0.93, \"clay\": 0.02, \"silt\": 0.05, \"ph_class\": \"s1\", \"ph_lower_value\": 6.1, \"ph_upper_value\": 6.8}, \"5\": {\"obergrenze_m\": 1.0, \"untergrenze_m\": 2.0, \"stratigraphie\": \"qp\", \"herkunft\": \"Sf\", \"geogenese\": \"ff\", \"summe\": 0.0, \"bulk_density_class\": \"Ld3\", \"bulk_density\": 1.7, \"humus_class\": \"h1\", \"humus_corg\": 0.29069799184799194, \"ka5_texture_class\": \"Ss\", \"sand\": 0.93, \"clay\": 0.02, \"silt\": 0.05, \"ph_class\": \"s1\", \"ph_lower_value\": 6.1, \"ph_upper_value\": 6.8}}}}}}, \"BBn\": {\"area_percentages\": [20, 40], \"soil_profiles\": {\"20\": {\"18827\": {\"horizons\": {\"1\": {\"obergrenze_m\": 0.0, \"untergrenze_m\": 0.3, \"stratigraphie\": \"qp\", \"herkunft\": \"Sp\", \"geogenese\": \"p\", \"summe\": 1.0, \"bulk_density_class\": \"Ld3\", \"bulk_density\": 1.7, \"humus_class\": \"h2\", \"humus_corg\": 0.8720930218696594, \"ka5_texture_class\": \"Ss\", \"sand\": 0.93, \"clay\": 0.02, \"silt\": 0.05, \"ph_class\": \"s1\", \"ph_lower_value\": 6.1, \"ph_upper_value\": 6.8}, \"2\": {\"obergrenze_m\": 0.3, \"untergrenze_m\": 0.5, \"stratigraphie\": \"qp\", \"herkunft\": \"Sp\", \"geogenese\": \"p\", \"summe\": 1.0, \"bulk_density_class\": \"Ld3\", \"bulk_density\": 1.7, \"humus_class\": \"h1\", \"humus_corg\": 0.29069799184799194, \"ka5_texture_class\": \"Ss\", \"sand\": 0.93, \"clay\": 0.02, \"silt\": 0.05, \"ph_class\": \"s1\", \"ph_lower_value\": 6.1, \"ph_upper_value\": 6.8}, \"3\": {\"obergrenze_m\": 0.5, \"untergrenze_m\": 1.1, \"stratigraphie\": \"\", \"herkunft\": \"Sf\", \"geogenese\": \"f\", \"summe\": 0.0, \"bulk_density_class\": \"Ld3\", \"bulk_density\": 1.7, \"humus_class\": \"h1\", \"humus_corg\": 0.29069799184799194, \"ka5_texture_class\": \"Ss\", \"sand\": 0.93, \"clay\": 0.02, \"silt\": 0.05, \"ph_class\": \"s4\", \"ph_lower_value\": 4.0, \"ph_upper_value\": 4.7}, \"4\": {\"obergrenze_m\": 1.1, \"untergrenze_m\": 1.45, \"stratigraphie\": \"\", \"herkunft\": \"Sf\", \"geogenese\": \"f\", \"summe\": 0.0, \"bulk_density_class\": \"Ld3\", \"bulk_density\": 1.7, \"humus_class\": \"h1\", \"humus_corg\": 0.29069799184799194, \"ka5_texture_class\": \"Ss\", \"sand\": 0.93, \"clay\": 0.02, \"silt\": 0.05, \"ph_class\": \"s1\", \"ph_lower_value\": 6.1, \"ph_upper_value\": 6.8}, \"5\": {\"obergrenze_m\": 1.45, \"untergrenze_m\": 2.0, \"stratigraphie\": \"\", \"herkunft\": \"Sf\", \"geogenese\": \"f\", \"summe\": 0.0, \"bulk_density_class\": \"Ld3\", \"bulk_density\": 1.7, \"humus_class\": \"h1\", \"humus_corg\": 0.29069799184799194, \"ka5_texture_class\": \"Ss\", \"sand\": 0.93, \"clay\": 0.02, \"silt\": 0.05, \"ph_class\": \"s1\", \"ph_lower_value\": 6.1, \"ph_upper_value\": 6.8}}}}, \"40\": {\"18828\": {\"horizons\": {\"1\": {\"obergrenze_m\": 0.0, \"untergrenze_m\": 0.3, \"stratigraphie\": \"qp\", \"herkunft\": \"Sp\", \"geogenese\": \"p\", \"summe\": 1.0, \"bulk_density_class\": \"Ld3\", \"bulk_density\": 1.7, \"humus_class\": \"h2\", \"humus_corg\": 0.8720930218696594, \"ka5_texture_class\": \"Ss\", \"sand\": 0.93, \"clay\": 0.02, \"silt\": 0.05, \"ph_class\": \"s1\", \"ph_lower_value\": 6.1, \"ph_upper_value\": 6.8}, \"2\": {\"obergrenze_m\": 0.3, \"untergrenze_m\": 0.5, \"stratigraphie\": \"qp\", \"herkunft\": \"Sp\", \"geogenese\": \"p\", \"summe\": 1.0, \"bulk_density_class\": \"Ld3\", \"bulk_density\": 1.7, \"humus_class\": \"h1\", \"humus_corg\": 0.29069799184799194, \"ka5_texture_class\": \"Ss\", \"sand\": 0.93, \"clay\": 0.02, \"silt\": 0.05, \"ph_class\": \"s1\", \"ph_lower_value\": 6.1, \"ph_upper_value\": 6.8}, \"3\": {\"obergrenze_m\": 0.5, \"untergrenze_m\": 1.1, \"stratigraphie\": \"q\", \"herkunft\": \"Sf\", \"geogenese\": \"f\", \"summe\": 0.0, \"bulk_density_class\": \"Ld3\", \"bulk_density\": 1.7, \"humus_class\": \"h1\", \"humus_corg\": 0.29069799184799194, \"ka5_texture_class\": \"Ss\", \"sand\": 0.93, \"clay\": 0.02, \"silt\": 0.05, \"ph_class\": \"s4\", \"ph_lower_value\": 4.0, \"ph_upper_value\": 4.7}, \"4\": {\"obergrenze_m\": 1.1, \"untergrenze_m\": 1.45, \"stratigraphie\": \"q\", \"herkunft\": \"Sf\", \"geogenese\": \"f\", \"summe\": 0.0, \"bulk_density_class\": \"Ld3\", \"bulk_density\": 1.7, \"humus_class\": \"h1\", \"humus_corg\": 0.29069799184799194, \"ka5_texture_class\": \"Ss\", \"sand\": 0.93, \"clay\": 0.02, \"silt\": 0.05, \"ph_class\": \"s1\", \"ph_lower_value\": 6.1, \"ph_upper_value\": 6.8}, \"5\": {\"obergrenze_m\": 1.45, \"untergrenze_m\": 2.0, \"stratigraphie\": \"q\", \"herkunft\": \"Sf\", \"geogenese\": \"f\", \"summe\": 0.0, \"bulk_density_class\": \"Ld3\", \"bulk_density\": 1.7, \"humus_class\": \"h1\", \"humus_corg\": 0.29069799184799194, \"ka5_texture_class\": \"Ss\", \"sand\": 0.93, \"clay\": 0.02, \"silt\": 0.05, \"ph_class\": \"s1\", \"ph_lower_value\": 6.1, \"ph_upper_value\": 6.8}}}}}}, \"GG-BB\": {\"area_percentages\": [20], \"soil_profiles\": {\"20\": {\"18829\": {\"horizons\": {\"1\": {\"obergrenze_m\": 0.0, \"untergrenze_m\": 0.3, \"stratigraphie\": \"qp\", \"herkunft\": \"Sp\", \"geogenese\": \"p\", \"summe\": 1.0, \"bulk_density_class\": \"Ld3\", \"bulk_density\": 1.7, \"humus_class\": \"h2\", \"humus_corg\": 0.8720930218696594, \"ka5_texture_class\": \"Ss\", \"sand\": 0.93, \"clay\": 0.02, \"silt\": 0.05, \"ph_class\": \"s1\", \"ph_lower_value\": 6.1, \"ph_upper_value\": 6.8}, \"2\": {\"obergrenze_m\": 0.3, \"untergrenze_m\": 0.5, \"stratigraphie\": \"qp\", \"herkunft\": \"Sp\", \"geogenese\": \"p\", \"summe\": 1.0, \"bulk_density_class\": \"Ld3\", \"bulk_density\": 1.7, \"humus_class\": \"h1\", \"humus_corg\": 0.29069799184799194, \"ka5_texture_class\": \"Ss\", \"sand\": 0.93, \"clay\": 0.02, \"silt\": 0.05, \"ph_class\": \"s1\", \"ph_lower_value\": 6.1, \"ph_upper_value\": 6.8}, \"3\": {\"obergrenze_m\": 0.5, \"untergrenze_m\": 1.0, \"stratigraphie\": \"q\", \"herkunft\": \"Sf\", \"geogenese\": \"f\", \"summe\": 0.0, \"bulk_density_class\": \"Ld3\", \"bulk_density\": 1.7, \"humus_class\": \"h1\", \"humus_corg\": 0.29069799184799194, \"ka5_texture_class\": \"Ss\", \"sand\": 0.93, \"clay\": 0.02, \"silt\": 0.05, \"ph_class\": \"s1\", \"ph_lower_value\": 6.1, \"ph_upper_value\": 6.8}, \"4\": {\"obergrenze_m\": 1.0, \"untergrenze_m\": 2.0, \"stratigraphie\": \"q\", \"herkunft\": \"Sf\", \"geogenese\": \"f\", \"summe\": 0.0, \"bulk_density_class\": \"Ld3\", \"bulk_density\": 1.7, \"humus_class\": \"h1\", \"humus_corg\": 0.29069799184799194, \"ka5_texture_class\": \"Ss\", \"sand\": 0.93, \"clay\": 0.02, \"silt\": 0.05, \"ph_class\": \"s1\", \"ph_lower_value\": 6.1, \"ph_upper_value\": 6.8}}}}}}}, \"23\": {\"GGn\": {\"area_percentages\": [5], \"soil_profiles\": {\"5\": {\"18834\": {\"horizons\": {\"1\": {\"obergrenze_m\": 0.0, \"untergrenze_m\": 0.3, \"stratigraphie\": \"\", \"herkunft\": \"Sf\", \"geogenese\": \"ff\", \"summe\": 0.0, \"bulk_density_class\": \"Ld3\", \"bulk_density\": 1.7, \"humus_class\": \"h3\", \"humus_corg\": 1.7441860437393188, \"ka5_texture_class\": \"Ss\", \"sand\": 0.93, \"clay\": 0.02, \"silt\": 0.05, \"ph_class\": \"s1\", \"ph_lower_value\": 6.1, \"ph_upper_value\": 6.8}, \"2\": {\"obergrenze_m\": 0.3, \"untergrenze_m\": 0.6, \"stratigraphie\": \"\", \"herkunft\": \"Sf\", \"geogenese\": \"ff\", \"summe\": 0.0, \"bulk_density_class\": \"Ld3\", \"bulk_density\": 1.7, \"humus_class\": \"h1\", \"humus_corg\": 0.29069799184799194, \"ka5_texture_class\": \"Ss\", \"sand\": 0.93, \"clay\": 0.02, \"silt\": 0.05, \"ph_class\": \"s1\", \"ph_lower_value\": 6.1, \"ph_upper_value\": 6.8}, \"3\": {\"obergrenze_m\": 0.6, \"untergrenze_m\": 1.0, \"stratigraphie\": \"\", \"herkunft\": \"Sf\", \"geogenese\": \"ff\", \"summe\": 0.0, \"bulk_density_class\": \"Ld3\", \"bulk_density\": 1.7, \"humus_class\": \"h1\", \"humus_corg\": 0.29069799184799194, \"ka5_texture_class\": \"Ss\", \"sand\": 0.93, \"clay\": 0.02, \"silt\": 0.05, \"ph_class\": \"s0\", \"ph_lower_value\": 6.8, \"ph_upper_value\": 7.2}, \"4\": {\"obergrenze_m\": 1.0, \"untergrenze_m\": 2.0, \"stratigraphie\": \"\", \"herkunft\": \"Sf\", \"geogenese\": \"ff\", \"summe\": 0.0, \"bulk_density_class\": \"Ld3\", \"bulk_density\": 1.7, \"humus_class\": \"h1\", \"humus_corg\": 0.29069799184799194, \"ka5_texture_class\": \"Ss\", \"sand\": 0.93, \"clay\": 0.02, \"silt\": 0.05, \"ph_class\": \"s1\", \"ph_lower_value\": 6.1, \"ph_upper_value\": 6.8}}}, \"18832\": {\"horizons\": {\"1\": {\"obergrenze_m\": 0.0, \"untergrenze_m\": 0.3, \"stratigraphie\": \"q\", \"herkunft\": \"Sf\", \"geogenese\": \"ff\", \"summe\": 0.0, \"bulk_density_class\": \"Ld3\", \"bulk_density\": 1.7, \"humus_class\": \"h3\", \"humus_corg\": 1.7441860437393188, \"ka5_texture_class\": \"Ss\", \"sand\": 0.93, \"clay\": 0.02, \"silt\": 0.05, \"ph_class\": \"s1\", \"ph_lower_value\": 6.1, \"ph_upper_value\": 6.8}, \"2\": {\"obergrenze_m\": 0.3, \"untergrenze_m\": 0.6, \"stratigraphie\": \"q\", \"herkunft\": \"Sf\", \"geogenese\": \"ff\", \"summe\": 0.0, \"bulk_density_class\": \"Ld3\", \"bulk_density\": 1.7, \"humus_class\": \"h1\", \"humus_corg\": 0.29069799184799194, \"ka5_texture_class\": \"Ss\", \"sand\": 0.93, \"clay\": 0.02, \"silt\": 0.05, \"ph_class\": \"s1\", \"ph_lower_value\": 6.1, \"ph_upper_value\": 6.8}, \"3\": {\"obergrenze_m\": 0.6, \"untergrenze_m\": 1.0, \"stratigraphie\": \"q\", \"herkunft\": \"Sf\", \"geogenese\": \"ff\", \"summe\": 0.0, \"bulk_density_class\": \"Ld3\", \"bulk_density\": 1.7, \"humus_class\": \"h1\", \"humus_corg\": 0.29069799184799194, \"ka5_texture_class\": \"Ss\", \"sand\": 0.93, \"clay\": 0.02, \"silt\": 0.05, \"ph_class\": \"s0\", \"ph_lower_value\": 6.8, \"ph_upper_value\": 7.2}, \"4\": {\"obergrenze_m\": 1.0, \"untergrenze_m\": 2.0, \"stratigraphie\": \"q\", \"herkunft\": \"Sf\", \"geogenese\": \"ff\", \"summe\": 0.0, \"bulk_density_class\": \"Ld3\", \"bulk_density\": 1.7, \"humus_class\": \"h1\", \"humus_corg\": 0.29069799184799194, \"ka5_texture_class\": \"Ss\", \"sand\": 0.93, \"clay\": 0.02, \"silt\": 0.05, \"ph_class\": \"s1\", \"ph_lower_value\": 6.1, \"ph_upper_value\": 6.8}}}}}}}, \"31\": {\"BB-RQ\": {\"area_percentages\": [20], \"soil_profiles\": {\"20\": {\"18823\": {\"horizons\": {\"1\": {\"obergrenze_m\": -0.08, \"untergrenze_m\": -0.02, \"stratigraphie\": \"qh\", \"herkunft\": \"O\", \"geogenese\": \"og\", \"summe\": 0.0, \"bulk_density_class\": \"no data\", \"bulk_density\": \"no data\", \"humus_class\": \"h7\", \"humus_corg\": 15.0, \"ka5_texture_class\": \"no data\", \"sand\": \"no data\", \"clay\": \"no data\", \"silt\": \"no data\", \"ph_class\": \"s5\", \"ph_lower_value\": 3.3, \"ph_upper_value\": 4.0}, \"2\": {\"obergrenze_m\": -0.02, \"untergrenze_m\": 0.0, \"stratigraphie\": \"qh\", \"herkunft\": \"O\", \"geogenese\": \"og\", \"summe\": 0.0, \"bulk_density_class\": \"no data\", \"bulk_density\": \"no data\", \"humus_class\": \"h7\", \"humus_corg\": 15.0, \"ka5_texture_class\": \"no data\", \"sand\": \"no data\", \"clay\": \"no data\", \"silt\": \"no data\", \"ph_class\": \"s6\", \"ph_lower_value\": 0.0, \"ph_upper_value\": 3.3}, \"3\": {\"obergrenze_m\": 0.0, \"untergrenze_m\": 0.1, \"stratigraphie\": \"\", \"herkunft\": \"Sa\", \"geogenese\": \"a\", \"summe\": 0.0, \"bulk_density_class\": \"Ld1\", \"bulk_density\": 1.3, \"humus_class\": \"h3\", \"humus_corg\": 1.7441860437393188, \"ka5_texture_class\": \"Ss\", \"sand\": 0.93, \"clay\": 0.02, \"silt\": 0.05, \"ph_class\": \"s5\", \"ph_lower_value\": 3.3, \"ph_upper_value\": 4.0}, \"4\": {\"obergrenze_m\": 0.1, \"untergrenze_m\": 0.15, \"stratigraphie\": \"\", \"herkunft\": \"Sa\", \"geogenese\": \"a\", \"summe\": 0.0, \"bulk_density_class\": \"Ld2\", \"bulk_density\": 1.5, \"humus_class\": \"h3\", \"humus_corg\": 1.7441860437393188, \"ka5_texture_class\": \"Ss\", \"sand\": 0.93, \"clay\": 0.02, \"silt\": 0.05, \"ph_class\": \"s5\", \"ph_lower_value\": 3.3, \"ph_upper_value\": 4.0}, \"5\": {\"obergrenze_m\": 0.15, \"untergrenze_m\": 0.35, \"stratigraphie\": \"\", \"herkunft\": \"Sa\", \"geogenese\": \"a\", \"summe\": 0.0, \"bulk_density_class\": \"Ld2\", \"bulk_density\": 1.5, \"humus_class\": \"h1\", \"humus_corg\": 0.29069799184799194, \"ka5_texture_class\": \"Ss\", \"sand\": 0.93, \"clay\": 0.02, \"silt\": 0.05, \"ph_class\": \"s4\", \"ph_lower_value\": 4.0, \"ph_upper_value\": 4.7}, \"6\": {\"obergrenze_m\": 0.35, \"untergrenze_m\": 0.5, \"stratigraphie\": \"\", \"herkunft\": \"Sa\", \"geogenese\": \"a\", \"summe\": 0.0, \"bulk_density_class\": \"Ld3\", \"bulk_density\": 1.7, \"humus_class\": \"h1\", \"humus_corg\": 0.29069799184799194, \"ka5_texture_class\": \"Ss\", \"sand\": 0.93, \"clay\": 0.02, \"silt\": 0.05, \"ph_class\": \"s4\", \"ph_lower_value\": 4.0, \"ph_upper_value\": 4.7}, \"7\": {\"obergrenze_m\": 0.5, \"untergrenze_m\": 2.0, \"stratigraphie\": \"\", \"herkunft\": \"Sa\", \"geogenese\": \"a\", \"summe\": 0.0, \"bulk_density_class\": \"Ld3\", \"bulk_density\": 1.7, \"humus_class\": \"h1\", \"humus_corg\": 0.29069799184799194, \"ka5_texture_class\": \"Ss\", \"sand\": 0.93, \"clay\": 0.02, \"silt\": 0.05, \"ph_class\": \"s4\", \"ph_lower_value\": 4.0, \"ph_upper_value\": 4.7}}}}}}, \"PP-BB\": {\"area_percentages\": [20], \"soil_profiles\": {\"20\": {\"18830\": {\"horizons\": {\"1\": {\"obergrenze_m\": -0.09, \"untergrenze_m\": -0.06, \"stratigraphie\": \"qh\", \"herkunft\": \"O\", \"geogenese\": \"og\", \"summe\": 0.0, \"bulk_density_class\": \"no data\", \"bulk_density\": \"no data\", \"humus_class\": \"h7\", \"humus_corg\": 15.0, \"ka5_texture_class\": \"no data\", \"sand\": \"no data\", \"clay\": \"no data\", \"silt\": \"no data\", \"ph_class\": \"s5\", \"ph_lower_value\": 3.3, \"ph_upper_value\": 4.0}, \"2\": {\"obergrenze_m\": -0.06, \"untergrenze_m\": -0.02, \"stratigraphie\": \"qh\", \"herkunft\": \"O\", \"geogenese\": \"og\", \"summe\": 0.0, \"bulk_density_class\": \"no data\", \"bulk_density\": \"no data\", \"humus_class\": \"h7\", \"humus_corg\": 15.0, \"ka5_texture_class\": \"no data\", \"sand\": \"no data\", \"clay\": \"no data\", \"silt\": \"no data\", \"ph_class\": \"s6\", \"ph_lower_value\": 0.0, \"ph_upper_value\": 3.3}, \"3\": {\"obergrenze_m\": -0.02, \"untergrenze_m\": 0.0, \"stratigraphie\": \"qh\", \"herkunft\": \"O\", \"geogenese\": \"og\", \"summe\": 0.0, \"bulk_density_class\": \"no data\", \"bulk_density\": \"no data\", \"humus_class\": \"h7\", \"humus_corg\": 15.0, \"ka5_texture_class\": \"no data\", \"sand\": \"no data\", \"clay\": \"no data\", \"silt\": \"no data\", \"ph_class\": \"s6\", \"ph_lower_value\": 0.0, \"ph_upper_value\": 3.3}, \"4\": {\"obergrenze_m\": 0.0, \"untergrenze_m\": 0.04, \"stratigraphie\": \"qp\", \"herkunft\": \"Sp\", \"geogenese\": \"p\", \"summe\": 1.0, \"bulk_density_class\": \"Ld2\", \"bulk_density\": 1.5, \"humus_class\": \"h2\", \"humus_corg\": 0.8720930218696594, \"ka5_texture_class\": \"Ss\", \"sand\": 0.93, \"clay\": 0.02, \"silt\": 0.05, \"ph_class\": \"s5\", \"ph_lower_value\": 3.3, \"ph_upper_value\": 4.0}, \"5\": {\"obergrenze_m\": 0.04, \"untergrenze_m\": 0.1, \"stratigraphie\": \"qp\", \"herkunft\": \"Sp\", \"geogenese\": \"p\", \"summe\": 1.0, \"bulk_density_class\": \"Ld2\", \"bulk_density\": 1.5, \"humus_class\": \"h2\", \"humus_corg\": 0.8720930218696594, \"ka5_texture_class\": \"Ss\", \"sand\": 0.93, \"clay\": 0.02, \"silt\": 0.05, \"ph_class\": \"s4\", \"ph_lower_value\": 4.0, \"ph_upper_value\": 4.7}, \"6\": {\"obergrenze_m\": 0.1, \"untergrenze_m\": 0.5, \"stratigraphie\": \"qp\", \"herkunft\": \"Sp\", \"geogenese\": \"p\", \"summe\": 1.0, \"bulk_density_class\": \"Ld3\", \"bulk_density\": 1.7, \"humus_class\": \"h1\", \"humus_corg\": 0.29069799184799194, \"ka5_texture_class\": \"Ss\", \"sand\": 0.93, \"clay\": 0.02, \"silt\": 0.05, \"ph_class\": \"s4\", \"ph_lower_value\": 4.0, \"ph_upper_value\": 4.7}, \"7\": {\"obergrenze_m\": 0.5, \"untergrenze_m\": 1.0, \"stratigraphie\": \"q\", \"herkunft\": \"Sf\", \"geogenese\": \"f\", \"summe\": 0.0, \"bulk_density_class\": \"Ld3\", \"bulk_density\": 1.7, \"humus_class\": \"h1\", \"humus_corg\": 0.29069799184799194, \"ka5_texture_class\": \"Ss\", \"sand\": 0.93, \"clay\": 0.02, \"silt\": 0.05, \"ph_class\": \"s4\", \"ph_lower_value\": 4.0, \"ph_upper_value\": 4.7}, \"8\": {\"obergrenze_m\": 1.0, \"untergrenze_m\": 1.45, \"stratigraphie\": \"q\", \"herkunft\": \"Sf\", \"geogenese\": \"f\", \"summe\": 0.0, \"bulk_density_class\": \"Ld3\", \"bulk_density\": 1.7, \"humus_class\": \"h1\", \"humus_corg\": 0.29069799184799194, \"ka5_texture_class\": \"Ss\", \"sand\": 0.93, \"clay\": 0.02, \"silt\": 0.05, \"ph_class\": \"s1\", \"ph_lower_value\": 6.1, \"ph_upper_value\": 6.8}, \"9\": {\"obergrenze_m\": 1.45, \"untergrenze_m\": 2.0, \"stratigraphie\": \"q\", \"herkunft\": \"Sf\", \"geogenese\": \"f\", \"summe\": 0.0, \"bulk_density_class\": \"Ld3\", \"bulk_density\": 1.7, \"humus_class\": \"h1\", \"humus_corg\": 0.29069799184799194, \"ka5_texture_class\": \"Ss\", \"sand\": 0.93, \"clay\": 0.02, \"silt\": 0.05, \"ph_class\": \"s1\", \"ph_lower_value\": 6.1, \"ph_upper_value\": 6.8}}}}}}, \"PPn\": {\"area_percentages\": [5, 20], \"soil_profiles\": {\"5\": {\"18826\": {\"horizons\": {\"1\": {\"obergrenze_m\": -0.06999999999999999, \"untergrenze_m\": -0.02, \"stratigraphie\": \"qh\", \"herkunft\": \"O\", \"geogenese\": \"og\", \"summe\": 0.0, \"bulk_density_class\": \"no data\", \"bulk_density\": \"no data\", \"humus_class\": \"h7\", \"humus_corg\": 15.0, \"ka5_texture_class\": \"no data\", \"sand\": \"no data\", \"clay\": \"no data\", \"silt\": \"no data\", \"ph_class\": \"s5\", \"ph_lower_value\": 3.3, \"ph_upper_value\": 4.0}, \"2\": {\"obergrenze_m\": -0.02, \"untergrenze_m\": 0.0, \"stratigraphie\": \"qh\", \"herkunft\": \"O\", \"geogenese\": \"og\", \"summe\": 0.0, \"bulk_density_class\": \"no data\", \"bulk_density\": \"no data\", \"humus_class\": \"h7\", \"humus_corg\": 15.0, \"ka5_texture_class\": \"no data\", \"sand\": \"no data\", \"clay\": \"no data\", \"silt\": \"no data\", \"ph_class\": \"s6\", \"ph_lower_value\": 0.0, \"ph_upper_value\": 3.3}, \"3\": {\"obergrenze_m\": 0.0, \"untergrenze_m\": 0.05, \"stratigraphie\": \"\", \"herkunft\": \"Sa\", \"geogenese\": \"a\", \"summe\": 0.0, \"bulk_density_class\": \"Ld1\", \"bulk_density\": 1.3, \"humus_class\": \"h3\", \"humus_corg\": 1.7441860437393188, \"ka5_texture_class\": \"Ss\", \"sand\": 0.93, \"clay\": 0.02, \"silt\": 0.05, \"ph_class\": \"s5\", \"ph_lower_value\": 3.3, \"ph_upper_value\": 4.0}, \"4\": {\"obergrenze_m\": 0.05, \"untergrenze_m\": 0.1, \"stratigraphie\": \"\", \"herkunft\": \"Sa\", \"geogenese\": \"a\", \"summe\": 0.0, \"bulk_density_class\": \"Ld2\", \"bulk_density\": 1.5, \"humus_class\": \"h3\", \"humus_corg\": 1.7441860437393188, \"ka5_texture_class\": \"Ss\", \"sand\": 0.93, \"clay\": 0.02, \"silt\": 0.05, \"ph_class\": \"s5\", \"ph_lower_value\": 3.3, \"ph_upper_value\": 4.0}, \"5\": {\"obergrenze_m\": 0.1, \"untergrenze_m\": 0.2, \"stratigraphie\": \"\", \"herkunft\": \"Sa\", \"geogenese\": \"a\", \"summe\": 0.0, \"bulk_density_class\": \"Ld2\", \"bulk_density\": 1.5, \"humus_class\": \"h2\", \"humus_corg\": 0.8720930218696594, \"ka5_texture_class\": \"Ss\", \"sand\": 0.93, \"clay\": 0.02, \"silt\": 0.05, \"ph_class\": \"s4\", \"ph_lower_value\": 4.0, \"ph_upper_value\": 4.7}, \"6\": {\"obergrenze_m\": 0.2, \"untergrenze_m\": 0.4, \"stratigraphie\": \"\", \"herkunft\": \"Sa\", \"geogenese\": \"a\", \"summe\": 0.0, \"bulk_density_class\": \"Ld2\", \"bulk_density\": 1.5, \"humus_class\": \"h1\", \"humus_corg\": 0.29069799184799194, \"ka5_texture_class\": \"Ss\", \"sand\": 0.93, \"clay\": 0.02, \"silt\": 0.05, \"ph_class\": \"s4\", \"ph_lower_value\": 4.0, \"ph_upper_value\": 4.7}, \"7\": {\"obergrenze_m\": 0.4, \"untergrenze_m\": 1.1, \"stratigraphie\": \"\", \"herkunft\": \"Sa\", \"geogenese\": \"a\", \"summe\": 0.0, \"bulk_density_class\": \"Ld3\", \"bulk_density\": 1.7, \"humus_class\": \"h1\", \"humus_corg\": 0.29069799184799194, \"ka5_texture_class\": \"Ss\", \"sand\": 0.93, \"clay\": 0.02, \"silt\": 0.05, \"ph_class\": \"s4\", \"ph_lower_value\": 4.0, \"ph_upper_value\": 4.7}, \"8\": {\"obergrenze_m\": 1.1, \"untergrenze_m\": 1.3, \"stratigraphie\": \"qp\", \"herkunft\": \"Sp\", \"geogenese\": \"p\", \"summe\": 1.0, \"bulk_density_class\": \"Ld3\", \"bulk_density\": 1.7, \"humus_class\": \"h1\", \"humus_corg\": 0.29069799184799194, \"ka5_texture_class\": \"Ss\", \"sand\": 0.93, \"clay\": 0.02, \"silt\": 0.05, \"ph_class\": \"s4\", \"ph_lower_value\": 4.0, \"ph_upper_value\": 4.7}, \"9\": {\"obergrenze_m\": 1.3, \"untergrenze_m\": 2.0, \"stratigraphie\": \"\", \"herkunft\": \"Sf\", \"geogenese\": \"f\", \"summe\": 0.0, \"bulk_density_class\": \"Ld3\", \"bulk_density\": 1.7, \"humus_class\": \"h1\", \"humus_corg\": 0.29069799184799194, \"ka5_texture_class\": \"Ss\", \"sand\": 0.93, \"clay\": 0.02, \"silt\": 0.05, \"ph_class\": \"s4\", \"ph_lower_value\": 4.0, \"ph_upper_value\": 4.7}}}}, \"20\": {\"18824\": {\"horizons\": {\"1\": {\"obergrenze_m\": -0.08, \"untergrenze_m\": -0.02, \"stratigraphie\": \"qh\", \"herkunft\": \"O\", \"geogenese\": \"og\", \"summe\": 0.0, \"bulk_density_class\": \"no data\", \"bulk_density\": \"no data\", \"humus_class\": \"h7\", \"humus_corg\": 15.0, \"ka5_texture_class\": \"no data\", \"sand\": \"no data\", \"clay\": \"no data\", \"silt\": \"no data\", \"ph_class\": \"s5\", \"ph_lower_value\": 3.3, \"ph_upper_value\": 4.0}, \"2\": {\"obergrenze_m\": -0.02, \"untergrenze_m\": 0.0, \"stratigraphie\": \"qh\", \"herkunft\": \"O\", \"geogenese\": \"og\", \"summe\": 0.0, \"bulk_density_class\": \"no data\", \"bulk_density\": \"no data\", \"humus_class\": \"h7\", \"humus_corg\": 15.0, \"ka5_texture_class\": \"no data\", \"sand\": \"no data\", \"clay\": \"no data\", \"silt\": \"no data\", \"ph_class\": \"s6\", \"ph_lower_value\": 0.0, \"ph_upper_value\": 3.3}, \"3\": {\"obergrenze_m\": 0.0, \"untergrenze_m\": 0.1, \"stratigraphie\": \"\", \"herkunft\": \"Sa\", \"geogenese\": \"a\", \"summe\": 0.0, \"bulk_density_class\": \"Ld1\", \"bulk_density\": 1.3, \"humus_class\": \"h3\", \"humus_corg\": 1.7441860437393188, \"ka5_texture_class\": \"Ss\", \"sand\": 0.93, \"clay\": 0.02, \"silt\": 0.05, \"ph_class\": \"s5\", \"ph_lower_value\": 3.3, \"ph_upper_value\": 4.0}, \"4\": {\"obergrenze_m\": 0.1, \"untergrenze_m\": 0.15, \"stratigraphie\": \"\", \"herkunft\": \"Sa\", \"geogenese\": \"a\", \"summe\": 0.0, \"bulk_density_class\": \"Ld2\", \"bulk_density\": 1.5, \"humus_class\": \"h3\", \"humus_corg\": 1.7441860437393188, \"ka5_texture_class\": \"Ss\", \"sand\": 0.93, \"clay\": 0.02, \"silt\": 0.05, \"ph_class\": \"s5\", \"ph_lower_value\": 3.3, \"ph_upper_value\": 4.0}, \"5\": {\"obergrenze_m\": 0.15, \"untergrenze_m\": 0.25, \"stratigraphie\": \"\", \"herkunft\": \"Sa\", \"geogenese\": \"a\", \"summe\": 0.0, \"bulk_density_class\": \"Ld2\", \"bulk_density\": 1.5, \"humus_class\": \"h2\", \"humus_corg\": 0.8720930218696594, \"ka5_texture_class\": \"Ss\", \"sand\": 0.93, \"clay\": 0.02, \"silt\": 0.05, \"ph_class\": \"s4\", \"ph_lower_value\": 4.0, \"ph_upper_value\": 4.7}, \"6\": {\"obergrenze_m\": 0.25, \"untergrenze_m\": 0.35, \"stratigraphie\": \"\", \"herkunft\": \"Sa\", \"geogenese\": \"a\", \"summe\": 0.0, \"bulk_density_class\": \"Ld2\", \"bulk_density\": 1.5, \"humus_class\": \"h1\", \"humus_corg\": 0.29069799184799194, \"ka5_texture_class\": \"Ss\", \"sand\": 0.93, \"clay\": 0.02, \"silt\": 0.05, \"ph_class\": \"s4\", \"ph_lower_value\": 4.0, \"ph_upper_value\": 4.7}, \"7\": {\"obergrenze_m\": 0.35, \"untergrenze_m\": 0.55, \"stratigraphie\": \"\", \"herkunft\": \"Sa\", \"geogenese\": \"a\", \"summe\": 0.0, \"bulk_density_class\": \"Ld2\", \"bulk_density\": 1.5, \"humus_class\": \"h1\", \"humus_corg\": 0.29069799184799194, \"ka5_texture_class\": \"Ss\", \"sand\": 0.93, \"clay\": 0.02, \"silt\": 0.05, \"ph_class\": \"s4\", \"ph_lower_value\": 4.0, \"ph_upper_value\": 4.7}, \"8\": {\"obergrenze_m\": 0.55, \"untergrenze_m\": 2.0, \"stratigraphie\": \"\", \"herkunft\": \"Sa\", \"geogenese\": \"a\", \"summe\": 0.0, \"bulk_density_class\": \"Ld3\", \"bulk_density\": 1.7, \"humus_class\": \"h1\", \"humus_corg\": 0.29069799184799194, \"ka5_texture_class\": \"Ss\", \"sand\": 0.93, \"clay\": 0.02, \"silt\": 0.05, \"ph_class\": \"s4\", \"ph_lower_value\": 4.0, \"ph_upper_value\": 4.7}}}}}}, \"RQn\": {\"area_percentages\": [5, 20], \"soil_profiles\": {\"5\": {\"18825\": {\"horizons\": {\"1\": {\"obergrenze_m\": -0.08, \"untergrenze_m\": -0.02, \"stratigraphie\": \"qh\", \"herkunft\": \"O\", \"geogenese\": \"og\", \"summe\": 0.0, \"bulk_density_class\": \"no data\", \"bulk_density\": \"no data\", \"humus_class\": \"h7\", \"humus_corg\": 15.0, \"ka5_texture_class\": \"no data\", \"sand\": \"no data\", \"clay\": \"no data\", \"silt\": \"no data\", \"ph_class\": \"s5\", \"ph_lower_value\": 3.3, \"ph_upper_value\": 4.0}, \"2\": {\"obergrenze_m\": -0.02, \"untergrenze_m\": 0.0, \"stratigraphie\": \"qh\", \"herkunft\": \"O\", \"geogenese\": \"og\", \"summe\": 0.0, \"bulk_density_class\": \"no data\", \"bulk_density\": \"no data\", \"humus_class\": \"h7\", \"humus_corg\": 15.0, \"ka5_texture_class\": \"no data\", \"sand\": \"no data\", \"clay\": \"no data\", \"silt\": \"no data\", \"ph_class\": \"s6\", \"ph_lower_value\": 0.0, \"ph_upper_value\": 3.3}, \"3\": {\"obergrenze_m\": 0.0, \"untergrenze_m\": 0.1, \"stratigraphie\": \"\", \"herkunft\": \"Sa\", \"geogenese\": \"a\", \"summe\": 0.0, \"bulk_density_class\": \"Ld1\", \"bulk_density\": 1.3, \"humus_class\": \"h3\", \"humus_corg\": 1.7441860437393188, \"ka5_texture_class\": \"Ss\", \"sand\": 0.93, \"clay\": 0.02, \"silt\": 0.05, \"ph_class\": \"s5\", \"ph_lower_value\": 3.3, \"ph_upper_value\": 4.0}, \"4\": {\"obergrenze_m\": 0.1, \"untergrenze_m\": 1.0, \"stratigraphie\": \"\", \"herkunft\": \"Sa\", \"geogenese\": \"a\", \"summe\": 0.0, \"bulk_density_class\": \"Ld2\", \"bulk_density\": 1.5, \"humus_class\": \"h1\", \"humus_corg\": 0.29069799184799194, \"ka5_texture_class\": \"Ss\", \"sand\": 0.93, \"clay\": 0.02, \"silt\": 0.05, \"ph_class\": \"s4\", \"ph_lower_value\": 4.0, \"ph_upper_value\": 4.7}, \"5\": {\"obergrenze_m\": 1.0, \"untergrenze_m\": 1.25, \"stratigraphie\": \"qp\", \"herkunft\": \"Sp\", \"geogenese\": \"p\", \"summe\": 1.0, \"bulk_density_class\": \"Ld3\", \"bulk_density\": 1.7, \"humus_class\": \"h1\", \"humus_corg\": 0.29069799184799194, \"ka5_texture_class\": \"Ss\", \"sand\": 0.93, \"clay\": 0.02, \"silt\": 0.05, \"ph_class\": \"s4\", \"ph_lower_value\": 4.0, \"ph_upper_value\": 4.7}, \"6\": {\"obergrenze_m\": 1.25, \"untergrenze_m\": 2.0, \"stratigraphie\": \"\", \"herkunft\": \"Sf\", \"geogenese\": \"f\", \"summe\": 0.0, \"bulk_density_class\": \"Ld3\", \"bulk_density\": 1.7, \"humus_class\": \"h1\", \"humus_corg\": 0.29069799184799194, \"ka5_texture_class\": \"Ss\", \"sand\": 0.93, \"clay\": 0.02, \"silt\": 0.05, \"ph_class\": \"s4\", \"ph_lower_value\": 4.0, \"ph_upper_value\": 4.7}}}}, \"20\": {\"18822\": {\"horizons\": {\"1\": {\"obergrenze_m\": -0.08, \"untergrenze_m\": -0.02, \"stratigraphie\": \"qh\", \"herkunft\": \"O\", \"geogenese\": \"og\", \"summe\": 0.0, \"bulk_density_class\": \"no data\", \"bulk_density\": \"no data\", \"humus_class\": \"h7\", \"humus_corg\": 15.0, \"ka5_texture_class\": \"no data\", \"sand\": \"no data\", \"clay\": \"no data\", \"silt\": \"no data\", \"ph_class\": \"s5\", \"ph_lower_value\": 3.3, \"ph_upper_value\": 4.0}, \"2\": {\"obergrenze_m\": -0.02, \"untergrenze_m\": 0.0, \"stratigraphie\": \"qh\", \"herkunft\": \"O\", \"geogenese\": \"og\", \"summe\": 0.0, \"bulk_density_class\": \"no data\", \"bulk_density\": \"no data\", \"humus_class\": \"h7\", \"humus_corg\": 15.0, \"ka5_texture_class\": \"no data\", \"sand\": \"no data\", \"clay\": \"no data\", \"silt\": \"no data\", \"ph_class\": \"s6\", \"ph_lower_value\": 0.0, \"ph_upper_value\": 3.3}, \"3\": {\"obergrenze_m\": 0.0, \"untergrenze_m\": 0.1, \"stratigraphie\": \"\", \"herkunft\": \"Sa\", \"geogenese\": \"a\", \"summe\": 0.0, \"bulk_density_class\": \"Ld1\", \"bulk_density\": 1.3, \"humus_class\": \"h3\", \"humus_corg\": 1.7441860437393188, \"ka5_texture_class\": \"Ss\", \"sand\": 0.93, \"clay\": 0.02, \"silt\": 0.05, \"ph_class\": \"s5\", \"ph_lower_value\": 3.3, \"ph_upper_value\": 4.0}, \"4\": {\"obergrenze_m\": 0.1, \"untergrenze_m\": 2.0, \"stratigraphie\": \"\", \"herkunft\": \"Sa\", \"geogenese\": \"a\", \"summe\": 0.0, \"bulk_density_class\": \"Ld2\", \"bulk_density\": 1.5, \"humus_class\": \"h1\", \"humus_corg\": 0.29069799184799194, \"ka5_texture_class\": \"Ss\", \"sand\": 0.93, \"clay\": 0.02, \"silt\": 0.05, \"ph_class\": \"s4\", \"ph_lower_value\": 4.0, \"ph_upper_value\": 4.7}}}}}}}}',\n",
       " 'landusage_choices': '{\"21\": \"Ackerfl\\\\u00e4chen\", \"23\": \"Gr\\\\u00fcnland\", \"31\": \"W\\\\u00e4lder\"}'}"
      ]
     },
     "execution_count": 24,
     "metadata": {},
     "output_type": "execute_result"
    }
   ],
   "source": [
    "soil_profiles_from_polygon_ids(sp_ids)"
   ]
  },
  {
   "cell_type": "code",
   "execution_count": 59,
   "id": "f91319ab-05f7-41e8-b5b8-4b66e03409eb",
   "metadata": {},
   "outputs": [],
   "source": [
    "def soil_profiles_from_polygon_ids_new(soil_profile_polygon_ids):\n",
    "    \"\"\"\n",
    "    Get soil profiles from polygon ids.\n",
    "    \"\"\"\n",
    "    start = datetime.now()\n",
    "\n",
    "    soil_profiles = buek_models.SoilProfile.objects.filter(polygon_id__in=soil_profile_polygon_ids).exclude(landusage_corine_code=51)\n",
    "    unique_land_usages = soil_profiles.values_list('landusage_corine_code', 'landusage').distinct()\n",
    "    # Filter out water (code 51)\n",
    "    land_usage_choices = {code: usage for code, usage in unique_land_usages}\n",
    "    \n",
    "    # Initialize data_json with land usage codes\n",
    "    data_json = {code: {} for code in land_usage_choices.keys()}\n",
    "\n",
    "    soil_data = buek_models.SoilProfileHorizon.objects.select_related('soilprofile').filter(\n",
    "        soilprofile__in=soil_profiles\n",
    "        ).order_by('soilprofile__landusage_corine_code', 'soilprofile__system_unit', 'soilprofile__area_percentage', 'horizont_nr')\n",
    "\n",
    "    # Loop through soil data and populate data_json\n",
    "    \n",
    "    for item in soil_data:\n",
    "        try:\n",
    "            \n",
    "            land_code = item.soilprofile.landusage_corine_code\n",
    "            system_unit = item.soilprofile.system_unit\n",
    "            area_percentage = item.soilprofile.area_percentage\n",
    "            profile_id = item.soilprofile.id\n",
    "            horizon_nr = item.horizont_nr\n",
    "\n",
    "            if system_unit not in data_json[land_code]:\n",
    "                data_json[land_code][system_unit] = {\n",
    "                    'area_percentages': set(),\n",
    "                    'soil_profiles': {}\n",
    "                }\n",
    "\n",
    "            data_json[land_code][system_unit]['area_percentages'].add(area_percentage)\n",
    "\n",
    "            if area_percentage not in data_json[land_code][system_unit]['soil_profiles']:\n",
    "                data_json[land_code][system_unit]['soil_profiles'][area_percentage] = {}\n",
    "\n",
    "            if profile_id not in data_json[land_code][system_unit]['soil_profiles'][area_percentage]:\n",
    "                data_json[land_code][system_unit]['soil_profiles'][area_percentage][profile_id] = {'horizons': {}}\n",
    "\n",
    "            data_json[land_code][system_unit]['soil_profiles'][area_percentage][profile_id]['horizons'][horizon_nr] = {\n",
    "                'obergrenze_m': item.obergrenze_m,\n",
    "                'untergrenze_m': item.untergrenze_m,\n",
    "                'stratigraphie': item.stratigraphie,\n",
    "                'herkunft': item.herkunft,\n",
    "                'geogenese': item.geogenese,\n",
    "                'summe': item.summe,\n",
    "                'bulk_density_class': item.bulk_density_class.bulk_density_class if item.bulk_density_class_id is not None else 'no data',\n",
    "                'bulk_density': item.bulk_density_class.raw_density_g_per_cm3 if item.bulk_density_class_id is not None else 'no data',\n",
    "                'humus_class': item.humus_class.humus_class if item.humus_class_id is not None else 'no data',\n",
    "                'humus_corg': item.humus_class.corg if item.humus_class_id is not None else 'no data',\n",
    "                'ka5_texture_class': item.ka5_texture_class.ka5_soiltype if item.ka5_texture_class_id is not None else 'no data',\n",
    "                'sand': round(item.ka5_texture_class.sand, 2) if item.ka5_texture_class_id is not None else 'no data',\n",
    "                'clay': round(item.ka5_texture_class.clay, 2) if item.ka5_texture_class_id is not None else 'no data',\n",
    "                'silt': round(item.ka5_texture_class.silt, 2) if item.ka5_texture_class_id is not None else 'no data',\n",
    "                'ph_class': item.ph_class.ph_class if item.ph_class_id is not None else 'no data',\n",
    "                'ph_lower_value': item.ph_class.ph_lower_value if item.ph_class_id is not None else 'no data',\n",
    "                'ph_upper_value': item.ph_class.ph_upper_value if item.ph_class_id is not None else 'no data',                    \n",
    "            }\n",
    "        except Exception as e:\n",
    "            print(\"Exception occurred:\", e)\n",
    "           \n",
    "    # Sort area percentages\n",
    "    for land_code in data_json:\n",
    "        for system_unit in data_json[land_code]:\n",
    "            data_json[land_code][system_unit]['area_percentages'] = sorted(list(data_json[land_code][system_unit]['area_percentages']))\n",
    "\n",
    "    data_menu = {\n",
    "        'text': 'name',\n",
    "        'id': 1,\n",
    "        'polygon_ids': soil_profile_polygon_ids,\n",
    "        'system_unit_json': json.dumps(data_json),\n",
    "        'landusage_choices': json.dumps(land_usage_choices),\n",
    "    }\n",
    "    print('Time elapsed: ', datetime.now() - start)\n",
    "    return data_menu"
   ]
  },
  {
   "cell_type": "code",
   "execution_count": 60,
   "id": "df81b6da-42af-475b-80fc-b6b8ff515d6e",
   "metadata": {},
   "outputs": [
    {
     "name": "stdout",
     "output_type": "stream",
     "text": [
      "Time elapsed:  0:00:00.260970\n"
     ]
    },
    {
     "data": {
      "text/plain": [
       "{'text': 'name',\n",
       " 'id': 1,\n",
       " 'polygon_ids': [475027, 475028],\n",
       " 'system_unit_json': '{\"21\": {\"BB-GG\": {\"area_percentages\": [5], \"soil_profiles\": {\"5\": {\"18833\": {\"horizons\": {\"1\": {\"obergrenze_m\": 0.0, \"untergrenze_m\": 0.3, \"stratigraphie\": \"qp\", \"herkunft\": \"Sf\", \"geogenese\": \"f\", \"summe\": 1.0, \"bulk_density_class\": \"Ld3\", \"bulk_density\": 1.7, \"humus_class\": \"h2\", \"humus_corg\": 0.8720930218696594, \"ka5_texture_class\": \"Ss\", \"sand\": 0.93, \"clay\": 0.02, \"silt\": 0.05, \"ph_class\": \"s1\", \"ph_lower_value\": 6.1, \"ph_upper_value\": 6.8}, \"2\": {\"obergrenze_m\": 0.3, \"untergrenze_m\": 0.35, \"stratigraphie\": \"qp\", \"herkunft\": \"Sf\", \"geogenese\": \"f\", \"summe\": 1.0, \"bulk_density_class\": \"Ld3\", \"bulk_density\": 1.7, \"humus_class\": \"h1\", \"humus_corg\": 0.29069799184799194, \"ka5_texture_class\": \"Ss\", \"sand\": 0.93, \"clay\": 0.02, \"silt\": 0.05, \"ph_class\": \"s1\", \"ph_lower_value\": 6.1, \"ph_upper_value\": 6.8}, \"3\": {\"obergrenze_m\": 0.35, \"untergrenze_m\": 0.5, \"stratigraphie\": \"qp\", \"herkunft\": \"Sf\", \"geogenese\": \"f\", \"summe\": 1.0, \"bulk_density_class\": \"Ld3\", \"bulk_density\": 1.7, \"humus_class\": \"h0\", \"humus_corg\": 0.0, \"ka5_texture_class\": \"Ss\", \"sand\": 0.93, \"clay\": 0.02, \"silt\": 0.05, \"ph_class\": \"s1\", \"ph_lower_value\": 6.1, \"ph_upper_value\": 6.8}, \"4\": {\"obergrenze_m\": 0.5, \"untergrenze_m\": 1.0, \"stratigraphie\": \"qp\", \"herkunft\": \"Sf\", \"geogenese\": \"f\", \"summe\": 0.0, \"bulk_density_class\": \"Ld3\", \"bulk_density\": 1.7, \"humus_class\": \"h1\", \"humus_corg\": 0.29069799184799194, \"ka5_texture_class\": \"Ss\", \"sand\": 0.93, \"clay\": 0.02, \"silt\": 0.05, \"ph_class\": \"s1\", \"ph_lower_value\": 6.1, \"ph_upper_value\": 6.8}, \"5\": {\"obergrenze_m\": 1.0, \"untergrenze_m\": 2.0, \"stratigraphie\": \"qp\", \"herkunft\": \"Sf\", \"geogenese\": \"f\", \"summe\": 0.0, \"bulk_density_class\": \"Ld3\", \"bulk_density\": 1.7, \"humus_class\": \"h1\", \"humus_corg\": 0.29069799184799194, \"ka5_texture_class\": \"Ss\", \"sand\": 0.93, \"clay\": 0.02, \"silt\": 0.05, \"ph_class\": \"s1\", \"ph_lower_value\": 6.1, \"ph_upper_value\": 6.8}}}, \"18831\": {\"horizons\": {\"1\": {\"obergrenze_m\": 0.0, \"untergrenze_m\": 0.3, \"stratigraphie\": \"qp\", \"herkunft\": \"Sf\", \"geogenese\": \"ff\", \"summe\": 1.0, \"bulk_density_class\": \"Ld3\", \"bulk_density\": 1.7, \"humus_class\": \"h2\", \"humus_corg\": 0.8720930218696594, \"ka5_texture_class\": \"Ss\", \"sand\": 0.93, \"clay\": 0.02, \"silt\": 0.05, \"ph_class\": \"s1\", \"ph_lower_value\": 6.1, \"ph_upper_value\": 6.8}, \"2\": {\"obergrenze_m\": 0.3, \"untergrenze_m\": 0.35, \"stratigraphie\": \"qp\", \"herkunft\": \"Sf\", \"geogenese\": \"ff\", \"summe\": 1.0, \"bulk_density_class\": \"Ld3\", \"bulk_density\": 1.7, \"humus_class\": \"h1\", \"humus_corg\": 0.29069799184799194, \"ka5_texture_class\": \"Ss\", \"sand\": 0.93, \"clay\": 0.02, \"silt\": 0.05, \"ph_class\": \"s1\", \"ph_lower_value\": 6.1, \"ph_upper_value\": 6.8}, \"3\": {\"obergrenze_m\": 0.35, \"untergrenze_m\": 0.5, \"stratigraphie\": \"qp\", \"herkunft\": \"Sf\", \"geogenese\": \"ff\", \"summe\": 1.0, \"bulk_density_class\": \"Ld3\", \"bulk_density\": 1.7, \"humus_class\": \"h0\", \"humus_corg\": 0.0, \"ka5_texture_class\": \"Ss\", \"sand\": 0.93, \"clay\": 0.02, \"silt\": 0.05, \"ph_class\": \"s1\", \"ph_lower_value\": 6.1, \"ph_upper_value\": 6.8}, \"4\": {\"obergrenze_m\": 0.5, \"untergrenze_m\": 1.0, \"stratigraphie\": \"qp\", \"herkunft\": \"Sf\", \"geogenese\": \"ff\", \"summe\": 0.0, \"bulk_density_class\": \"Ld3\", \"bulk_density\": 1.7, \"humus_class\": \"h1\", \"humus_corg\": 0.29069799184799194, \"ka5_texture_class\": \"Ss\", \"sand\": 0.93, \"clay\": 0.02, \"silt\": 0.05, \"ph_class\": \"s1\", \"ph_lower_value\": 6.1, \"ph_upper_value\": 6.8}, \"5\": {\"obergrenze_m\": 1.0, \"untergrenze_m\": 2.0, \"stratigraphie\": \"qp\", \"herkunft\": \"Sf\", \"geogenese\": \"ff\", \"summe\": 0.0, \"bulk_density_class\": \"Ld3\", \"bulk_density\": 1.7, \"humus_class\": \"h1\", \"humus_corg\": 0.29069799184799194, \"ka5_texture_class\": \"Ss\", \"sand\": 0.93, \"clay\": 0.02, \"silt\": 0.05, \"ph_class\": \"s1\", \"ph_lower_value\": 6.1, \"ph_upper_value\": 6.8}}}}}}, \"BBn\": {\"area_percentages\": [20, 40], \"soil_profiles\": {\"20\": {\"18827\": {\"horizons\": {\"1\": {\"obergrenze_m\": 0.0, \"untergrenze_m\": 0.3, \"stratigraphie\": \"qp\", \"herkunft\": \"Sp\", \"geogenese\": \"p\", \"summe\": 1.0, \"bulk_density_class\": \"Ld3\", \"bulk_density\": 1.7, \"humus_class\": \"h2\", \"humus_corg\": 0.8720930218696594, \"ka5_texture_class\": \"Ss\", \"sand\": 0.93, \"clay\": 0.02, \"silt\": 0.05, \"ph_class\": \"s1\", \"ph_lower_value\": 6.1, \"ph_upper_value\": 6.8}, \"2\": {\"obergrenze_m\": 0.3, \"untergrenze_m\": 0.5, \"stratigraphie\": \"qp\", \"herkunft\": \"Sp\", \"geogenese\": \"p\", \"summe\": 1.0, \"bulk_density_class\": \"Ld3\", \"bulk_density\": 1.7, \"humus_class\": \"h1\", \"humus_corg\": 0.29069799184799194, \"ka5_texture_class\": \"Ss\", \"sand\": 0.93, \"clay\": 0.02, \"silt\": 0.05, \"ph_class\": \"s1\", \"ph_lower_value\": 6.1, \"ph_upper_value\": 6.8}, \"3\": {\"obergrenze_m\": 0.5, \"untergrenze_m\": 1.1, \"stratigraphie\": \"\", \"herkunft\": \"Sf\", \"geogenese\": \"f\", \"summe\": 0.0, \"bulk_density_class\": \"Ld3\", \"bulk_density\": 1.7, \"humus_class\": \"h1\", \"humus_corg\": 0.29069799184799194, \"ka5_texture_class\": \"Ss\", \"sand\": 0.93, \"clay\": 0.02, \"silt\": 0.05, \"ph_class\": \"s4\", \"ph_lower_value\": 4.0, \"ph_upper_value\": 4.7}, \"4\": {\"obergrenze_m\": 1.1, \"untergrenze_m\": 1.45, \"stratigraphie\": \"\", \"herkunft\": \"Sf\", \"geogenese\": \"f\", \"summe\": 0.0, \"bulk_density_class\": \"Ld3\", \"bulk_density\": 1.7, \"humus_class\": \"h1\", \"humus_corg\": 0.29069799184799194, \"ka5_texture_class\": \"Ss\", \"sand\": 0.93, \"clay\": 0.02, \"silt\": 0.05, \"ph_class\": \"s1\", \"ph_lower_value\": 6.1, \"ph_upper_value\": 6.8}, \"5\": {\"obergrenze_m\": 1.45, \"untergrenze_m\": 2.0, \"stratigraphie\": \"\", \"herkunft\": \"Sf\", \"geogenese\": \"f\", \"summe\": 0.0, \"bulk_density_class\": \"Ld3\", \"bulk_density\": 1.7, \"humus_class\": \"h1\", \"humus_corg\": 0.29069799184799194, \"ka5_texture_class\": \"Ss\", \"sand\": 0.93, \"clay\": 0.02, \"silt\": 0.05, \"ph_class\": \"s1\", \"ph_lower_value\": 6.1, \"ph_upper_value\": 6.8}}}}, \"40\": {\"18828\": {\"horizons\": {\"1\": {\"obergrenze_m\": 0.0, \"untergrenze_m\": 0.3, \"stratigraphie\": \"qp\", \"herkunft\": \"Sp\", \"geogenese\": \"p\", \"summe\": 1.0, \"bulk_density_class\": \"Ld3\", \"bulk_density\": 1.7, \"humus_class\": \"h2\", \"humus_corg\": 0.8720930218696594, \"ka5_texture_class\": \"Ss\", \"sand\": 0.93, \"clay\": 0.02, \"silt\": 0.05, \"ph_class\": \"s1\", \"ph_lower_value\": 6.1, \"ph_upper_value\": 6.8}, \"2\": {\"obergrenze_m\": 0.3, \"untergrenze_m\": 0.5, \"stratigraphie\": \"qp\", \"herkunft\": \"Sp\", \"geogenese\": \"p\", \"summe\": 1.0, \"bulk_density_class\": \"Ld3\", \"bulk_density\": 1.7, \"humus_class\": \"h1\", \"humus_corg\": 0.29069799184799194, \"ka5_texture_class\": \"Ss\", \"sand\": 0.93, \"clay\": 0.02, \"silt\": 0.05, \"ph_class\": \"s1\", \"ph_lower_value\": 6.1, \"ph_upper_value\": 6.8}, \"3\": {\"obergrenze_m\": 0.5, \"untergrenze_m\": 1.1, \"stratigraphie\": \"q\", \"herkunft\": \"Sf\", \"geogenese\": \"f\", \"summe\": 0.0, \"bulk_density_class\": \"Ld3\", \"bulk_density\": 1.7, \"humus_class\": \"h1\", \"humus_corg\": 0.29069799184799194, \"ka5_texture_class\": \"Ss\", \"sand\": 0.93, \"clay\": 0.02, \"silt\": 0.05, \"ph_class\": \"s4\", \"ph_lower_value\": 4.0, \"ph_upper_value\": 4.7}, \"4\": {\"obergrenze_m\": 1.1, \"untergrenze_m\": 1.45, \"stratigraphie\": \"q\", \"herkunft\": \"Sf\", \"geogenese\": \"f\", \"summe\": 0.0, \"bulk_density_class\": \"Ld3\", \"bulk_density\": 1.7, \"humus_class\": \"h1\", \"humus_corg\": 0.29069799184799194, \"ka5_texture_class\": \"Ss\", \"sand\": 0.93, \"clay\": 0.02, \"silt\": 0.05, \"ph_class\": \"s1\", \"ph_lower_value\": 6.1, \"ph_upper_value\": 6.8}, \"5\": {\"obergrenze_m\": 1.45, \"untergrenze_m\": 2.0, \"stratigraphie\": \"q\", \"herkunft\": \"Sf\", \"geogenese\": \"f\", \"summe\": 0.0, \"bulk_density_class\": \"Ld3\", \"bulk_density\": 1.7, \"humus_class\": \"h1\", \"humus_corg\": 0.29069799184799194, \"ka5_texture_class\": \"Ss\", \"sand\": 0.93, \"clay\": 0.02, \"silt\": 0.05, \"ph_class\": \"s1\", \"ph_lower_value\": 6.1, \"ph_upper_value\": 6.8}}}}}}, \"GG-BB\": {\"area_percentages\": [20], \"soil_profiles\": {\"20\": {\"18829\": {\"horizons\": {\"1\": {\"obergrenze_m\": 0.0, \"untergrenze_m\": 0.3, \"stratigraphie\": \"qp\", \"herkunft\": \"Sp\", \"geogenese\": \"p\", \"summe\": 1.0, \"bulk_density_class\": \"Ld3\", \"bulk_density\": 1.7, \"humus_class\": \"h2\", \"humus_corg\": 0.8720930218696594, \"ka5_texture_class\": \"Ss\", \"sand\": 0.93, \"clay\": 0.02, \"silt\": 0.05, \"ph_class\": \"s1\", \"ph_lower_value\": 6.1, \"ph_upper_value\": 6.8}, \"2\": {\"obergrenze_m\": 0.3, \"untergrenze_m\": 0.5, \"stratigraphie\": \"qp\", \"herkunft\": \"Sp\", \"geogenese\": \"p\", \"summe\": 1.0, \"bulk_density_class\": \"Ld3\", \"bulk_density\": 1.7, \"humus_class\": \"h1\", \"humus_corg\": 0.29069799184799194, \"ka5_texture_class\": \"Ss\", \"sand\": 0.93, \"clay\": 0.02, \"silt\": 0.05, \"ph_class\": \"s1\", \"ph_lower_value\": 6.1, \"ph_upper_value\": 6.8}, \"3\": {\"obergrenze_m\": 0.5, \"untergrenze_m\": 1.0, \"stratigraphie\": \"q\", \"herkunft\": \"Sf\", \"geogenese\": \"f\", \"summe\": 0.0, \"bulk_density_class\": \"Ld3\", \"bulk_density\": 1.7, \"humus_class\": \"h1\", \"humus_corg\": 0.29069799184799194, \"ka5_texture_class\": \"Ss\", \"sand\": 0.93, \"clay\": 0.02, \"silt\": 0.05, \"ph_class\": \"s1\", \"ph_lower_value\": 6.1, \"ph_upper_value\": 6.8}, \"4\": {\"obergrenze_m\": 1.0, \"untergrenze_m\": 2.0, \"stratigraphie\": \"q\", \"herkunft\": \"Sf\", \"geogenese\": \"f\", \"summe\": 0.0, \"bulk_density_class\": \"Ld3\", \"bulk_density\": 1.7, \"humus_class\": \"h1\", \"humus_corg\": 0.29069799184799194, \"ka5_texture_class\": \"Ss\", \"sand\": 0.93, \"clay\": 0.02, \"silt\": 0.05, \"ph_class\": \"s1\", \"ph_lower_value\": 6.1, \"ph_upper_value\": 6.8}}}}}}}, \"23\": {\"GGn\": {\"area_percentages\": [5], \"soil_profiles\": {\"5\": {\"18834\": {\"horizons\": {\"1\": {\"obergrenze_m\": 0.0, \"untergrenze_m\": 0.3, \"stratigraphie\": \"\", \"herkunft\": \"Sf\", \"geogenese\": \"ff\", \"summe\": 0.0, \"bulk_density_class\": \"Ld3\", \"bulk_density\": 1.7, \"humus_class\": \"h3\", \"humus_corg\": 1.7441860437393188, \"ka5_texture_class\": \"Ss\", \"sand\": 0.93, \"clay\": 0.02, \"silt\": 0.05, \"ph_class\": \"s1\", \"ph_lower_value\": 6.1, \"ph_upper_value\": 6.8}, \"2\": {\"obergrenze_m\": 0.3, \"untergrenze_m\": 0.6, \"stratigraphie\": \"\", \"herkunft\": \"Sf\", \"geogenese\": \"ff\", \"summe\": 0.0, \"bulk_density_class\": \"Ld3\", \"bulk_density\": 1.7, \"humus_class\": \"h1\", \"humus_corg\": 0.29069799184799194, \"ka5_texture_class\": \"Ss\", \"sand\": 0.93, \"clay\": 0.02, \"silt\": 0.05, \"ph_class\": \"s1\", \"ph_lower_value\": 6.1, \"ph_upper_value\": 6.8}, \"3\": {\"obergrenze_m\": 0.6, \"untergrenze_m\": 1.0, \"stratigraphie\": \"\", \"herkunft\": \"Sf\", \"geogenese\": \"ff\", \"summe\": 0.0, \"bulk_density_class\": \"Ld3\", \"bulk_density\": 1.7, \"humus_class\": \"h1\", \"humus_corg\": 0.29069799184799194, \"ka5_texture_class\": \"Ss\", \"sand\": 0.93, \"clay\": 0.02, \"silt\": 0.05, \"ph_class\": \"s0\", \"ph_lower_value\": 6.8, \"ph_upper_value\": 7.2}, \"4\": {\"obergrenze_m\": 1.0, \"untergrenze_m\": 2.0, \"stratigraphie\": \"\", \"herkunft\": \"Sf\", \"geogenese\": \"ff\", \"summe\": 0.0, \"bulk_density_class\": \"Ld3\", \"bulk_density\": 1.7, \"humus_class\": \"h1\", \"humus_corg\": 0.29069799184799194, \"ka5_texture_class\": \"Ss\", \"sand\": 0.93, \"clay\": 0.02, \"silt\": 0.05, \"ph_class\": \"s1\", \"ph_lower_value\": 6.1, \"ph_upper_value\": 6.8}}}, \"18832\": {\"horizons\": {\"1\": {\"obergrenze_m\": 0.0, \"untergrenze_m\": 0.3, \"stratigraphie\": \"q\", \"herkunft\": \"Sf\", \"geogenese\": \"ff\", \"summe\": 0.0, \"bulk_density_class\": \"Ld3\", \"bulk_density\": 1.7, \"humus_class\": \"h3\", \"humus_corg\": 1.7441860437393188, \"ka5_texture_class\": \"Ss\", \"sand\": 0.93, \"clay\": 0.02, \"silt\": 0.05, \"ph_class\": \"s1\", \"ph_lower_value\": 6.1, \"ph_upper_value\": 6.8}, \"2\": {\"obergrenze_m\": 0.3, \"untergrenze_m\": 0.6, \"stratigraphie\": \"q\", \"herkunft\": \"Sf\", \"geogenese\": \"ff\", \"summe\": 0.0, \"bulk_density_class\": \"Ld3\", \"bulk_density\": 1.7, \"humus_class\": \"h1\", \"humus_corg\": 0.29069799184799194, \"ka5_texture_class\": \"Ss\", \"sand\": 0.93, \"clay\": 0.02, \"silt\": 0.05, \"ph_class\": \"s1\", \"ph_lower_value\": 6.1, \"ph_upper_value\": 6.8}, \"3\": {\"obergrenze_m\": 0.6, \"untergrenze_m\": 1.0, \"stratigraphie\": \"q\", \"herkunft\": \"Sf\", \"geogenese\": \"ff\", \"summe\": 0.0, \"bulk_density_class\": \"Ld3\", \"bulk_density\": 1.7, \"humus_class\": \"h1\", \"humus_corg\": 0.29069799184799194, \"ka5_texture_class\": \"Ss\", \"sand\": 0.93, \"clay\": 0.02, \"silt\": 0.05, \"ph_class\": \"s0\", \"ph_lower_value\": 6.8, \"ph_upper_value\": 7.2}, \"4\": {\"obergrenze_m\": 1.0, \"untergrenze_m\": 2.0, \"stratigraphie\": \"q\", \"herkunft\": \"Sf\", \"geogenese\": \"ff\", \"summe\": 0.0, \"bulk_density_class\": \"Ld3\", \"bulk_density\": 1.7, \"humus_class\": \"h1\", \"humus_corg\": 0.29069799184799194, \"ka5_texture_class\": \"Ss\", \"sand\": 0.93, \"clay\": 0.02, \"silt\": 0.05, \"ph_class\": \"s1\", \"ph_lower_value\": 6.1, \"ph_upper_value\": 6.8}}}}}}}, \"31\": {\"BB-RQ\": {\"area_percentages\": [20], \"soil_profiles\": {\"20\": {\"18823\": {\"horizons\": {\"1\": {\"obergrenze_m\": -0.08, \"untergrenze_m\": -0.02, \"stratigraphie\": \"qh\", \"herkunft\": \"O\", \"geogenese\": \"og\", \"summe\": 0.0, \"bulk_density_class\": \"no data\", \"bulk_density\": \"no data\", \"humus_class\": \"h7\", \"humus_corg\": 15.0, \"ka5_texture_class\": \"no data\", \"sand\": \"no data\", \"clay\": \"no data\", \"silt\": \"no data\", \"ph_class\": \"s5\", \"ph_lower_value\": 3.3, \"ph_upper_value\": 4.0}, \"2\": {\"obergrenze_m\": -0.02, \"untergrenze_m\": 0.0, \"stratigraphie\": \"qh\", \"herkunft\": \"O\", \"geogenese\": \"og\", \"summe\": 0.0, \"bulk_density_class\": \"no data\", \"bulk_density\": \"no data\", \"humus_class\": \"h7\", \"humus_corg\": 15.0, \"ka5_texture_class\": \"no data\", \"sand\": \"no data\", \"clay\": \"no data\", \"silt\": \"no data\", \"ph_class\": \"s6\", \"ph_lower_value\": 0.0, \"ph_upper_value\": 3.3}, \"3\": {\"obergrenze_m\": 0.0, \"untergrenze_m\": 0.1, \"stratigraphie\": \"\", \"herkunft\": \"Sa\", \"geogenese\": \"a\", \"summe\": 0.0, \"bulk_density_class\": \"Ld1\", \"bulk_density\": 1.3, \"humus_class\": \"h3\", \"humus_corg\": 1.7441860437393188, \"ka5_texture_class\": \"Ss\", \"sand\": 0.93, \"clay\": 0.02, \"silt\": 0.05, \"ph_class\": \"s5\", \"ph_lower_value\": 3.3, \"ph_upper_value\": 4.0}, \"4\": {\"obergrenze_m\": 0.1, \"untergrenze_m\": 0.15, \"stratigraphie\": \"\", \"herkunft\": \"Sa\", \"geogenese\": \"a\", \"summe\": 0.0, \"bulk_density_class\": \"Ld2\", \"bulk_density\": 1.5, \"humus_class\": \"h3\", \"humus_corg\": 1.7441860437393188, \"ka5_texture_class\": \"Ss\", \"sand\": 0.93, \"clay\": 0.02, \"silt\": 0.05, \"ph_class\": \"s5\", \"ph_lower_value\": 3.3, \"ph_upper_value\": 4.0}, \"5\": {\"obergrenze_m\": 0.15, \"untergrenze_m\": 0.35, \"stratigraphie\": \"\", \"herkunft\": \"Sa\", \"geogenese\": \"a\", \"summe\": 0.0, \"bulk_density_class\": \"Ld2\", \"bulk_density\": 1.5, \"humus_class\": \"h1\", \"humus_corg\": 0.29069799184799194, \"ka5_texture_class\": \"Ss\", \"sand\": 0.93, \"clay\": 0.02, \"silt\": 0.05, \"ph_class\": \"s4\", \"ph_lower_value\": 4.0, \"ph_upper_value\": 4.7}, \"6\": {\"obergrenze_m\": 0.35, \"untergrenze_m\": 0.5, \"stratigraphie\": \"\", \"herkunft\": \"Sa\", \"geogenese\": \"a\", \"summe\": 0.0, \"bulk_density_class\": \"Ld3\", \"bulk_density\": 1.7, \"humus_class\": \"h1\", \"humus_corg\": 0.29069799184799194, \"ka5_texture_class\": \"Ss\", \"sand\": 0.93, \"clay\": 0.02, \"silt\": 0.05, \"ph_class\": \"s4\", \"ph_lower_value\": 4.0, \"ph_upper_value\": 4.7}, \"7\": {\"obergrenze_m\": 0.5, \"untergrenze_m\": 2.0, \"stratigraphie\": \"\", \"herkunft\": \"Sa\", \"geogenese\": \"a\", \"summe\": 0.0, \"bulk_density_class\": \"Ld3\", \"bulk_density\": 1.7, \"humus_class\": \"h1\", \"humus_corg\": 0.29069799184799194, \"ka5_texture_class\": \"Ss\", \"sand\": 0.93, \"clay\": 0.02, \"silt\": 0.05, \"ph_class\": \"s4\", \"ph_lower_value\": 4.0, \"ph_upper_value\": 4.7}}}}}}, \"PP-BB\": {\"area_percentages\": [20], \"soil_profiles\": {\"20\": {\"18830\": {\"horizons\": {\"1\": {\"obergrenze_m\": -0.09, \"untergrenze_m\": -0.06, \"stratigraphie\": \"qh\", \"herkunft\": \"O\", \"geogenese\": \"og\", \"summe\": 0.0, \"bulk_density_class\": \"no data\", \"bulk_density\": \"no data\", \"humus_class\": \"h7\", \"humus_corg\": 15.0, \"ka5_texture_class\": \"no data\", \"sand\": \"no data\", \"clay\": \"no data\", \"silt\": \"no data\", \"ph_class\": \"s5\", \"ph_lower_value\": 3.3, \"ph_upper_value\": 4.0}, \"2\": {\"obergrenze_m\": -0.06, \"untergrenze_m\": -0.02, \"stratigraphie\": \"qh\", \"herkunft\": \"O\", \"geogenese\": \"og\", \"summe\": 0.0, \"bulk_density_class\": \"no data\", \"bulk_density\": \"no data\", \"humus_class\": \"h7\", \"humus_corg\": 15.0, \"ka5_texture_class\": \"no data\", \"sand\": \"no data\", \"clay\": \"no data\", \"silt\": \"no data\", \"ph_class\": \"s6\", \"ph_lower_value\": 0.0, \"ph_upper_value\": 3.3}, \"3\": {\"obergrenze_m\": -0.02, \"untergrenze_m\": 0.0, \"stratigraphie\": \"qh\", \"herkunft\": \"O\", \"geogenese\": \"og\", \"summe\": 0.0, \"bulk_density_class\": \"no data\", \"bulk_density\": \"no data\", \"humus_class\": \"h7\", \"humus_corg\": 15.0, \"ka5_texture_class\": \"no data\", \"sand\": \"no data\", \"clay\": \"no data\", \"silt\": \"no data\", \"ph_class\": \"s6\", \"ph_lower_value\": 0.0, \"ph_upper_value\": 3.3}, \"4\": {\"obergrenze_m\": 0.0, \"untergrenze_m\": 0.04, \"stratigraphie\": \"qp\", \"herkunft\": \"Sp\", \"geogenese\": \"p\", \"summe\": 1.0, \"bulk_density_class\": \"Ld2\", \"bulk_density\": 1.5, \"humus_class\": \"h2\", \"humus_corg\": 0.8720930218696594, \"ka5_texture_class\": \"Ss\", \"sand\": 0.93, \"clay\": 0.02, \"silt\": 0.05, \"ph_class\": \"s5\", \"ph_lower_value\": 3.3, \"ph_upper_value\": 4.0}, \"5\": {\"obergrenze_m\": 0.04, \"untergrenze_m\": 0.1, \"stratigraphie\": \"qp\", \"herkunft\": \"Sp\", \"geogenese\": \"p\", \"summe\": 1.0, \"bulk_density_class\": \"Ld2\", \"bulk_density\": 1.5, \"humus_class\": \"h2\", \"humus_corg\": 0.8720930218696594, \"ka5_texture_class\": \"Ss\", \"sand\": 0.93, \"clay\": 0.02, \"silt\": 0.05, \"ph_class\": \"s4\", \"ph_lower_value\": 4.0, \"ph_upper_value\": 4.7}, \"6\": {\"obergrenze_m\": 0.1, \"untergrenze_m\": 0.5, \"stratigraphie\": \"qp\", \"herkunft\": \"Sp\", \"geogenese\": \"p\", \"summe\": 1.0, \"bulk_density_class\": \"Ld3\", \"bulk_density\": 1.7, \"humus_class\": \"h1\", \"humus_corg\": 0.29069799184799194, \"ka5_texture_class\": \"Ss\", \"sand\": 0.93, \"clay\": 0.02, \"silt\": 0.05, \"ph_class\": \"s4\", \"ph_lower_value\": 4.0, \"ph_upper_value\": 4.7}, \"7\": {\"obergrenze_m\": 0.5, \"untergrenze_m\": 1.0, \"stratigraphie\": \"q\", \"herkunft\": \"Sf\", \"geogenese\": \"f\", \"summe\": 0.0, \"bulk_density_class\": \"Ld3\", \"bulk_density\": 1.7, \"humus_class\": \"h1\", \"humus_corg\": 0.29069799184799194, \"ka5_texture_class\": \"Ss\", \"sand\": 0.93, \"clay\": 0.02, \"silt\": 0.05, \"ph_class\": \"s4\", \"ph_lower_value\": 4.0, \"ph_upper_value\": 4.7}, \"8\": {\"obergrenze_m\": 1.0, \"untergrenze_m\": 1.45, \"stratigraphie\": \"q\", \"herkunft\": \"Sf\", \"geogenese\": \"f\", \"summe\": 0.0, \"bulk_density_class\": \"Ld3\", \"bulk_density\": 1.7, \"humus_class\": \"h1\", \"humus_corg\": 0.29069799184799194, \"ka5_texture_class\": \"Ss\", \"sand\": 0.93, \"clay\": 0.02, \"silt\": 0.05, \"ph_class\": \"s1\", \"ph_lower_value\": 6.1, \"ph_upper_value\": 6.8}, \"9\": {\"obergrenze_m\": 1.45, \"untergrenze_m\": 2.0, \"stratigraphie\": \"q\", \"herkunft\": \"Sf\", \"geogenese\": \"f\", \"summe\": 0.0, \"bulk_density_class\": \"Ld3\", \"bulk_density\": 1.7, \"humus_class\": \"h1\", \"humus_corg\": 0.29069799184799194, \"ka5_texture_class\": \"Ss\", \"sand\": 0.93, \"clay\": 0.02, \"silt\": 0.05, \"ph_class\": \"s1\", \"ph_lower_value\": 6.1, \"ph_upper_value\": 6.8}}}}}}, \"PPn\": {\"area_percentages\": [5, 20], \"soil_profiles\": {\"5\": {\"18826\": {\"horizons\": {\"1\": {\"obergrenze_m\": -0.06999999999999999, \"untergrenze_m\": -0.02, \"stratigraphie\": \"qh\", \"herkunft\": \"O\", \"geogenese\": \"og\", \"summe\": 0.0, \"bulk_density_class\": \"no data\", \"bulk_density\": \"no data\", \"humus_class\": \"h7\", \"humus_corg\": 15.0, \"ka5_texture_class\": \"no data\", \"sand\": \"no data\", \"clay\": \"no data\", \"silt\": \"no data\", \"ph_class\": \"s5\", \"ph_lower_value\": 3.3, \"ph_upper_value\": 4.0}, \"2\": {\"obergrenze_m\": -0.02, \"untergrenze_m\": 0.0, \"stratigraphie\": \"qh\", \"herkunft\": \"O\", \"geogenese\": \"og\", \"summe\": 0.0, \"bulk_density_class\": \"no data\", \"bulk_density\": \"no data\", \"humus_class\": \"h7\", \"humus_corg\": 15.0, \"ka5_texture_class\": \"no data\", \"sand\": \"no data\", \"clay\": \"no data\", \"silt\": \"no data\", \"ph_class\": \"s6\", \"ph_lower_value\": 0.0, \"ph_upper_value\": 3.3}, \"3\": {\"obergrenze_m\": 0.0, \"untergrenze_m\": 0.05, \"stratigraphie\": \"\", \"herkunft\": \"Sa\", \"geogenese\": \"a\", \"summe\": 0.0, \"bulk_density_class\": \"Ld1\", \"bulk_density\": 1.3, \"humus_class\": \"h3\", \"humus_corg\": 1.7441860437393188, \"ka5_texture_class\": \"Ss\", \"sand\": 0.93, \"clay\": 0.02, \"silt\": 0.05, \"ph_class\": \"s5\", \"ph_lower_value\": 3.3, \"ph_upper_value\": 4.0}, \"4\": {\"obergrenze_m\": 0.05, \"untergrenze_m\": 0.1, \"stratigraphie\": \"\", \"herkunft\": \"Sa\", \"geogenese\": \"a\", \"summe\": 0.0, \"bulk_density_class\": \"Ld2\", \"bulk_density\": 1.5, \"humus_class\": \"h3\", \"humus_corg\": 1.7441860437393188, \"ka5_texture_class\": \"Ss\", \"sand\": 0.93, \"clay\": 0.02, \"silt\": 0.05, \"ph_class\": \"s5\", \"ph_lower_value\": 3.3, \"ph_upper_value\": 4.0}, \"5\": {\"obergrenze_m\": 0.1, \"untergrenze_m\": 0.2, \"stratigraphie\": \"\", \"herkunft\": \"Sa\", \"geogenese\": \"a\", \"summe\": 0.0, \"bulk_density_class\": \"Ld2\", \"bulk_density\": 1.5, \"humus_class\": \"h2\", \"humus_corg\": 0.8720930218696594, \"ka5_texture_class\": \"Ss\", \"sand\": 0.93, \"clay\": 0.02, \"silt\": 0.05, \"ph_class\": \"s4\", \"ph_lower_value\": 4.0, \"ph_upper_value\": 4.7}, \"6\": {\"obergrenze_m\": 0.2, \"untergrenze_m\": 0.4, \"stratigraphie\": \"\", \"herkunft\": \"Sa\", \"geogenese\": \"a\", \"summe\": 0.0, \"bulk_density_class\": \"Ld2\", \"bulk_density\": 1.5, \"humus_class\": \"h1\", \"humus_corg\": 0.29069799184799194, \"ka5_texture_class\": \"Ss\", \"sand\": 0.93, \"clay\": 0.02, \"silt\": 0.05, \"ph_class\": \"s4\", \"ph_lower_value\": 4.0, \"ph_upper_value\": 4.7}, \"7\": {\"obergrenze_m\": 0.4, \"untergrenze_m\": 1.1, \"stratigraphie\": \"\", \"herkunft\": \"Sa\", \"geogenese\": \"a\", \"summe\": 0.0, \"bulk_density_class\": \"Ld3\", \"bulk_density\": 1.7, \"humus_class\": \"h1\", \"humus_corg\": 0.29069799184799194, \"ka5_texture_class\": \"Ss\", \"sand\": 0.93, \"clay\": 0.02, \"silt\": 0.05, \"ph_class\": \"s4\", \"ph_lower_value\": 4.0, \"ph_upper_value\": 4.7}, \"8\": {\"obergrenze_m\": 1.1, \"untergrenze_m\": 1.3, \"stratigraphie\": \"qp\", \"herkunft\": \"Sp\", \"geogenese\": \"p\", \"summe\": 1.0, \"bulk_density_class\": \"Ld3\", \"bulk_density\": 1.7, \"humus_class\": \"h1\", \"humus_corg\": 0.29069799184799194, \"ka5_texture_class\": \"Ss\", \"sand\": 0.93, \"clay\": 0.02, \"silt\": 0.05, \"ph_class\": \"s4\", \"ph_lower_value\": 4.0, \"ph_upper_value\": 4.7}, \"9\": {\"obergrenze_m\": 1.3, \"untergrenze_m\": 2.0, \"stratigraphie\": \"\", \"herkunft\": \"Sf\", \"geogenese\": \"f\", \"summe\": 0.0, \"bulk_density_class\": \"Ld3\", \"bulk_density\": 1.7, \"humus_class\": \"h1\", \"humus_corg\": 0.29069799184799194, \"ka5_texture_class\": \"Ss\", \"sand\": 0.93, \"clay\": 0.02, \"silt\": 0.05, \"ph_class\": \"s4\", \"ph_lower_value\": 4.0, \"ph_upper_value\": 4.7}}}}, \"20\": {\"18824\": {\"horizons\": {\"1\": {\"obergrenze_m\": -0.08, \"untergrenze_m\": -0.02, \"stratigraphie\": \"qh\", \"herkunft\": \"O\", \"geogenese\": \"og\", \"summe\": 0.0, \"bulk_density_class\": \"no data\", \"bulk_density\": \"no data\", \"humus_class\": \"h7\", \"humus_corg\": 15.0, \"ka5_texture_class\": \"no data\", \"sand\": \"no data\", \"clay\": \"no data\", \"silt\": \"no data\", \"ph_class\": \"s5\", \"ph_lower_value\": 3.3, \"ph_upper_value\": 4.0}, \"2\": {\"obergrenze_m\": -0.02, \"untergrenze_m\": 0.0, \"stratigraphie\": \"qh\", \"herkunft\": \"O\", \"geogenese\": \"og\", \"summe\": 0.0, \"bulk_density_class\": \"no data\", \"bulk_density\": \"no data\", \"humus_class\": \"h7\", \"humus_corg\": 15.0, \"ka5_texture_class\": \"no data\", \"sand\": \"no data\", \"clay\": \"no data\", \"silt\": \"no data\", \"ph_class\": \"s6\", \"ph_lower_value\": 0.0, \"ph_upper_value\": 3.3}, \"3\": {\"obergrenze_m\": 0.0, \"untergrenze_m\": 0.1, \"stratigraphie\": \"\", \"herkunft\": \"Sa\", \"geogenese\": \"a\", \"summe\": 0.0, \"bulk_density_class\": \"Ld1\", \"bulk_density\": 1.3, \"humus_class\": \"h3\", \"humus_corg\": 1.7441860437393188, \"ka5_texture_class\": \"Ss\", \"sand\": 0.93, \"clay\": 0.02, \"silt\": 0.05, \"ph_class\": \"s5\", \"ph_lower_value\": 3.3, \"ph_upper_value\": 4.0}, \"4\": {\"obergrenze_m\": 0.1, \"untergrenze_m\": 0.15, \"stratigraphie\": \"\", \"herkunft\": \"Sa\", \"geogenese\": \"a\", \"summe\": 0.0, \"bulk_density_class\": \"Ld2\", \"bulk_density\": 1.5, \"humus_class\": \"h3\", \"humus_corg\": 1.7441860437393188, \"ka5_texture_class\": \"Ss\", \"sand\": 0.93, \"clay\": 0.02, \"silt\": 0.05, \"ph_class\": \"s5\", \"ph_lower_value\": 3.3, \"ph_upper_value\": 4.0}, \"5\": {\"obergrenze_m\": 0.15, \"untergrenze_m\": 0.25, \"stratigraphie\": \"\", \"herkunft\": \"Sa\", \"geogenese\": \"a\", \"summe\": 0.0, \"bulk_density_class\": \"Ld2\", \"bulk_density\": 1.5, \"humus_class\": \"h2\", \"humus_corg\": 0.8720930218696594, \"ka5_texture_class\": \"Ss\", \"sand\": 0.93, \"clay\": 0.02, \"silt\": 0.05, \"ph_class\": \"s4\", \"ph_lower_value\": 4.0, \"ph_upper_value\": 4.7}, \"6\": {\"obergrenze_m\": 0.25, \"untergrenze_m\": 0.35, \"stratigraphie\": \"\", \"herkunft\": \"Sa\", \"geogenese\": \"a\", \"summe\": 0.0, \"bulk_density_class\": \"Ld2\", \"bulk_density\": 1.5, \"humus_class\": \"h1\", \"humus_corg\": 0.29069799184799194, \"ka5_texture_class\": \"Ss\", \"sand\": 0.93, \"clay\": 0.02, \"silt\": 0.05, \"ph_class\": \"s4\", \"ph_lower_value\": 4.0, \"ph_upper_value\": 4.7}, \"7\": {\"obergrenze_m\": 0.35, \"untergrenze_m\": 0.55, \"stratigraphie\": \"\", \"herkunft\": \"Sa\", \"geogenese\": \"a\", \"summe\": 0.0, \"bulk_density_class\": \"Ld2\", \"bulk_density\": 1.5, \"humus_class\": \"h1\", \"humus_corg\": 0.29069799184799194, \"ka5_texture_class\": \"Ss\", \"sand\": 0.93, \"clay\": 0.02, \"silt\": 0.05, \"ph_class\": \"s4\", \"ph_lower_value\": 4.0, \"ph_upper_value\": 4.7}, \"8\": {\"obergrenze_m\": 0.55, \"untergrenze_m\": 2.0, \"stratigraphie\": \"\", \"herkunft\": \"Sa\", \"geogenese\": \"a\", \"summe\": 0.0, \"bulk_density_class\": \"Ld3\", \"bulk_density\": 1.7, \"humus_class\": \"h1\", \"humus_corg\": 0.29069799184799194, \"ka5_texture_class\": \"Ss\", \"sand\": 0.93, \"clay\": 0.02, \"silt\": 0.05, \"ph_class\": \"s4\", \"ph_lower_value\": 4.0, \"ph_upper_value\": 4.7}}}}}}, \"RQn\": {\"area_percentages\": [5, 20], \"soil_profiles\": {\"5\": {\"18825\": {\"horizons\": {\"1\": {\"obergrenze_m\": -0.08, \"untergrenze_m\": -0.02, \"stratigraphie\": \"qh\", \"herkunft\": \"O\", \"geogenese\": \"og\", \"summe\": 0.0, \"bulk_density_class\": \"no data\", \"bulk_density\": \"no data\", \"humus_class\": \"h7\", \"humus_corg\": 15.0, \"ka5_texture_class\": \"no data\", \"sand\": \"no data\", \"clay\": \"no data\", \"silt\": \"no data\", \"ph_class\": \"s5\", \"ph_lower_value\": 3.3, \"ph_upper_value\": 4.0}, \"2\": {\"obergrenze_m\": -0.02, \"untergrenze_m\": 0.0, \"stratigraphie\": \"qh\", \"herkunft\": \"O\", \"geogenese\": \"og\", \"summe\": 0.0, \"bulk_density_class\": \"no data\", \"bulk_density\": \"no data\", \"humus_class\": \"h7\", \"humus_corg\": 15.0, \"ka5_texture_class\": \"no data\", \"sand\": \"no data\", \"clay\": \"no data\", \"silt\": \"no data\", \"ph_class\": \"s6\", \"ph_lower_value\": 0.0, \"ph_upper_value\": 3.3}, \"3\": {\"obergrenze_m\": 0.0, \"untergrenze_m\": 0.1, \"stratigraphie\": \"\", \"herkunft\": \"Sa\", \"geogenese\": \"a\", \"summe\": 0.0, \"bulk_density_class\": \"Ld1\", \"bulk_density\": 1.3, \"humus_class\": \"h3\", \"humus_corg\": 1.7441860437393188, \"ka5_texture_class\": \"Ss\", \"sand\": 0.93, \"clay\": 0.02, \"silt\": 0.05, \"ph_class\": \"s5\", \"ph_lower_value\": 3.3, \"ph_upper_value\": 4.0}, \"4\": {\"obergrenze_m\": 0.1, \"untergrenze_m\": 1.0, \"stratigraphie\": \"\", \"herkunft\": \"Sa\", \"geogenese\": \"a\", \"summe\": 0.0, \"bulk_density_class\": \"Ld2\", \"bulk_density\": 1.5, \"humus_class\": \"h1\", \"humus_corg\": 0.29069799184799194, \"ka5_texture_class\": \"Ss\", \"sand\": 0.93, \"clay\": 0.02, \"silt\": 0.05, \"ph_class\": \"s4\", \"ph_lower_value\": 4.0, \"ph_upper_value\": 4.7}, \"5\": {\"obergrenze_m\": 1.0, \"untergrenze_m\": 1.25, \"stratigraphie\": \"qp\", \"herkunft\": \"Sp\", \"geogenese\": \"p\", \"summe\": 1.0, \"bulk_density_class\": \"Ld3\", \"bulk_density\": 1.7, \"humus_class\": \"h1\", \"humus_corg\": 0.29069799184799194, \"ka5_texture_class\": \"Ss\", \"sand\": 0.93, \"clay\": 0.02, \"silt\": 0.05, \"ph_class\": \"s4\", \"ph_lower_value\": 4.0, \"ph_upper_value\": 4.7}, \"6\": {\"obergrenze_m\": 1.25, \"untergrenze_m\": 2.0, \"stratigraphie\": \"\", \"herkunft\": \"Sf\", \"geogenese\": \"f\", \"summe\": 0.0, \"bulk_density_class\": \"Ld3\", \"bulk_density\": 1.7, \"humus_class\": \"h1\", \"humus_corg\": 0.29069799184799194, \"ka5_texture_class\": \"Ss\", \"sand\": 0.93, \"clay\": 0.02, \"silt\": 0.05, \"ph_class\": \"s4\", \"ph_lower_value\": 4.0, \"ph_upper_value\": 4.7}}}}, \"20\": {\"18822\": {\"horizons\": {\"1\": {\"obergrenze_m\": -0.08, \"untergrenze_m\": -0.02, \"stratigraphie\": \"qh\", \"herkunft\": \"O\", \"geogenese\": \"og\", \"summe\": 0.0, \"bulk_density_class\": \"no data\", \"bulk_density\": \"no data\", \"humus_class\": \"h7\", \"humus_corg\": 15.0, \"ka5_texture_class\": \"no data\", \"sand\": \"no data\", \"clay\": \"no data\", \"silt\": \"no data\", \"ph_class\": \"s5\", \"ph_lower_value\": 3.3, \"ph_upper_value\": 4.0}, \"2\": {\"obergrenze_m\": -0.02, \"untergrenze_m\": 0.0, \"stratigraphie\": \"qh\", \"herkunft\": \"O\", \"geogenese\": \"og\", \"summe\": 0.0, \"bulk_density_class\": \"no data\", \"bulk_density\": \"no data\", \"humus_class\": \"h7\", \"humus_corg\": 15.0, \"ka5_texture_class\": \"no data\", \"sand\": \"no data\", \"clay\": \"no data\", \"silt\": \"no data\", \"ph_class\": \"s6\", \"ph_lower_value\": 0.0, \"ph_upper_value\": 3.3}, \"3\": {\"obergrenze_m\": 0.0, \"untergrenze_m\": 0.1, \"stratigraphie\": \"\", \"herkunft\": \"Sa\", \"geogenese\": \"a\", \"summe\": 0.0, \"bulk_density_class\": \"Ld1\", \"bulk_density\": 1.3, \"humus_class\": \"h3\", \"humus_corg\": 1.7441860437393188, \"ka5_texture_class\": \"Ss\", \"sand\": 0.93, \"clay\": 0.02, \"silt\": 0.05, \"ph_class\": \"s5\", \"ph_lower_value\": 3.3, \"ph_upper_value\": 4.0}, \"4\": {\"obergrenze_m\": 0.1, \"untergrenze_m\": 2.0, \"stratigraphie\": \"\", \"herkunft\": \"Sa\", \"geogenese\": \"a\", \"summe\": 0.0, \"bulk_density_class\": \"Ld2\", \"bulk_density\": 1.5, \"humus_class\": \"h1\", \"humus_corg\": 0.29069799184799194, \"ka5_texture_class\": \"Ss\", \"sand\": 0.93, \"clay\": 0.02, \"silt\": 0.05, \"ph_class\": \"s4\", \"ph_lower_value\": 4.0, \"ph_upper_value\": 4.7}}}}}}}}',\n",
       " 'landusage_choices': '{\"21\": \"Ackerfl\\\\u00e4chen\", \"23\": \"Gr\\\\u00fcnland\", \"31\": \"W\\\\u00e4lder\"}'}"
      ]
     },
     "execution_count": 60,
     "metadata": {},
     "output_type": "execute_result"
    }
   ],
   "source": [
    "data = soil_profiles_from_polygon_ids_new(sp_ids)\n",
    "data"
   ]
  },
  {
   "cell_type": "code",
   "execution_count": 36,
   "id": "431824c9-32f5-44a6-85b2-8f8ac513effd",
   "metadata": {},
   "outputs": [],
   "source": [
    "soil_profiles = buek_models.SoilProfile.objects.filter(polygon_id__in=sp_ids).exclude(landusage_corine_code=51)"
   ]
  },
  {
   "cell_type": "code",
   "execution_count": 47,
   "id": "6fb90579-2ab4-4d8b-bcfc-fb50cf3b01b4",
   "metadata": {},
   "outputs": [],
   "source": [
    "unique_land_usages = soil_profiles.values_list('landusage_corine_code', 'landusage').distinct()"
   ]
  },
  {
   "cell_type": "code",
   "execution_count": 53,
   "id": "3a1460f1-5ee5-481f-9073-c06ba7793889",
   "metadata": {},
   "outputs": [
    {
     "data": {
      "text/plain": [
       "{21: 'Ackerflächen', 23: 'Grünland', 31: 'Wälder'}"
      ]
     },
     "execution_count": 53,
     "metadata": {},
     "output_type": "execute_result"
    }
   ],
   "source": [
    "land_usage_choices = {code: usage for code, usage in unique_land_usages}\n",
    "land_usage_choices"
   ]
  },
  {
   "cell_type": "code",
   "execution_count": 62,
   "id": "99c9ef62-8858-4d20-b8c9-b521410e05bb",
   "metadata": {},
   "outputs": [],
   "source": [
    "data_json = {code: {} for code in land_usage_choices.keys()}"
   ]
  },
  {
   "cell_type": "code",
   "execution_count": 63,
   "id": "c0aadf54-2d57-449c-8ad7-913727a3610d",
   "metadata": {},
   "outputs": [
    {
     "data": {
      "text/plain": [
       "dict_keys([21, 23, 31])"
      ]
     },
     "execution_count": 63,
     "metadata": {},
     "output_type": "execute_result"
    }
   ],
   "source": [
    "data_json.keys()"
   ]
  },
  {
   "cell_type": "code",
   "execution_count": 56,
   "id": "c369d208-98f6-4122-a50a-3c3d5e608f16",
   "metadata": {},
   "outputs": [],
   "source": [
    "soil_data = buek_models.SoilProfileHorizon.objects.select_related('soilprofile').filter(\n",
    "        soilprofile__in=soil_profiles\n",
    "        ).order_by('soilprofile__landusage_corine_code', 'soilprofile__system_unit', 'soilprofile__area_percentage', 'horizont_nr')"
   ]
  },
  {
   "cell_type": "code",
   "execution_count": 67,
   "id": "1995f64d-5fc3-4f21-bd78-ae0f312e4755",
   "metadata": {},
   "outputs": [
    {
     "data": {
      "text/plain": [
       "dict_keys(['21', '23', '31'])"
      ]
     },
     "execution_count": 67,
     "metadata": {},
     "output_type": "execute_result"
    }
   ],
   "source": [
    "json.loads(data['system_unit_json']).keys()"
   ]
  },
  {
   "cell_type": "code",
   "execution_count": null,
   "id": "c0f4af80-97f9-4128-9088-f15157d22f70",
   "metadata": {},
   "outputs": [],
   "source": []
  }
 ],
 "metadata": {
  "kernelspec": {
   "display_name": "Python 3 (ipykernel)",
   "language": "python",
   "name": "python3"
  },
  "language_info": {
   "codemirror_mode": {
    "name": "ipython",
    "version": 3
   },
   "file_extension": ".py",
   "mimetype": "text/x-python",
   "name": "python",
   "nbconvert_exporter": "python",
   "pygments_lexer": "ipython3",
   "version": "3.10.12"
  }
 },
 "nbformat": 4,
 "nbformat_minor": 5
}
