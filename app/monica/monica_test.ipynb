{
 "cells": [
  {
   "cell_type": "code",
   "execution_count": 8,
   "metadata": {},
   "outputs": [],
   "source": [
    "import zmq\n",
    "import asyncio\n",
    "import json\n",
    "import sys\n",
    "#from zalfmas_common import common\n",
    "\n",
    "\n",
    "\n",
    "\n",
    "\n",
    "\n",
    "\n",
    "\n",
    "\n"
   ]
  },
  {
   "cell_type": "code",
   "execution_count": 16,
   "metadata": {},
   "outputs": [],
   "source": [
    "with open('./monica_io/env_1.json') as f:\n",
    "    env = json.load(f)"
   ]
  },
  {
   "cell_type": "code",
   "execution_count": 17,
   "metadata": {},
   "outputs": [
    {
     "name": "stdout",
     "output_type": "stream",
     "text": [
      "{'customId': None, 'data': [], 'errors': [], 'type': 'Output', 'warnings': []}\n"
     ]
    }
   ],
   "source": [
    "\n",
    "\n",
    "context = zmq.Context()\n",
    "prod_socket = context.socket(zmq.PUSH)  # pylint: disable=no-member\n",
    "prod_socket.connect(\"tcp://localhost:6666\")\n",
    "cons_socket = context.socket(zmq.PULL)\n",
    "cons_socket.connect(\"tcp://localhost:7777\")\n",
    "\n",
    "# with open(\"/home/berg/GitHub/mas-inf\n",
    " *-rastructure/src/python/scratch_code/env_1.json\") as _:\n",
    "#     env_json = json.load(_)\n",
    "\n",
    "prod_socket.send_json(env)\n",
    "msg = cons_socket.recv_json()\n",
    "cons_socket.close()\n",
    "prod_socket.close()\n",
    "print(msg)\n"
   ]
  },
  {
   "cell_type": "code",
   "execution_count": null,
   "metadata": {},
   "outputs": [],
   "source": [
    "asyncio.run(main(standalone_config))"
   ]
  }
 ],
 "metadata": {
  "kernelspec": {
   "display_name": ".menv",
   "language": "python",
   "name": "python3"
  },
  "language_info": {
   "codemirror_mode": {
    "name": "ipython",
    "version": 3
   },
   "file_extension": ".py",
   "mimetype": "text/x-python",
   "name": "python",
   "nbconvert_exporter": "python",
   "pygments_lexer": "ipython3",
   "version": "3.12.3"
  }
 },
 "nbformat": 4,
 "nbformat_minor": 4
}
