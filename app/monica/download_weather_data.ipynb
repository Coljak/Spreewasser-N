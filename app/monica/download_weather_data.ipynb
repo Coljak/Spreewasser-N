{
 "cells": [
  {
   "cell_type": "code",
   "execution_count": 1,
   "metadata": {},
   "outputs": [],
   "source": [
    "from ftplib import FTP_TLS\n",
    "import os\n",
    "from datetime import datetime\n",
    "from dwd_server import settings\n",
    "\n",
    "def download_from_ftps(host, username, password, remote_file_path, local_file_path):\n",
    "    \"\"\"\n",
    "    Download a file from an FTPS server.\n",
    "    \n",
    "    :param host: FTPS server address\n",
    "    :param username: FTPS username\n",
    "    :param password: FTPS password\n",
    "    :param remote_file_path: Path to the file on the FTPS server\n",
    "    :param local_file_path: Path to save the file locally\n",
    "    \"\"\"\n",
    "    try:\n",
    "        # Connect to FTPS server\n",
    "        ftps = FTP_TLS(host)\n",
    "        ftps.login(user=username, passwd=password)\n",
    "        ftps.prot_p()  # Secure the data connection (uses explicit FTPS)\n",
    "\n",
    "        # Ensure the directory for the local file exists\n",
    "        os.makedirs(os.path.dirname(local_file_path), exist_ok=True)\n",
    "\n",
    "        # Download the file\n",
    "        with open(local_file_path, 'wb') as f:\n",
    "            ftps.retrbinary(f\"RETR {remote_file_path}\", f.write)\n",
    "\n",
    "        print(f\"Download complete: {local_file_path}\")\n",
    "    \n",
    "    except Exception as e:\n",
    "        print(f\"Error: {e}\")\n",
    "    \n",
    "    finally:\n",
    "        # Always close the connection\n",
    "        ftps.quit()\n",
    "\n"
   ]
  },
  {
   "cell_type": "code",
   "execution_count": 2,
   "metadata": {},
   "outputs": [],
   "source": [
    "year = datetime.now().year\n",
    "remote_folder_path = '/DWD_SpreeWasser_N/'\n",
    "vars = ['hurs', 'pr', 'rsds', 'sfcwind','tas', 'tasmax', 'tasmin']"
   ]
  },
  {
   "cell_type": "code",
   "execution_count": 3,
   "metadata": {},
   "outputs": [
    {
     "name": "stdout",
     "output_type": "stream",
     "text": [
      "Error: [Errno 110] Connection timed out\n"
     ]
    },
    {
     "ename": "UnboundLocalError",
     "evalue": "cannot access local variable 'ftps' where it is not associated with a value",
     "output_type": "error",
     "traceback": [
      "\u001b[0;31m---------------------------------------------------------------------------\u001b[0m",
      "\u001b[0;31mUnboundLocalError\u001b[0m                         Traceback (most recent call last)",
      "Cell \u001b[0;32mIn[3], line 4\u001b[0m\n\u001b[1;32m      2\u001b[0m remote_file_path \u001b[38;5;241m=\u001b[39m \u001b[38;5;124mf\u001b[39m\u001b[38;5;124m'\u001b[39m\u001b[38;5;132;01m{\u001b[39;00mremote_folder_path\u001b[38;5;132;01m}\u001b[39;00m\u001b[38;5;124mzalf_\u001b[39m\u001b[38;5;132;01m{\u001b[39;00mvar\u001b[38;5;132;01m}\u001b[39;00m\u001b[38;5;124m_amber_\u001b[39m\u001b[38;5;132;01m{\u001b[39;00myear\u001b[38;5;132;01m}\u001b[39;00m\u001b[38;5;124m_v1-0.nc\u001b[39m\u001b[38;5;124m'\u001b[39m\n\u001b[1;32m      3\u001b[0m local_file_path \u001b[38;5;241m=\u001b[39m \u001b[38;5;124mf\u001b[39m\u001b[38;5;124m'\u001b[39m\u001b[38;5;124mclimate_netcdf/zalf_\u001b[39m\u001b[38;5;132;01m{\u001b[39;00mvar\u001b[38;5;132;01m}\u001b[39;00m\u001b[38;5;124m_amber_\u001b[39m\u001b[38;5;132;01m{\u001b[39;00myear\u001b[38;5;132;01m}\u001b[39;00m\u001b[38;5;124m_v1-0.nc\u001b[39m\u001b[38;5;124m'\u001b[39m\n\u001b[0;32m----> 4\u001b[0m \u001b[43mdownload_from_ftps\u001b[49m\u001b[43m(\u001b[49m\u001b[43msettings\u001b[49m\u001b[43m[\u001b[49m\u001b[38;5;124;43m'\u001b[39;49m\u001b[38;5;124;43mhost\u001b[39;49m\u001b[38;5;124;43m'\u001b[39;49m\u001b[43m]\u001b[49m\u001b[43m,\u001b[49m\u001b[43m \u001b[49m\u001b[43msettings\u001b[49m\u001b[43m[\u001b[49m\u001b[38;5;124;43m'\u001b[39;49m\u001b[38;5;124;43musername\u001b[39;49m\u001b[38;5;124;43m'\u001b[39;49m\u001b[43m]\u001b[49m\u001b[43m,\u001b[49m\u001b[43m \u001b[49m\u001b[43msettings\u001b[49m\u001b[43m[\u001b[49m\u001b[38;5;124;43m'\u001b[39;49m\u001b[38;5;124;43mpassword\u001b[39;49m\u001b[38;5;124;43m'\u001b[39;49m\u001b[43m]\u001b[49m\u001b[43m,\u001b[49m\u001b[43m \u001b[49m\u001b[43mremote_file_path\u001b[49m\u001b[43m,\u001b[49m\u001b[43m \u001b[49m\u001b[43mlocal_file_path\u001b[49m\u001b[43m)\u001b[49m\n",
      "Cell \u001b[0;32mIn[1], line 36\u001b[0m, in \u001b[0;36mdownload_from_ftps\u001b[0;34m(host, username, password, remote_file_path, local_file_path)\u001b[0m\n\u001b[1;32m     32\u001b[0m     \u001b[38;5;28mprint\u001b[39m(\u001b[38;5;124mf\u001b[39m\u001b[38;5;124m\"\u001b[39m\u001b[38;5;124mError: \u001b[39m\u001b[38;5;132;01m{\u001b[39;00me\u001b[38;5;132;01m}\u001b[39;00m\u001b[38;5;124m\"\u001b[39m)\n\u001b[1;32m     34\u001b[0m \u001b[38;5;28;01mfinally\u001b[39;00m:\n\u001b[1;32m     35\u001b[0m     \u001b[38;5;66;03m# Always close the connection\u001b[39;00m\n\u001b[0;32m---> 36\u001b[0m     \u001b[43mftps\u001b[49m\u001b[38;5;241m.\u001b[39mquit()\n",
      "\u001b[0;31mUnboundLocalError\u001b[0m: cannot access local variable 'ftps' where it is not associated with a value"
     ]
    }
   ],
   "source": [
    "for var in vars:\n",
    "    remote_file_path = f'{remote_folder_path}zalf_{var}_amber_{year}_v1-0.nc'\n",
    "    local_file_path = f'climate_netcdf/zalf_{var}_amber_{year}_v1-0.nc'\n",
    "    download_from_ftps(settings['host'], settings['username'], settings['password'], remote_file_path, local_file_path)\n",
    "\n",
    "\n",
    "\n",
    "\n"
   ]
  },
  {
   "cell_type": "code",
   "execution_count": 9,
   "metadata": {},
   "outputs": [
    {
     "name": "stdout",
     "output_type": "stream",
     "text": [
      "Download complete: climate_netcdf/zalf_tas_amber_2024_v1-0.nc\n"
     ]
    }
   ],
   "source": [
    "var = vars[0]\n",
    "remote_file_path = f'{remote_folder_path}zalf_{var}_amber_{year}_v1-0.nc'\n",
    "local_file_path = f'climate_netcdf/zalf_{var}_amber_{year}_v1-0.nc'\n",
    "download_from_ftps(settings['host'], settings['username'], settings['password'], settings['remote_file_path'], settings['local_file_path'])\n"
   ]
  },
  {
   "cell_type": "code",
   "execution_count": 8,
   "metadata": {},
   "outputs": [
    {
     "data": {
      "text/plain": [
       "'climate_netcdf/zalf_hurs_amber_2024_v1-0.nc'"
      ]
     },
     "execution_count": 8,
     "metadata": {},
     "output_type": "execute_result"
    }
   ],
   "source": [
    "local_file_path"
   ]
  }
 ],
 "metadata": {
  "kernelspec": {
   "display_name": ".menv",
   "language": "python",
   "name": "python3"
  },
  "language_info": {
   "codemirror_mode": {
    "name": "ipython",
    "version": 3
   },
   "file_extension": ".py",
   "mimetype": "text/x-python",
   "name": "python",
   "nbconvert_exporter": "python",
   "pygments_lexer": "ipython3",
   "version": "3.12.3"
  }
 },
 "nbformat": 4,
 "nbformat_minor": 2
}
