{
 "cells": [
  {
   "cell_type": "markdown",
   "metadata": {},
   "source": [
    "In  a docker terminal run\n",
    "jupyter notebook --ip=0.0.0.0 --port=8888 --no-browser --allow-root\n",
    "\n",
    "then open jupyter in the printed link (such as http://127.0.0.1:8888/tree?token=4d9d578397aede50fc5bd2d92794b562a6bbcbc73b2dfe51)\n",
    "\n",
    "CODE HERE, REFRESH AND EXECUTE IN THE BROWSER"
   ]
  },
  {
   "cell_type": "code",
   "execution_count": 3,
   "metadata": {},
   "outputs": [],
   "source": [
    "import os\n",
    "import sys\n",
    "import django\n",
    "\n",
    "os.environ[\"DJANGO_ALLOW_ASYNC_UNSAFE\"] = \"true\"\n",
    "\n",
    "sys.path.append('/app')\n",
    "\n",
    "os.environ['DJANGO_SETTINGS_MODULE'] = 'app.settings'\n",
    "os.environ['PYTHONPATH'] = '/app'\n",
    "\n",
    "django.setup()\n"
   ]
  },
  {
   "cell_type": "code",
   "execution_count": 30,
   "metadata": {},
   "outputs": [],
   "source": [
    "from django.conf import settings\n",
    "import requests\n",
    "from requests.auth import HTTPBasicAuth\n",
    "import json"
   ]
  },
  {
   "cell_type": "code",
   "execution_count": 52,
   "metadata": {},
   "outputs": [],
   "source": [
    "GEOSERVER_URL = settings.GEOSERVER_URL + '/rest'\n",
    "GEOSERVER_USER = settings.GEOSERVER_USER\n",
    "GEOSERVER_PASS = settings.GEOSERVER_PASS\n",
    "WORKSPACE = \"spreewassern_raster\""
   ]
  },
  {
   "cell_type": "code",
   "execution_count": 7,
   "metadata": {},
   "outputs": [],
   "source": [
    "\n",
    "\n",
    "def publish_raster_geoserver(tif_path, layer_name, style_name=\"style_raster_percent\"):\n",
    "    \"\"\"\n",
    "    Publishes a GeoTIFF to GeoServer as a coverage store and attaches an existing style.\n",
    "    \"\"\"\n",
    "    store_name = layer_name\n",
    "    headers = {\"Content-type\": \"image/tiff\"}\n",
    "\n",
    "    # 1. Upload GeoTIFF to a new coverage store (overwrite if exists)\n",
    "    url = f\"{GEOSERVER_URL}/workspaces/{WORKSPACE}/coveragestores/{store_name}/file.tif\"\n",
    "    with open(tif_path, \"rb\") as f:\n",
    "        r = requests.put(\n",
    "            url,\n",
    "            data=f,\n",
    "            headers=headers,\n",
    "            auth=HTTPBasicAuth(GEOSERVER_USER, GEOSERVER_PASS),\n",
    "            params={\"configure\": \"all\", \"coverageName\": layer_name}  # ensures layer name matches\n",
    "        )\n",
    "    r.raise_for_status()\n",
    "\n",
    "    # 2. Attach existing style\n",
    "    layer_url = f\"{GEOSERVER_URL}/layers/{WORKSPACE}:{layer_name}\"\n",
    "    r = requests.put(\n",
    "        layer_url,\n",
    "        headers={\"Content-type\": \"application/xml\"},\n",
    "        data=f\"<layer><defaultStyle><name>{style_name}</name></defaultStyle></layer>\",\n",
    "        auth=HTTPBasicAuth(GEOSERVER_USER, GEOSERVER_PASS)\n",
    "    )\n",
    "    r.raise_for_status()\n"
   ]
  },
  {
   "cell_type": "code",
   "execution_count": 53,
   "metadata": {},
   "outputs": [
    {
     "data": {
      "text/plain": [
       "'http://geoserver:8080/geoserver/rest'"
      ]
     },
     "execution_count": 53,
     "metadata": {},
     "output_type": "execute_result"
    }
   ],
   "source": [
    "GEOSERVER_URL"
   ]
  },
  {
   "cell_type": "code",
   "execution_count": 80,
   "metadata": {},
   "outputs": [],
   "source": [
    "\n",
    "def create_store(tif_path, layer_name, style_name=\"style_raster_percent\"):\n",
    "    \"\"\"\n",
    "    Publishes a GeoTIFF to GeoServer as a coverage store and attaches an existing style.\n",
    "    \"\"\"\n",
    "    \n",
    "    store_name = layer_name\n",
    "\n",
    "    # create a new store in the workspace\n",
    "    payload = {\n",
    "        \"coverageStore\": {\n",
    "            \"name\": layer_name,\n",
    "            \"type\": \"GeoTIFF\",\n",
    "            \"enabled\": True,\n",
    "            \"workspace\": WORKSPACE,\n",
    "            \"url\": f\"file:{tif_path}\"\n",
    "        }\n",
    "    }\n",
    "\n",
    "    # 1. Upload GeoTIFF to a new coverage store (overwrite if exists)\n",
    "    url = f\"{GEOSERVER_URL}/workspaces/{WORKSPACE}/coveragestores\"\n",
    "\n",
    "    r = requests.post(\n",
    "        url,\n",
    "        auth=HTTPBasicAuth(GEOSERVER_USER, GEOSERVER_PASS),\n",
    "        headers={\"Content-type\": \"application/json\"},\n",
    "        data=json.dumps(payload)\n",
    "    )\n",
    "\n",
    "    r.raise_for_status()\n",
    "\n",
    "# TODO PUT/workspaces/{workspace}/coveragestores/{store}/reset\n",
    "# Reset the caches related to this specific coverage store."
   ]
  },
  {
   "cell_type": "code",
   "execution_count": 82,
   "metadata": {},
   "outputs": [],
   "source": [
    "create_store('/opt/geoserver_data/raster_data/4_mar_result.tif', '4_mar_result')\n"
   ]
  },
  {
   "cell_type": "code",
   "execution_count": 78,
   "metadata": {},
   "outputs": [],
   "source": [
    "# post the layer\n",
    "# /workspaces/{workspaceName}/coveragestores/{coveragestoreName}/coverages\n",
    "\n",
    "def publish_layer(layer_name, style_name=\"style_raster_percent\"):\n",
    "    \"\"\"\n",
    "    Publishes a GeoTIFF to GeoServer as a coverage store and attaches an existing style.\n",
    "    \"\"\"\n",
    "    coverage_url = f\"{GEOSERVER_URL}/workspaces/{WORKSPACE}/coveragestores/{layer_name}/coverages\"\n",
    "    \n",
    "    xml_payload = f\"\"\"\n",
    "        <coverage>\n",
    "            <name>{layer_name}</name>\n",
    "            <nativeCoverageName>{layer_name}</nativeCoverageName>\n",
    "            <title>{layer_name}</title>\n",
    "            <srs>EPSG:25833</srs>\n",
    "            <nativeFormat>GeoTIFF</nativeFormat>\n",
    "            <enabled>true</enabled>\n",
    "        </coverage>\n",
    "        \"\"\"\n",
    "    r = requests.post(\n",
    "        coverage_url,\n",
    "        auth=HTTPBasicAuth(GEOSERVER_USER, GEOSERVER_PASS),\n",
    "        headers={\"Content-Type\": \"text/xml\"},\n",
    "        data=xml_payload\n",
    "    )\n",
    "    r.raise_for_status()"
   ]
  },
  {
   "cell_type": "code",
   "execution_count": 79,
   "metadata": {},
   "outputs": [
    {
     "ename": "HTTPError",
     "evalue": "500 Server Error:  for url: http://geoserver:8080/geoserver/rest/workspaces/spreewassern_raster/coveragestores/2_mar_result/coverages",
     "output_type": "error",
     "traceback": [
      "\u001b[0;31m---------------------------------------------------------------------------\u001b[0m",
      "\u001b[0;31mHTTPError\u001b[0m                                 Traceback (most recent call last)",
      "Cell \u001b[0;32mIn[79], line 1\u001b[0m\n\u001b[0;32m----> 1\u001b[0m \u001b[43mpublish_layer\u001b[49m\u001b[43m(\u001b[49m\u001b[38;5;124;43m'\u001b[39;49m\u001b[38;5;124;43m2_mar_result\u001b[39;49m\u001b[38;5;124;43m'\u001b[39;49m\u001b[43m)\u001b[49m\n",
      "Cell \u001b[0;32mIn[78], line 26\u001b[0m, in \u001b[0;36mpublish_layer\u001b[0;34m(layer_name, style_name)\u001b[0m\n\u001b[1;32m     10\u001b[0m xml_payload \u001b[38;5;241m=\u001b[39m \u001b[38;5;124mf\u001b[39m\u001b[38;5;124m\"\"\"\u001b[39m\n\u001b[1;32m     11\u001b[0m \u001b[38;5;124m    <coverage>\u001b[39m\n\u001b[1;32m     12\u001b[0m \u001b[38;5;124m        <name>\u001b[39m\u001b[38;5;132;01m{\u001b[39;00mlayer_name\u001b[38;5;132;01m}\u001b[39;00m\u001b[38;5;124m</name>\u001b[39m\n\u001b[0;32m   (...)\u001b[0m\n\u001b[1;32m     18\u001b[0m \u001b[38;5;124m    </coverage>\u001b[39m\n\u001b[1;32m     19\u001b[0m \u001b[38;5;124m    \u001b[39m\u001b[38;5;124m\"\"\"\u001b[39m\n\u001b[1;32m     20\u001b[0m r \u001b[38;5;241m=\u001b[39m requests\u001b[38;5;241m.\u001b[39mpost(\n\u001b[1;32m     21\u001b[0m     coverage_url,\n\u001b[1;32m     22\u001b[0m     auth\u001b[38;5;241m=\u001b[39mHTTPBasicAuth(GEOSERVER_USER, GEOSERVER_PASS),\n\u001b[1;32m     23\u001b[0m     headers\u001b[38;5;241m=\u001b[39m{\u001b[38;5;124m\"\u001b[39m\u001b[38;5;124mContent-Type\u001b[39m\u001b[38;5;124m\"\u001b[39m: \u001b[38;5;124m\"\u001b[39m\u001b[38;5;124mtext/xml\u001b[39m\u001b[38;5;124m\"\u001b[39m},\n\u001b[1;32m     24\u001b[0m     data\u001b[38;5;241m=\u001b[39mxml_payload\n\u001b[1;32m     25\u001b[0m )\n\u001b[0;32m---> 26\u001b[0m \u001b[43mr\u001b[49m\u001b[38;5;241;43m.\u001b[39;49m\u001b[43mraise_for_status\u001b[49m\u001b[43m(\u001b[49m\u001b[43m)\u001b[49m\n",
      "File \u001b[0;32m/py/lib/python3.10/site-packages/requests/models.py:1024\u001b[0m, in \u001b[0;36mResponse.raise_for_status\u001b[0;34m(self)\u001b[0m\n\u001b[1;32m   1019\u001b[0m     http_error_msg \u001b[38;5;241m=\u001b[39m (\n\u001b[1;32m   1020\u001b[0m         \u001b[38;5;124mf\u001b[39m\u001b[38;5;124m\"\u001b[39m\u001b[38;5;132;01m{\u001b[39;00m\u001b[38;5;28mself\u001b[39m\u001b[38;5;241m.\u001b[39mstatus_code\u001b[38;5;132;01m}\u001b[39;00m\u001b[38;5;124m Server Error: \u001b[39m\u001b[38;5;132;01m{\u001b[39;00mreason\u001b[38;5;132;01m}\u001b[39;00m\u001b[38;5;124m for url: \u001b[39m\u001b[38;5;132;01m{\u001b[39;00m\u001b[38;5;28mself\u001b[39m\u001b[38;5;241m.\u001b[39murl\u001b[38;5;132;01m}\u001b[39;00m\u001b[38;5;124m\"\u001b[39m\n\u001b[1;32m   1021\u001b[0m     )\n\u001b[1;32m   1023\u001b[0m \u001b[38;5;28;01mif\u001b[39;00m http_error_msg:\n\u001b[0;32m-> 1024\u001b[0m     \u001b[38;5;28;01mraise\u001b[39;00m HTTPError(http_error_msg, response\u001b[38;5;241m=\u001b[39m\u001b[38;5;28mself\u001b[39m)\n",
      "\u001b[0;31mHTTPError\u001b[0m: 500 Server Error:  for url: http://geoserver:8080/geoserver/rest/workspaces/spreewassern_raster/coveragestores/2_mar_result/coverages"
     ]
    }
   ],
   "source": [
    "publish_layer('2_mar_result')"
   ]
  },
  {
   "cell_type": "code",
   "execution_count": 95,
   "metadata": {},
   "outputs": [
    {
     "data": {
      "text/plain": [
       "'http://geoserver:8080/geoserver/rest'"
      ]
     },
     "execution_count": 95,
     "metadata": {},
     "output_type": "execute_result"
    }
   ],
   "source": [
    "GEOSERVER_URL"
   ]
  },
  {
   "cell_type": "code",
   "execution_count": 96,
   "metadata": {},
   "outputs": [],
   "source": [
    "\n",
    "def x_publish_raster_geoserver(layer_name, style_name=\"style_raster_percent\"):\n",
    "    \"\"\"\n",
    "    Publishes a GeoTIFF to GeoServer as a coverage store and attaches an existing style.\n",
    "    \"\"\"\n",
    "    cache_url = f\"http://geoserver:8080/geoserver/gwc/rest/seed/{WORKSPACE}:{layer_name}.xml\"\n",
    "    r = requests.delete(\n",
    "        cache_url,\n",
    "        auth=HTTPBasicAuth(GEOSERVER_USER, GEOSERVER_PASS)\n",
    "    )\n",
    "    print(f\"Cache for {layer_name} cleared (status {r.status_code})\")\n",
    "\n",
    "    url = f\"{GEOSERVER_URL}/workspaces/{WORKSPACE}/coveragestores/{layer_name}/file.geotiff\"\n",
    "    with open(f\"/app/raster_data/{layer_name}.tif\", \"rb\") as f:\n",
    "        r = requests.put(\n",
    "            url,\n",
    "            auth=HTTPBasicAuth(GEOSERVER_USER, GEOSERVER_PASS),\n",
    "            headers={\"Content-type\": \"image/tiff\"},\n",
    "            params={\"configure\": \"all\", \"coverageName\": layer_name},\n",
    "            data=f\n",
    "        )\n",
    "    r.raise_for_status()\n",
    "    print(f\"Raster {layer_name} uploaded successfully\")\n",
    "\n",
    "    # Apply style\n",
    "    layer_url = f\"{GEOSERVER_URL}/layers/{WORKSPACE}:{layer_name}\"\n",
    "    style_xml = f\"\"\"\n",
    "    <layer>\n",
    "        <defaultStyle>\n",
    "            <name>{style_name}</name>\n",
    "        </defaultStyle>\n",
    "    </layer>\n",
    "    \"\"\"\n",
    "    r = requests.put(\n",
    "        layer_url,\n",
    "        auth=HTTPBasicAuth(GEOSERVER_USER, GEOSERVER_PASS),\n",
    "        headers={\"Content-type\": \"application/xml\"},\n",
    "        data=style_xml\n",
    "    )\n",
    "    r.raise_for_status()\n",
    "    print(f\"Style '{style_name}' applied to layer '{layer_name}'\")\n"
   ]
  },
  {
   "cell_type": "code",
   "execution_count": 97,
   "metadata": {},
   "outputs": [
    {
     "name": "stdout",
     "output_type": "stream",
     "text": [
      "Cache for 9_mar_result cleared (status 405)\n",
      "Raster 9_mar_result uploaded successfully\n",
      "Style 'style_raster_percent' applied to layer '9_mar_result'\n"
     ]
    }
   ],
   "source": [
    "x_publish_raster_geoserver('9_mar_result')"
   ]
  },
  {
   "cell_type": "code",
   "execution_count": null,
   "metadata": {},
   "outputs": [],
   "source": [
    "payload = {\n",
    "    \"coverage\": {\n",
    "        \"abstract\": \"Digital elevation model for the Spearfish region.\\r\\n\\r\\nsfdem is a Tagged Image File Format with Geographic information\",\n",
    "        \"defaultInterpolationMethod\": \"nearest neighbor\",\n",
    "        \"description\": \"Generated from sfdem\",\n",
    "        \"dimensions\": {\n",
    "          \"coverageDimension\": [\n",
    "            {\n",
    "              \"description\": \"GridSampleDimension[-9.999999933815813E36,-9.999999933815813E36]\",\n",
    "              \"name\": \"GRAY_INDEX\",\n",
    "              \"range\": {\n",
    "                \"max\": -9.999999933815813e+36,\n",
    "                \"min\": -9.999999933815813e+36\n",
    "              }\n",
    "            }\n",
    "          ]\n",
    "        },\n",
    "        \"enabled\": true,\n",
    "        \"grid\": {\n",
    "          \"@dimension\": \"2\",\n",
    "          \"crs\": \"EPSG:26713\",\n",
    "          \"range\": {\n",
    "            \"high\": \"634 477\",\n",
    "            \"low\": \"0 0\"\n",
    "          },\n",
    "          \"transform\": {\n",
    "            \"scaleX\": 30,\n",
    "            \"scaleY\": -30,\n",
    "            \"shearX\": 0,\n",
    "            \"shearY\": 0,\n",
    "            \"translateX\": 589995,\n",
    "            \"translateY\": 4927995\n",
    "          }\n",
    "        },\n",
    "        \"interpolationMethods\": {\n",
    "          \"string\": [\n",
    "            \"nearest neighbor\",\n",
    "            \"bilinear\",\n",
    "            \"bicubic\"\n",
    "          ]\n",
    "        },\n",
    "        \"keywords\": {\n",
    "          \"string\": [\n",
    "            \"WCS\",\n",
    "            \"sfdem\",\n",
    "            \"sfdem\",\n",
    "            \"type\\\\@language=fr\\\\;\\\\@vocabulary=test\\\\;\"\n",
    "          ]\n",
    "        },\n",
    "        \"latLonBoundingBox\": {\n",
    "          \"crs\": \"EPSG:4326\",\n",
    "          \"maxx\": -103.62940739432703,\n",
    "          \"maxy\": 44.5016011535299,\n",
    "          \"minx\": -103.87108701853181,\n",
    "          \"miny\": 44.370187074132616\n",
    "        },\n",
    "        \"metadata\": {\n",
    "          \"entry\": [\n",
    "            {\n",
    "              \"@key\": \"elevation\",\n",
    "              \"dimensionInfo\": {\n",
    "                \"enabled\": false\n",
    "              }\n",
    "            },\n",
    "            {\n",
    "              \"$\": \"10\",\n",
    "              \"@key\": \"cacheAgeMax\"\n",
    "            },\n",
    "            {\n",
    "              \"@key\": \"time\",\n",
    "              \"dimensionInfo\": {\n",
    "                \"defaultValue\": \"\",\n",
    "                \"enabled\": false\n",
    "              }\n",
    "            },\n",
    "            {\n",
    "              \"$\": \"true\",\n",
    "              \"@key\": \"cachingEnabled\"\n",
    "            },\n",
    "            {\n",
    "              \"$\": \"sfdem_sfdem\",\n",
    "              \"@key\": \"dirName\"\n",
    "            }\n",
    "          ]\n",
    "        },\n",
    "        \"name\": \"sfdem\",\n",
    "        \"namespace\": {\n",
    "          \"href\": \"http://localhost:8075/geoserver/restng/namespaces/sf.json\",\n",
    "          \"name\": \"sf\"\n",
    "        },\n",
    "        \"nativeBoundingBox\": {\n",
    "          \"crs\": {\n",
    "            \"$\": \"EPSG:26713\",\n",
    "            \"@class\": \"projected\"\n",
    "          },\n",
    "          \"maxx\": 609000,\n",
    "          \"maxy\": 4928010,\n",
    "          \"minx\": 589980,\n",
    "          \"miny\": 4913700\n",
    "        },\n",
    "        \"nativeCRS\": {\n",
    "          \"$\": \"PROJCS[\\\"NAD27 / UTM zone 13N\\\", \\n  GEOGCS[\\\"NAD27\\\", \\n    DATUM[\\\"North American Datum 1927\\\", \\n      SPHEROID[\\\"Clarke 1866\\\", 6378206.4, 294.9786982138982, AUTHORITY[\\\"EPSG\\\",\\\"7008\\\"]], \\n      TOWGS84[2.478, 149.752, 197.726, 0.526, -0.498, 0.501, 0.685], \\n      AUTHORITY[\\\"EPSG\\\",\\\"6267\\\"]], \\n    PRIMEM[\\\"Greenwich\\\", 0.0, AUTHORITY[\\\"EPSG\\\",\\\"8901\\\"]], \\n    UNIT[\\\"degree\\\", 0.017453292519943295], \\n    AXIS[\\\"Geodetic longitude\\\", EAST], \\n    AXIS[\\\"Geodetic latitude\\\", NORTH], \\n    AUTHORITY[\\\"EPSG\\\",\\\"4267\\\"]], \\n  PROJECTION[\\\"Transverse_Mercator\\\", AUTHORITY[\\\"EPSG\\\",\\\"9807\\\"]], \\n  PARAMETER[\\\"central_meridian\\\", -105.0], \\n  PARAMETER[\\\"latitude_of_origin\\\", 0.0], \\n  PARAMETER[\\\"scale_factor\\\", 0.9996], \\n  PARAMETER[\\\"false_easting\\\", 500000.0], \\n  PARAMETER[\\\"false_northing\\\", 0.0], \\n  UNIT[\\\"m\\\", 1.0], \\n  AXIS[\\\"Easting\\\", EAST], \\n  AXIS[\\\"Northing\\\", NORTH], \\n  AUTHORITY[\\\"EPSG\\\",\\\"26713\\\"]]\",\n",
    "          \"@class\": \"projected\"\n",
    "        },\n",
    "        \"nativeFormat\": \"GeoTIFF\",\n",
    "        \"nativeName\": \"sfdem\",\n",
    "        \"requestSRS\": {\n",
    "          \"string\": [\n",
    "            \"EPSG:26713\"\n",
    "          ]\n",
    "        },\n",
    "        \"responseSRS\": {\n",
    "          \"string\": [\n",
    "            \"EPSG:26713\"\n",
    "          ]\n",
    "        },\n",
    "        \"srs\": \"EPSG:26713\",\n",
    "        \"store\": {\n",
    "          \"@class\": \"coverageStore\",\n",
    "          \"href\": \"http://localhost:8075/geoserver/restng/workspaces/sf/coveragestores/sfdem.json\",\n",
    "          \"name\": \"sf:sfdem\"\n",
    "        },\n",
    "        \"supportedFormats\": {\n",
    "          \"string\": [\n",
    "            \"ARCGRID\",\n",
    "            \"IMAGEMOSAIC\",\n",
    "            \"GTOPO30\",\n",
    "            \"GEOTIFF\",\n",
    "            \"GIF\",\n",
    "            \"PNG\",\n",
    "            \"JPEG\",\n",
    "            \"TIFF\"\n",
    "          ]\n",
    "        },\n",
    "        \"title\": \"Spearfish elevation\"\n",
    "      }\n",
    "    }"
   ]
  },
  {
   "cell_type": "code",
   "execution_count": 50,
   "metadata": {},
   "outputs": [
    {
     "data": {
      "text/plain": [
       "<Response [200]>"
      ]
     },
     "execution_count": 50,
     "metadata": {},
     "output_type": "execute_result"
    }
   ],
   "source": []
  },
  {
   "cell_type": "raw",
   "metadata": {},
   "source": [
    "resp.raw"
   ]
  },
  {
   "cell_type": "code",
   "execution_count": 76,
   "metadata": {},
   "outputs": [],
   "source": [
    "def publish_layer(layer_name, style_name=\"style_raster_percent\"):\n",
    "    \"\"\"\n",
    "    Publishes the coverage (layer) from an existing coverage store and applies an existing style.\n",
    "    \"\"\"\n",
    "    # 1. Publish coverage (layer)\n",
    "    # http://localhost:8080/geoserver/rest/workspaces/spreewassern_raster/coveragestores/2_mar_result/coverages\n",
    "    coverage_url = f\"{GEOSERVER_URL}/workspaces/{WORKSPACE}/coveragestores/{layer_name}/coverages\"\n",
    "    print(coverage_url)\n",
    "    xml_payload = f\"\"\"\n",
    "        <coverage>\n",
    "            <name>{layer_name}</name>\n",
    "            <nativeCoverageName>{layer_name}</nativeCoverageName>\n",
    "            <title>{layer_name}</title>\n",
    "            <srs>EPSG:25833</srs>\n",
    "            <nativeFormat>GeoTIFF</nativeFormat>\n",
    "            <enabled>true</enabled>\n",
    "        </coverage>\n",
    "        \"\"\"\n",
    "    \n",
    "    r = requests.post(\n",
    "        coverage_url,\n",
    "        auth=HTTPBasicAuth(GEOSERVER_USER, GEOSERVER_PASS),\n",
    "        headers={\"Content-Type\": \"text/xml\"},\n",
    "        data=xml_payload\n",
    "    )\n",
    "   # r.raise_for_status()\n"
   ]
  },
  {
   "cell_type": "code",
   "execution_count": 77,
   "metadata": {},
   "outputs": [
    {
     "name": "stdout",
     "output_type": "stream",
     "text": [
      "http://geoserver:8080/geoserver/rest/workspaces/spreewassern_raster/coveragestores/2_mar_result/coverages\n"
     ]
    }
   ],
   "source": [
    "publish_layer('2_mar_result')"
   ]
  },
  {
   "cell_type": "code",
   "execution_count": 109,
   "metadata": {},
   "outputs": [],
   "source": [
    "def delete_geoserver_layer(workspace, layer_name):\n",
    "    \"\"\"\n",
    "    Clears GeoWebCache tiles for a specific layer in GeoServer.\n",
    "    \"\"\"\n",
    "    url = f\"{GEOSERVER_URL}/gwc/rest/layers/{workspace}:{layer_name}.xml\"\n",
    "    \n",
    "    r = requests.delete(\n",
    "        url,\n",
    "        auth=HTTPBasicAuth(GEOSERVER_USER, GEOSERVER_PASS),\n",
    "    )\n",
    "\n",
    "    if r.status_code in (200, 202, 204):\n",
    "        print(f\"✅ Cache for {workspace}:{layer_name} cleared successfully\")\n",
    "    else:\n",
    "        print(f\"⚠️ Failed to clear cache: {r.status_code} - {r.text}\")\n",
    "        r.raise_for_status()\n"
   ]
  },
  {
   "cell_type": "code",
   "execution_count": 111,
   "metadata": {},
   "outputs": [],
   "source": [
    "def clear_gwc_cache(workspace, layer_name):\n",
    "    url = f\"{settings.GEOSERVER_URL}/gwc/rest/seed/{workspace}:{layer_name}.xml\"\n",
    "    r = requests.delete(\n",
    "        url,\n",
    "        auth=HTTPBasicAuth(settings.GEOSERVER_USER, settings.GEOSERVER_PASS),\n",
    "        headers={\"Accept\": \"application/xml\"}\n",
    "    )\n",
    "    if r.status_code in (200, 202, 204):\n",
    "        print(f\"✅ Cache for {workspace}:{layer_name} cleared successfully\")\n",
    "    elif r.status_code == 404:\n",
    "        print(f\"ℹ️ No cache existed yet for {workspace}:{layer_name}\")\n",
    "    else:\n",
    "        print(f\"⚠️ Failed to clear cache: {r.status_code} - {r.text}\")\n",
    "        r.raise_for_status()\n"
   ]
  },
  {
   "cell_type": "code",
   "execution_count": 112,
   "metadata": {},
   "outputs": [
    {
     "name": "stdout",
     "output_type": "stream",
     "text": [
      "⚠️ Failed to clear cache: 405 - \n"
     ]
    },
    {
     "ename": "HTTPError",
     "evalue": "405 Client Error:  for url: http://geoserver:8080/geoserver/gwc/rest/seed/spreewassern_raster:9_mar_result.xml",
     "output_type": "error",
     "traceback": [
      "\u001b[0;31m---------------------------------------------------------------------------\u001b[0m",
      "\u001b[0;31mHTTPError\u001b[0m                                 Traceback (most recent call last)",
      "Cell \u001b[0;32mIn[112], line 1\u001b[0m\n\u001b[0;32m----> 1\u001b[0m \u001b[43mclear_gwc_cache\u001b[49m\u001b[43m(\u001b[49m\u001b[38;5;124;43m\"\u001b[39;49m\u001b[38;5;124;43mspreewassern_raster\u001b[39;49m\u001b[38;5;124;43m\"\u001b[39;49m\u001b[43m,\u001b[49m\u001b[43m \u001b[49m\u001b[38;5;124;43m\"\u001b[39;49m\u001b[38;5;124;43m9_mar_result\u001b[39;49m\u001b[38;5;124;43m\"\u001b[39;49m\u001b[43m)\u001b[49m\n",
      "Cell \u001b[0;32mIn[111], line 14\u001b[0m, in \u001b[0;36mclear_gwc_cache\u001b[0;34m(workspace, layer_name)\u001b[0m\n\u001b[1;32m     12\u001b[0m \u001b[38;5;28;01melse\u001b[39;00m:\n\u001b[1;32m     13\u001b[0m     \u001b[38;5;28mprint\u001b[39m(\u001b[38;5;124mf\u001b[39m\u001b[38;5;124m\"\u001b[39m\u001b[38;5;124m⚠️ Failed to clear cache: \u001b[39m\u001b[38;5;132;01m{\u001b[39;00mr\u001b[38;5;241m.\u001b[39mstatus_code\u001b[38;5;132;01m}\u001b[39;00m\u001b[38;5;124m - \u001b[39m\u001b[38;5;132;01m{\u001b[39;00mr\u001b[38;5;241m.\u001b[39mtext\u001b[38;5;132;01m}\u001b[39;00m\u001b[38;5;124m\"\u001b[39m)\n\u001b[0;32m---> 14\u001b[0m     \u001b[43mr\u001b[49m\u001b[38;5;241;43m.\u001b[39;49m\u001b[43mraise_for_status\u001b[49m\u001b[43m(\u001b[49m\u001b[43m)\u001b[49m\n",
      "File \u001b[0;32m/py/lib/python3.10/site-packages/requests/models.py:1024\u001b[0m, in \u001b[0;36mResponse.raise_for_status\u001b[0;34m(self)\u001b[0m\n\u001b[1;32m   1019\u001b[0m     http_error_msg \u001b[38;5;241m=\u001b[39m (\n\u001b[1;32m   1020\u001b[0m         \u001b[38;5;124mf\u001b[39m\u001b[38;5;124m\"\u001b[39m\u001b[38;5;132;01m{\u001b[39;00m\u001b[38;5;28mself\u001b[39m\u001b[38;5;241m.\u001b[39mstatus_code\u001b[38;5;132;01m}\u001b[39;00m\u001b[38;5;124m Server Error: \u001b[39m\u001b[38;5;132;01m{\u001b[39;00mreason\u001b[38;5;132;01m}\u001b[39;00m\u001b[38;5;124m for url: \u001b[39m\u001b[38;5;132;01m{\u001b[39;00m\u001b[38;5;28mself\u001b[39m\u001b[38;5;241m.\u001b[39murl\u001b[38;5;132;01m}\u001b[39;00m\u001b[38;5;124m\"\u001b[39m\n\u001b[1;32m   1021\u001b[0m     )\n\u001b[1;32m   1023\u001b[0m \u001b[38;5;28;01mif\u001b[39;00m http_error_msg:\n\u001b[0;32m-> 1024\u001b[0m     \u001b[38;5;28;01mraise\u001b[39;00m HTTPError(http_error_msg, response\u001b[38;5;241m=\u001b[39m\u001b[38;5;28mself\u001b[39m)\n",
      "\u001b[0;31mHTTPError\u001b[0m: 405 Client Error:  for url: http://geoserver:8080/geoserver/gwc/rest/seed/spreewassern_raster:9_mar_result.xml"
     ]
    }
   ],
   "source": [
    "clear_gwc_cache(\"spreewassern_raster\", \"9_mar_result\")"
   ]
  },
  {
   "cell_type": "code",
   "execution_count": 110,
   "metadata": {},
   "outputs": [
    {
     "name": "stdout",
     "output_type": "stream",
     "text": [
      "⚠️ Failed to clear cache: 404 - Unknown layer: spreewassern_raster:9_mar_result\n"
     ]
    },
    {
     "ename": "HTTPError",
     "evalue": "404 Client Error:  for url: http://geoserver:8080/geoserver/gwc/rest/layers/spreewassern_raster:9_mar_result.xml",
     "output_type": "error",
     "traceback": [
      "\u001b[0;31m---------------------------------------------------------------------------\u001b[0m",
      "\u001b[0;31mHTTPError\u001b[0m                                 Traceback (most recent call last)",
      "Cell \u001b[0;32mIn[110], line 1\u001b[0m\n\u001b[0;32m----> 1\u001b[0m \u001b[43mdelete_geoserver_layer\u001b[49m\u001b[43m(\u001b[49m\u001b[38;5;124;43m\"\u001b[39;49m\u001b[38;5;124;43mspreewassern_raster\u001b[39;49m\u001b[38;5;124;43m\"\u001b[39;49m\u001b[43m,\u001b[49m\u001b[43m \u001b[49m\u001b[38;5;124;43m\"\u001b[39;49m\u001b[38;5;124;43m9_mar_result\u001b[39;49m\u001b[38;5;124;43m\"\u001b[39;49m\u001b[43m)\u001b[49m\n",
      "Cell \u001b[0;32mIn[109], line 16\u001b[0m, in \u001b[0;36mdelete_geoserver_layer\u001b[0;34m(workspace, layer_name)\u001b[0m\n\u001b[1;32m     14\u001b[0m \u001b[38;5;28;01melse\u001b[39;00m:\n\u001b[1;32m     15\u001b[0m     \u001b[38;5;28mprint\u001b[39m(\u001b[38;5;124mf\u001b[39m\u001b[38;5;124m\"\u001b[39m\u001b[38;5;124m⚠️ Failed to clear cache: \u001b[39m\u001b[38;5;132;01m{\u001b[39;00mr\u001b[38;5;241m.\u001b[39mstatus_code\u001b[38;5;132;01m}\u001b[39;00m\u001b[38;5;124m - \u001b[39m\u001b[38;5;132;01m{\u001b[39;00mr\u001b[38;5;241m.\u001b[39mtext\u001b[38;5;132;01m}\u001b[39;00m\u001b[38;5;124m\"\u001b[39m)\n\u001b[0;32m---> 16\u001b[0m     \u001b[43mr\u001b[49m\u001b[38;5;241;43m.\u001b[39;49m\u001b[43mraise_for_status\u001b[49m\u001b[43m(\u001b[49m\u001b[43m)\u001b[49m\n",
      "File \u001b[0;32m/py/lib/python3.10/site-packages/requests/models.py:1024\u001b[0m, in \u001b[0;36mResponse.raise_for_status\u001b[0;34m(self)\u001b[0m\n\u001b[1;32m   1019\u001b[0m     http_error_msg \u001b[38;5;241m=\u001b[39m (\n\u001b[1;32m   1020\u001b[0m         \u001b[38;5;124mf\u001b[39m\u001b[38;5;124m\"\u001b[39m\u001b[38;5;132;01m{\u001b[39;00m\u001b[38;5;28mself\u001b[39m\u001b[38;5;241m.\u001b[39mstatus_code\u001b[38;5;132;01m}\u001b[39;00m\u001b[38;5;124m Server Error: \u001b[39m\u001b[38;5;132;01m{\u001b[39;00mreason\u001b[38;5;132;01m}\u001b[39;00m\u001b[38;5;124m for url: \u001b[39m\u001b[38;5;132;01m{\u001b[39;00m\u001b[38;5;28mself\u001b[39m\u001b[38;5;241m.\u001b[39murl\u001b[38;5;132;01m}\u001b[39;00m\u001b[38;5;124m\"\u001b[39m\n\u001b[1;32m   1021\u001b[0m     )\n\u001b[1;32m   1023\u001b[0m \u001b[38;5;28;01mif\u001b[39;00m http_error_msg:\n\u001b[0;32m-> 1024\u001b[0m     \u001b[38;5;28;01mraise\u001b[39;00m HTTPError(http_error_msg, response\u001b[38;5;241m=\u001b[39m\u001b[38;5;28mself\u001b[39m)\n",
      "\u001b[0;31mHTTPError\u001b[0m: 404 Client Error:  for url: http://geoserver:8080/geoserver/gwc/rest/layers/spreewassern_raster:9_mar_result.xml"
     ]
    }
   ],
   "source": [
    "delete_geoserver_layer(\"spreewassern_raster\", \"9_mar_result\")"
   ]
  },
  {
   "cell_type": "code",
   "execution_count": null,
   "metadata": {},
   "outputs": [],
   "source": []
  }
 ],
 "metadata": {
  "kernelspec": {
   "display_name": "Python 3 (ipykernel)",
   "language": "python",
   "name": "python3"
  },
  "language_info": {
   "codemirror_mode": {
    "name": "ipython",
    "version": 3
   },
   "file_extension": ".py",
   "mimetype": "text/x-python",
   "name": "python",
   "nbconvert_exporter": "python",
   "pygments_lexer": "ipython3",
   "version": "3.10.12"
  }
 },
 "nbformat": 4,
 "nbformat_minor": 4
}
